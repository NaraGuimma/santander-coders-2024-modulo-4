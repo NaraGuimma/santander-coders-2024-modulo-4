{
 "cells": [
  {
   "cell_type": "code",
   "execution_count": 0,
   "metadata": {
    "application/vnd.databricks.v1+cell": {
     "cellMetadata": {
      "byteLimit": 2048000,
      "rowLimit": 10000
     },
     "inputWidgets": {},
     "nuid": "172659af-a074-48ad-a53c-95fcf1e72311",
     "showTitle": false,
     "title": ""
    }
   },
   "outputs": [],
   "source": [
    "import requests\n",
    "import json\n",
    "from datetime import datetime, timedelta\n",
    "from typing import List, Dict\n",
    "from pyspark.sql import SparkSession, DataFrame\n",
    "from pyspark.sql.functions import col, lit\n",
    "import os\n",
    "import matplotlib.pyplot as plt\n",
    "import seaborn as sns"
   ]
  },
  {
   "cell_type": "code",
   "execution_count": 0,
   "metadata": {
    "application/vnd.databricks.v1+cell": {
     "cellMetadata": {
      "byteLimit": 2048000,
      "rowLimit": 10000
     },
     "inputWidgets": {},
     "nuid": "adc48093-651e-4455-a627-c1e8a67e0415",
     "showTitle": false,
     "title": ""
    }
   },
   "outputs": [],
   "source": [
    "%run /Shared/Nara/projeto_final/env"
   ]
  },
  {
   "cell_type": "code",
   "execution_count": 0,
   "metadata": {
    "application/vnd.databricks.v1+cell": {
     "cellMetadata": {
      "byteLimit": 2048000,
      "rowLimit": 10000
     },
     "inputWidgets": {},
     "nuid": "45fd012c-354f-44cb-8c9c-277d8f997430",
     "showTitle": false,
     "title": ""
    }
   },
   "outputs": [
    {
     "output_type": "display_data",
     "data": {
      "text/html": [
       "<style scoped>\n",
       "  .table-result-container {\n",
       "    max-height: 300px;\n",
       "    overflow: auto;\n",
       "  }\n",
       "  table, th, td {\n",
       "    border: 1px solid black;\n",
       "    border-collapse: collapse;\n",
       "  }\n",
       "  th, td {\n",
       "    padding: 5px;\n",
       "  }\n",
       "  th {\n",
       "    text-align: left;\n",
       "  }\n",
       "</style><div class='table-result-container'><table class='table-result'><thead style='background-color: white'><tr><th>author</th><th>content</th><th>description</th><th>publishedAt</th><th>title</th><th>url</th><th>urlToImage</th><th>from_date</th><th>source_id</th><th>source_name</th><th>description_pt</th><th>content_pt</th><th>title_pt</th></tr></thead><tbody><tr><td>null</td><td>O DNA de ursos polares que viveram entre 100 mil anos e 70 mil anos atrás indica que o material genético que hoje caracteriza a espécie ainda não estava totalmente presente nessa época. É como se os … [+3505 chars]</td><td>Estudo aponta para possibilidade de boa parte do processo de adaptação desses bichos ao Ártico ter acontecido antes que pelagem totalmente branca fosse traço universal da espécie</td><td>2024-09-21T01:36:19Z</td><td>null</td><td>https://www1.folha.uol.com.br/ciencia/2024/09/ursos-polares-ainda-nao-eram-tao-polares-assim-ha-cerca-de-100-mil-anos.shtml</td><td>https://f.i.uol.com.br/fotografia/2024/09/17/172660206466e9db50d55f7_1726602064_3x2_rt.jpg</td><td>2024-09-20</td><td>null</td><td>Uol.com.br</td><td>Estudo aponta para possibilidade de boa parte do processo de adaptação desses bichos ao Ártico ter acontecido antes que pelagem totalmente branca fosse traço universal da espécie</td><td>O DNA de ursos polares que viveram entre 100 mil anos e 70 mil anos atrás indica que o material genético que hoje caracteriza a espécie ainda não estava totalmente presente nessa época. É como se os … [+3505 chars]</td><td>null</td></tr><tr><td>null</td><td>Captive tigers in the United States outnumber those living in the wild. The World Wildlife Federation estimates around 5,000 of the big cats reside in the U.S., mostly owned by private citizens.\r\n",
       "The… [+8507 chars]</td><td>Using DNA from rescued captive tigers in the U.S., Stanford researchers have developed a genetic reference panel that can help identify tigers suitable for conservation and prosecute animal abusers.</td><td>2024-09-19T00:00:00Z</td><td>Can captive tigers be part of the effort to save wild populations?</td><td>https://news.stanford.edu/stories/2024/09/can-captive-tigers-be-part-of-the-effort-to-save-wild-populations</td><td>https://news.stanford.edu/__data/assets/image/0036/159597/Nyla_Blanca_InSyncExotics.jpg</td><td>2024-09-19</td><td>null</td><td>Stanford.edu</td><td>Usando DNA de tigres resgatados em cativeiro nos EUA, pesquisadores de Stanford desenvolveram um painel de referência genética que pode ajudar a identificar tigres adequados para conservação e processar abusadores de animais.</td><td>Tigres em cativeiro nos Estados Unidos superam em número aqueles que vivem na natureza. A World Wildlife Federation estima que cerca de 5.000 desses grandes felinos residem nos EUA, a maioria de propriedade de cidadãos privados. \n",
       "O… [+8507 caracteres]</td><td>Tigres em cativeiro podem fazer parte do esforço para salvar populações selvagens?</td></tr><tr><td>null</td><td>Genome-wide association studies have great potential for advancing our understanding of the genetic background of diseases, but so far, few association studies have focused on maternal and newborn di… [+2729 chars]</td><td>Genome-wide association studies have great potential for advancing our understanding of the genetic background of diseases, but so far, few association studies have focused on maternal and newborn diseases, and most have been based on predominantly European p…</td><td>2024-10-09T16:15:44Z</td><td>Genetic analysis of 25,000 Chinese mothers and infants reveals unique genes associated with disease risk</td><td>https://www.sciencedaily.com/releases/2024/10/241009121544.htm</td><td>https://www.sciencedaily.com/images/scidaily-icon.png</td><td>2024-10-09</td><td>null</td><td>Science Daily</td><td>Estudos de associação em todo o genoma têm grande potencial para avançar nossa compreensão do contexto genético das doenças, mas até agora, poucos estudos de associação se concentraram em doenças maternas e neonatais, e a maioria foi baseada em pesquisas predominantemente europeias.</td><td>Estudos de associação em todo o genoma têm grande potencial para avançar nossa compreensão do contexto genético das doenças, mas até agora, poucos estudos de associação se concentraram em doenças maternas e neonatais… [+2729 caracteres]</td><td>Análise genética de 25.000 mães e bebês chineses revela genes únicos associados ao risco de doenças</td></tr><tr><td>null</td><td>In 1898, two male lions terrorized an encampment of bridge builders on the Tsavo River in Kenya. The lions, which were massive and maneless, crept into the camp at night, raided the tents and dragged… [+7186 chars]</td><td>Scientists analyzed hairs extracted from the broken teeth of two 19th century 'man-eater' lions. Their analysis revealed DNA from giraffe, human, oryx, waterbuck, wildebeest and zebra as prey, along with hairs that originated from the lions.</td><td>2024-10-11T18:09:45Z</td><td>Genomic study identifies human, animal hair in 'man-eater' lions' teeth</td><td>https://www.sciencedaily.com/releases/2024/10/241011140945.htm</td><td>https://www.sciencedaily.com/images/scidaily-icon.png</td><td>2024-10-10</td><td>null</td><td>Science Daily</td><td>Cientistas analisaram pelos extraídos de dentes quebrados de dois leões 'devoradores de homens' do século 19. A análise revelou DNA de girafa, humano, órix, antílope aquático, gnu e zebra como presas, junto com pelos originários dos leões.</td><td>Em 1898, dois leões machos aterrorizaram um acampamento de construtores de pontes no Rio Tsavo, no Quênia. Os leões, que eram enormes e sem juba, entraram furtivamente no acampamento à noite, invadiram as tendas e arrastaram… [+7186 caracteres]</td><td>Estudo genômico identifica pelos humanos e animais em dentes de leões 'devoradores de homens'</td></tr><tr><td>null</td><td>Naukowcy s o krok bliej do rozwizania zagadki ostatniego wielkiego wymierania ludzkoci i odpowiedzi na pytanie, dlaczego wyginli neandertalczycy. Neandertalczycy s naszymi najbliszymi staroytnymi kre… [+5505 chars]</td><td>Naukowcy odkryli nowe informacje na temat jednego z ostatnich żyjących neandertalczyków. Sekwencjonując DNA z jednego z zębów, odkryli zupełnie nową linię genetyczną. Wskazuje ona na rozmnażanie się w niewielkiej puli genetycznej, co może pomóc wyjaśnić, dlac…</td><td>2024-10-05T14:18:13Z</td><td>Kazirodztwo wykończyło neandertalczyków? Badania DNA rzucają nowe światło na historię świata</td><td>https://businessinsider.com.pl/technologie/nauka/kazirodztwo-wykonczylo-neandertalczykow-badania-dna-rzucaja-nowe-spojrzenie-na/3ry55j3</td><td>https://ocdn.eu/pulscms-transforms/1/K8vk9kpTURBXy8wODQ0YjkxZTk2NjYyYmIzZTUyOWVhNGMyNzBhNWFjZi5qcGeSlQMAzJ_NFAPNC0KTBc0EsM0Cdt4AAaEwAQ</td><td>2024-10-04</td><td>null</td><td>Businessinsider.com.pl</td><td>Os cientistas descobriram novas informações sobre um dos últimos Neandertais vivos. Ao sequenciar o DNA de um dos dentes, eles descobriram uma linha genética completamente nova. Indica reprodução num pequeno pool genético, o que pode ajudar a explicar porquê...</td><td>Os cientistas estão um passo mais perto de resolver o mistério da última grande extinção da humanidade e de responder à questão de por que os Neandertais foram extintos. Os neandertais são nossas criaturas antigas mais próximas… [+5505 caracteres]</td><td>O incesto acabou com os Neandertais? Pesquisa de DNA lança nova luz sobre a história mundial</td></tr><tr><td>null</td><td>Researchers at Yale School of Medicine, found a higher concentration of a specific kind of DNA -- extrachromosomal or ecDNA -- in more aggressive and advanced cancers that could mark them as targets … [+2329 chars]</td><td>Researchers found a higher concentration of a specific kind of DNA -- extrachromosomal or ecDNA -- in more aggressive and advanced cancers that could mark them as targets for future therapies. They found significantly higher amounts of ecDNA in tumors from pr…</td><td>2024-10-17T15:37:04Z</td><td>Specific type of DNA could be a target of future cancer therapies</td><td>https://www.sciencedaily.com/releases/2024/10/241017113704.htm</td><td>https://www.sciencedaily.com/images/scidaily-icon.png</td><td>2024-10-16</td><td>null</td><td>Science Daily</td><td>Pesquisadores encontraram uma concentração maior de um tipo específico de DNA -- extracromossômico ou ecDNA -- em cânceres mais agressivos e avançados que poderiam marcá-los como alvos para terapias futuras. Eles encontraram quantidades significativamente maiores de ecDNA em tumores de pr…</td><td>Pesquisadores da Escola de Medicina de Yale encontraram uma concentração maior de um tipo específico de DNA — extracromossômico ou ecDNA — em cânceres mais agressivos e avançados, o que poderia marcá-los como alvos … [+2329 caracteres]</td><td>Um tipo específico de DNA pode ser alvo de futuras terapias contra o câncer</td></tr><tr><td>Andrea Fasolo, Saptarathi Deb, Piergiorgio Stevanato, Giuseppe Concheri, Andrea Squartini</td><td>Introduction\r\n",
       "The stages of development of high-throughput and Next Generation Sequencing methods have unfolded at such a fast pace in the past two decades, that nowadays the term NGS itself is sound… [+42336 chars]</td><td>In microbial community sequencing, involving bacterial ribosomal 16S rDNA or fungal ITS, the targeted genes are the basis for taxonomical assignment. The traditional bioinformatical procedure has for decades made use of a clustering protocol by which sequence…</td><td>2024-10-03T14:00:00Z</td><td>ASV vs OTUs clustering: Effects on alpha, beta, and gamma diversities in microbiome metabarcoding studies</td><td>https://journals.plos.org/plosone/article?id=10.1371/journal.pone.0309065</td><td>https://journals.plos.org/plosone/article/figure/image?id=10.1371/journal.pone.0309065.g005&size=inline</td><td>2024-10-02</td><td>null</td><td>Plos.org</td><td>No sequenciamento de comunidade microbiana, envolvendo 16S rDNA ribossomal bacteriano ou ITS fúngico, os genes alvos são a base para atribuição taxonômica. O procedimento bioinformático tradicional tem feito uso, por décadas, de um protocolo de agrupamento pelo qual a sequência…</td><td>Introdução\n",
       "Os estágios de desenvolvimento de métodos de alto rendimento e sequenciamento de próxima geração se desenrolaram em um ritmo tão rápido nas últimas duas décadas, que hoje em dia o próprio termo NGS é sólido… [+42336 caracteres]</td><td>Agrupamento de ASV vs OTUs: efeitos nas diversidades alfa, beta e gama em estudos de metabarcodificação do microbioma</td></tr><tr><td>Antonio Regalado</td><td>The chief intellectual-property attorney at the University of California, Randi Jenkins, confirmed the plan to revoke the two patents but downplayed their importance. \r\n",
       "These two European patents are… [+2078 chars]</td><td>In the decade-long fight to control CRISPR, the super-tool for modifying DNA, it’s been common for lawyers to try to overturn patents held by competitors by pointing out errors or inconsistencies. But now, in a surprise twist, the team which earned the Nobel …</td><td>2024-09-25T15:32:32Z</td><td>Two Nobel Prize winners want to cancel their own CRISPR patents in Europe</td><td>https://www.technologyreview.com/2024/09/25/1104475/nobel-prize-winners-cancel-crispr-patents-europe/</td><td>https://wp.technologyreview.com/wp-content/uploads/2024/09/240924_CRISPRpatent.jpg?resize=1200,600</td><td>2024-09-25</td><td>null</td><td>MIT Technology Review</td><td>Na luta de uma década para controlar o CRISPR, a superferramenta para modificar o DNA, tem sido comum que advogados tentem anular patentes detidas por concorrentes apontando erros ou inconsistências. Mas agora, em uma reviravolta surpreendente, a equipe que ganhou o Nobel …</td><td>A advogada chefe de propriedade intelectual da Universidade da Califórnia, Randi Jenkins, confirmou o plano de revogar as duas patentes, mas minimizou sua importância. \n",
       "Estas duas patentes europeias são… [+2078 caracteres]</td><td>Dois vencedores do Prêmio Nobel querem cancelar suas próprias patentes CRISPR na Europa</td></tr><tr><td>Arden Dier</td><td>The idea that Christopher Columbus discovered the Americas long ago moved from the history books to the garbage can, but if you need more disputing evidence, you can find it in a new study on the Vik… [+2003 chars]</td><td>The idea that Christopher Columbus discovered the Americas long ago moved from the history books to the garbage can, but if you need more disputing evidence, you can find it in a new study on the Vikings, whose quest for ivory is believed to have led them int…</td><td>2024-10-03T17:05:00Z</td><td>'Big News' From DNA: Probable Viking, Inuit Encounters</td><td>https://www.newser.com/story/357258/big-news-from-dna-probable-viking-inuit-encounters.html</td><td>https://img1-azrcdn.newser.com/image/1563840-12-20241003122002.jpeg</td><td>2024-10-03</td><td>null</td><td>Newser</td><td>A ideia de que Cristóvão Colombo descobriu as Américas há muito tempo saiu dos livros de história e foi para a lata de lixo, mas se você precisar de mais evidências controversas, poderá encontrá-las em um novo estudo sobre os vikings, cuja busca por marfim acredita-se que os levou a…</td><td>A ideia de que Cristóvão Colombo descobriu as Américas há muito tempo saiu dos livros de história para a lata de lixo, mas se você precisar de mais evidências controversas, poderá encontrá-las em um novo estudo sobre os Vik… [+2003 caracteres]</td><td>'Grandes notícias' do DNA: prováveis ​​encontros entre vikings e inuítes</td></tr><tr><td>Ashley Strickland</td><td>Sign up for CNNs Wonder Theory science newsletter. Explore the universe with news on fascinating discoveries, scientific advancements and more.\r\n",
       "Two male lions became infamous for terrorizing and eat… [+8385 chars]</td><td>Hairs trapped in cavities of the infamous lions that hunted humans in Kenya’s Tsavo region in 1898 revealed the surprising prey of the massive cats, a study found.</td><td>2024-10-11T22:51:53Z</td><td>DNA reveals surprises trapped in teeth of ‘Tsavo man-eater’ lions</td><td>https://www.cnn.com/2024/10/11/science/tsavo-man-eater-lions-hair-dna/index.html</td><td>https://media.cnn.com/api/v1/images/stellar/prod/z94320-5c.jpg?c=16x9&q=w_800,c_fill</td><td>2024-10-10</td><td>cnn</td><td>CNN</td><td>Pelos presos nas cavidades dos infames leões que caçavam humanos na região de Tsavo, no Quênia, em 1898, revelaram as presas surpreendentes desses enormes felinos, segundo um estudo.</td><td>Inscreva-se no boletim informativo científico Wonder Theory da CNN. Explore o universo com notícias sobre descobertas fascinantes, avanços científicos e muito mais. \n",
       "Dois leões machos se tornaram infames por aterrorizar e comer… [+8385 caracteres]</td><td>DNA revela surpresas presas nos dentes dos leões ‘devoradores de homens de Tsavo’</td></tr><tr><td>Barry Ritholtz</td><td>The transcript from this weeks, MiB: Vincent Aita of Cutter Capital on the DNA of Biotech Investing, is below.\r\n",
       "You can stream and download our full conversation, including any podcast extras, on App… [+62039 chars]</td><td>The transcript from this week’s, MiB: Vincent Aita of Cutter Capital on the DNA of Biotech Investing, is below. You can stream and download our full conversation, including any podcast extras, on Apple Podcasts, Spotify, YouTube, and Bloomberg. All of our ear…</td><td>2024-10-08T12:30:02Z</td><td>Transcript: Vincent Aita of Cutter Capital</td><td>https://ritholtz.com/2024/10/transcript-vincent-aita/</td><td>https://ritholtz.com/wp-content/uploads/2023/02/Mib-tile.png</td><td>2024-10-08</td><td>null</td><td>Ritholtz.com</td><td>A transcrição do MiB desta semana: Vincent Aita da Cutter Capital sobre o DNA do investimento em biotecnologia está abaixo. Você pode transmitir e baixar nossa conversa completa, incluindo quaisquer extras de podcast, no Apple Podcasts, Spotify, YouTube e Bloomberg. Todos os nossos ouvidos…</td><td>A transcrição desta semana, MiB: Vincent Aita da Cutter Capital sobre o DNA do investimento em biotecnologia, está abaixo. \n",
       "Você pode transmitir e baixar nossa conversa completa, incluindo quaisquer extras de podcast, no App… [+62039 chars]</td><td>Transcrição: Vincent Aita da Cutter Capital</td></tr><tr><td>Business Wire</td><td>Short Fragment Depletor 10 High Throughput (SFD-10HT) kit for long Read Sequencing technologiesGAITHERSBURG, Md. MagBio Genomics, Inc., a company that focuses on magnetic bead-based nucleic acids sam… [+3372 chars]</td><td>Now Launching in US its patent pending, first magnetic bead-based Short Fragment Depletor – 10 High Throughput (SFD-10HT) kit for long Read Sequencing technologies GAITHERSBURG, Md. — MagBio Genomics, Inc., a company that focuses on magnetic bead-based nuclei…</td><td>2024-10-09T12:13:08Z</td><td>MagBio Launches Short Fragment Depletor – 10 High Throughput Kit (SFD-10HT); Bead-based Reagent That Progressively Depletes DNA Fragments</td><td>https://financialpost.com/pmn/business-wire-news-releases-pmn/magbio-launches-short-fragment-depletor-10-high-throughput-kit-sfd-10ht-bead-based-reagent-that-progressively-depletes-dna-fragments</td><td>null</td><td>2024-10-09</td><td>financial-post</td><td>Financial Post</td><td>Agora lançando nos EUA seu primeiro kit SFD-10HT (Short Fragment Depletor – 10 High Throughput) baseado em esferas magnéticas, com patente pendente, para tecnologias de sequenciamento de leitura longa GAITHERSBURG, Md. — MagBio Genomics, Inc., uma empresa focada em núcleos baseados em esferas magnéticas…</td><td>Kit SFD-10HT (Short Fragment Depletor 10 High Throughput) para tecnologias de sequenciamento de leitura longaGAITHERSBURG, Md. MagBio Genomics, Inc., uma empresa que se concentra em amostras de ácidos nucleicos baseadas em esferas magnéticas… [+3372 caracteres]</td><td>MagBio lança Short Fragment Depletor – 10 High Throughput Kit (SFD-10HT); reagente baseado em esferas que depleta progressivamente fragmentos de DNA</td></tr><tr><td>Christian Pérez Redactor especializado en divulgación científica e histórica</td><td>La historia de la humanidad está escrita en nuestros genes, y uno de los grandes misterios que ha fascinado a científicos de todo el mundo es el origen de nuestra especie. Durante años, la teoría pre… [+7832 chars]</td><td>Las investigaciones genéticas desvelan que todos los humanos modernos descendemos de un ancestro africano común, producto de una fascinante mezcla de diversas poblaciones en el continente.</td><td>2024-09-20T18:30:00Z</td><td>Todos somos africanos: la historia genética de la humanidad</td><td>https://www.muyinteresante.com/historia/66110.html</td><td>https://imagenes.muyinteresante.com/files/article_social_75/uploads/2024/09/20/66edaf26916c7.jpeg</td><td>2024-09-19</td><td>null</td><td>Muyinteresante.com</td><td>A investigação genética revela que todos os humanos modernos descendem de um ancestral africano comum, produto de uma mistura fascinante de diversas populações no continente.</td><td>A história da humanidade está escrita em nossos genes, e um dos grandes mistérios que tem fascinado cientistas de todo o mundo é a origem da nossa espécie. Durante anos, a teoria pre… [+7832 caracteres]</td><td>Somos todos africanos: a história genética da humanidade</td></tr><tr><td>Codexis, Inc.</td><td>REDWOOD CITY, Calif., Oct. 01, 2024 (GLOBE NEWSWIRE) -- Codexis, Inc. (NASDAQ: CDXS), a leading enzyme engineering company, today announced it has entered into a non-exclusive commercial and manufact… [+9903 chars]</td><td>Non-exclusive license includes HiFi DNA Polymerase, HiTemp Reverse Transcriptase, HiRev Isothermal Polymerase and other enzymes for genomics and diagnostic applications Non-exclusive license includes HiFi DNA Polymerase, HiTemp Reverse Transcriptase, HiRev Is…</td><td>2024-10-01T11:05:00Z</td><td>Codexis Licenses Genomics Life Science Enzyme Portfolio to Alphazyme LLC, part of Maravai LifeSciences</td><td>https://www.globenewswire.com/news-release/2024/10/01/2955974/24825/en/Codexis-Licenses-Genomics-Life-Science-Enzyme-Portfolio-to-Alphazyme-LLC-part-of-Maravai-LifeSciences.html</td><td>https://ml.globenewswire.com/Resource/Download/ebbfa755-c2db-4783-aace-43c700ba3369</td><td>2024-09-30</td><td>null</td><td>GlobeNewswire</td><td>A licença não exclusiva inclui HiFi DNA Polymerase, HiTemp Reverse Transcriptase, HiRev Isothermal Polymerase e outras enzimas para aplicações genômicas e de diagnóstico. A licença não exclusiva inclui HiFi DNA Polymerase, HiTemp Reverse Transcriptase, HiRev Is…</td><td>REDWOOD CITY, Califórnia, 01 de outubro de 2024 (GLOBE NEWSWIRE) -- A Codexis, Inc. (NASDAQ: CDXS), uma empresa líder em engenharia de enzimas, anunciou hoje que firmou um acordo comercial e de fabricação não exclusivo… [+9903 caracteres]</td><td>Codexis licencia portfólio de enzimas de ciências biológicas da genômica para Alphazyme LLC, parte da Maravai LifeSciences</td></tr><tr><td>Daniela Hirschfeld, Knowable en español</td><td>Peter Mombaerts es un hombre de fuertes preferencias. Le gusta la cerveza belga, en parte, pero no totalmente, por razones patrióticas. Le gusta la música clásica y observar la Tierra desde arriba mi… [+15830 chars]</td><td>Está claro que genes, receptores y neuronas intervienen en la detección de los olores. Pero gran parte del sentido que damos a lo que olfateamos sigue siendo un misterio. Un neurocientífico nos lo explica.</td><td>2024-10-14T16:21:00Z</td><td>¿Cómo funciona el olfato y de qué forma detectamos los olores?</td><td>https://www.nacion.com/revista-dominical/como-funciona-el-olfato-y-de-que-forma-detectamos/WB34JTOUBJH2FBB2IF266UUY74/story/</td><td>https://www.nacion.com/resizer/v2/Y7URNP234NGU5E2Z5C7ZWEZ5LE.jpeg?smart=true&auth=585ec40413ccdf2c7188b600d9cc23b362de8ea7f8d44bafc9146b50cd4d47e5&width=1440</td><td>2024-10-14</td><td>null</td><td>Nacion.com</td><td>É claro que genes, receptores e neurônios estão envolvidos na detecção de odores. Mas muito do significado que damos ao que cheiramos permanece um mistério. Um neurocientista nos explica isso.</td><td>Peter Mombaerts é um homem de fortes preferências. Ele gosta de cerveja belga, em parte, mas não inteiramente, por razões patrióticas. Ele gosta de música clássica e de observar a Terra de cima do meu… [+15830 caracteres]</td><td>Como funciona o cheiro e como detectamos odores?</td></tr><tr><td>Demaris Mills, Forbes Councils Member, \n",
       " Demaris Mills, Forbes Councils Member\n",
       " https://www.forbes.com/councils/forbestechcouncil/people/demarismills/</td><td>Demaris Mills is president at Integrated DNA Technologies, a global genomics solutions provider.\r\n",
       "getty\r\n",
       "The past seven years have brought a remarkable boom in genomics medicine. The first CAR-T cell… [+4624 chars]</td><td>For the biopharma industry to match the pace of genomic innovations and speed new therapies to market, it will need to embrace innovative collaborations.</td><td>2024-10-08T11:30:00Z</td><td>How Collaborations Can Help Match The Pace Of Genomics Advances</td><td>https://www.forbes.com/councils/forbestechcouncil/2024/10/08/how-collaborations-can-help-match-the-pace-of-genomics-advances/</td><td>https://imageio.forbes.com/specials-images/imageserve/670407b06071e249439a225e/0x0.jpg?format=jpg&height=900&width=1600&fit=bounds</td><td>2024-10-08</td><td>null</td><td>Forbes</td><td>Para que a indústria biofarmacêutica acompanhe o ritmo das inovações genômicas e acelere a chegada de novas terapias ao mercado, será necessário adotar colaborações inovadoras.</td><td>Demaris Mills é presidente da Integrated DNA Technologies, uma provedora global de soluções genômicas. \n",
       "getty \n",
       "Os últimos sete anos trouxeram um boom notável na medicina genômica. A primeira célula CAR-T… [+4624 chars]</td><td>Como as colaborações podem ajudar a acompanhar o ritmo dos avanços da genômica</td></tr><tr><td>Dimension Market Research</td><td>New York, Sept. 19, 2024 (GLOBE NEWSWIRE) -- Market Overview\r\n",
       "The Global DNA and RNA Extraction Market is projected to reach USD 7.9 billion in 2024 and is expected to grow to USD 16.4 billion by 203… [+14937 chars]</td><td>Advancements and Projections in the DNA and RNA Extraction Market: Insights, Trends, Opportunities, and Recent Developments Advancements and Projections in the DNA and RNA Extraction Market: Insights, Trends, Opportunities, and Recent Developments</td><td>2024-09-19T17:51:00Z</td><td>DNA and RNA Extraction Market Is Expected To Reach Revenue Of USD 16.4 Bn By 2033, At 8.4% CAGR: Dimension Market Research</td><td>https://www.globenewswire.com/news-release/2024/09/19/2949350/0/en/DNA-and-RNA-Extraction-Market-Is-Expected-To-Reach-Revenue-Of-USD-16-4-Bn-By-2033-At-8-4-CAGR-Dimension-Market-Research.html</td><td>https://ml-eu.globenewswire.com/Resource/Download/a4df4c2d-98b9-4595-8455-3d6a9ff15a71</td><td>2024-09-19</td><td>null</td><td>GlobeNewswire</td><td>Avanços e projeções no mercado de extração de DNA e RNA: insights, tendências, oportunidades e desenvolvimentos recentes Avanços e projeções no mercado de extração de DNA e RNA: insights, tendências, oportunidades e desenvolvimentos recentes</td><td>Nova York, 19 de setembro de 2024 (GLOBE NEWSWIRE) -- Visão geral do mercado\n",
       "O mercado global de extração de DNA e RNA deve atingir US$ 7,9 bilhões em 2024 e deve crescer para US$ 16,4 bilhões até 203… [+14937 caracteres]</td><td>O mercado de extração de DNA e RNA deve atingir receita de US$ 16,4 bilhões até 2033, com CAGR de 8,4%: Dimension Market Research</td></tr><tr><td>Dr. Monica M. Bertagnolli</td><td>Posted on October 17th, 2024 by Dr. Monica M. Bertagnolli\r\n",
       "Some bacteria can produce more than one protein from a gene by “flipping” stretches of DNA. Credit: Donny Bliss/NIH\r\n",
       "Proteins are vital to o… [+4029 chars]</td><td>Proteins are vital to our bodies. They serve as structural building blocks for our tissues and organs and are responsible for their functioning in both health and disease. Genes, like recipes, contain instructions for making proteins. Usually, each essential …</td><td>2024-10-17T14:00:00Z</td><td>Bacteria Flip Gene Segments to Alter Proteins Surprisingly Often, with Implications for Human Health</td><td>https://directorsblog.nih.gov/2024/10/17/bacteria-flip-gene-segments-to-alter-proteins-surprisingly-often-with-implications-for-human-health/</td><td>https://directorsblog.nih.gov/wp-content/uploads/2024/10/DNA-flipping-1.3.jpg</td><td>2024-10-16</td><td>null</td><td>National Institutes of Health</td><td>Proteínas são vitais para nossos corpos. Elas servem como blocos de construção estruturais para nossos tecidos e órgãos e são responsáveis ​​por seu funcionamento tanto na saúde quanto na doença. Genes, como receitas, contêm instruções para fazer proteínas. Normalmente, cada essencial …</td><td>Publicado em 17 de outubro de 2024 pela Dra. Monica M. Bertagnolli \n",
       "Algumas bactérias podem produzir mais de uma proteína de um gene ao “inverter” trechos de DNA. Crédito: Donny Bliss/NIH \n",
       "As proteínas são vitais para o… [+4029 chars]</td><td>Bactérias invertem segmentos genéticos para alterar proteínas com frequência surpreendente, com implicações para a saúde humana</td></tr><tr><td>Environmental Molecular Sciences Laboratory</td><td>The single-cell green alga Chromochloris zofingiensis is an emerging model organism for photosynthesis and metabolism research. Previous research has shown that with the addition of glucose, Chromoch… [+2467 chars]</td><td>The single-cell green alga Chromochloris zofingiensis is an emerging model organism for photosynthesis and metabolism research. Previous research has shown that with the addition of glucose, Chromochloris zofingiensis shuts off photosynthesis, reroutes its me…</td><td>2024-09-27T15:47:09Z</td><td>How iron and metabolic constraints can aid gene discovery for photosynthesis and biofuel production</td><td>https://phys.org/news/2024-09-iron-metabolic-constraints-aid-gene.html</td><td>https://scx2.b-cdn.net/gfx/news/hires/2024/how-iron-and-metabolic.jpg</td><td>2024-09-26</td><td>null</td><td>Phys.Org</td><td>A alga verde unicelular Chromochloris zofingiensis é um organismo modelo emergente para pesquisa de fotossíntese e metabolismo. Pesquisas anteriores mostraram que, com a adição de glicose, Chromochloris zofingiensis desliga a fotossíntese, redireciona seu me…</td><td>A alga verde unicelular Chromochloris zofingiensis é um organismo modelo emergente para pesquisa de fotossíntese e metabolismo. Pesquisas anteriores mostraram que com a adição de glicose, Chromoch… [+2467 chars]</td><td>Como o ferro e as restrições metabólicas podem auxiliar na descoberta de genes para a fotossíntese e a produção de biocombustíveis</td></tr><tr><td>Eslam Hamouda, Mayada Tarek</td><td>Abstract\r\n",
       "DNA splice junction classification is a crucial job in computational biology. The challenge is to predict the junction type (IE, EI, or N) from a given DNA sequence. Predicting junction typ… [+40849 chars]</td><td>DNA splice junction classification is a crucial job in computational biology. The challenge is to predict the junction type (IE, EI, or N) from a given DNA sequence. Predicting junction type is crucial for understanding gene expression patterns, disease cause…</td><td>2024-09-23T14:00:00Z</td><td>A hybrid approach of ensemble learning and grey wolf optimizer for DNA splice junction prediction</td><td>https://journals.plos.org/plosone/article?id=10.1371/journal.pone.0310698</td><td>https://journals.plos.org/plosone/article/figure/image?id=10.1371/journal.pone.0310698.g007&size=inline</td><td>2024-09-23</td><td>null</td><td>Plos.org</td><td>A classificação de junções de splicing de DNA é um trabalho crucial em biologia computacional. O desafio é prever o tipo de junção (IE, EI ou N) de uma dada sequência de DNA. Prever o tipo de junção é crucial para entender padrões de expressão genética, causa de doenças…</td><td>Resumo\n",
       "A classificação de junções de splicing de DNA é um trabalho crucial em biologia computacional. O desafio é prever o tipo de junção (IE, EI ou N) de uma dada sequência de DNA. Prever o tipo de junção… [+40849 caracteres]</td><td>Uma abordagem híbrida de aprendizagem de conjunto e otimizador de lobo cinzento para predição de junção de emenda de DNA</td></tr><tr><td>Internazionale</td><td>Negli ultimi anni è stata ricostruita la genetica dellHomo neanderthalensis, una forma umana estinta. Il lavoro è stato possibile grazie al ritrovamento del dna di neandertal in molti siti in Eurasia… [+1163 chars]</td><td>Negli ultimi anni è stata ricostruita la genetica dell’Homo neanderthalensis, una forma umana estinta. Il lavoro è stato possibile grazie al ritrovamento del dna di neandertal… Leggi</td><td>2024-09-19T10:12:52Z</td><td>Gli altri neandertal</td><td>https://www.internazionale.it/magazine/2024/09/19/gli-altri-neandertal</td><td>https://media.internazionale.it/images/2024/09/19/246438-sd.jpg</td><td>2024-09-19</td><td>null</td><td>Internazionale.it</td><td>Nos últimos anos, a genética do Homo neanderthalensis, uma forma humana extinta, foi reconstruída. O trabalho foi possível graças à descoberta do DNA neandertal... Leia</td><td>Nos últimos anos, a genética do Homo neanderthalensis, uma forma humana extinta, foi reconstruída. O trabalho foi possível graças à descoberta do DNA Neandertal em muitos locais da Eurásia… [+1163 caracteres]</td><td>Os outros Neandertais</td></tr><tr><td>Investing.com</td><td>BRISBANE, Calif. - CareDx, Inc. (NASDAQ: NASDAQ:CDNA), a precision medicine company specializing in healthcare solutions for transplant patients, announced today that the Department of Justice (DOJ) … [+5106 chars]</td><td>DOJ drops CareDx investigation without charges</td><td>2024-10-08T10:08:55Z</td><td>DOJ drops CareDx investigation without charges</td><td>https://www.investing.com/news/company-news/doj-drops-caredx-investigation-without-charges-93CH-3652680</td><td>https://i-invdn-com.investing.com/redesign/images/seo/investing_300X300.png</td><td>2024-10-07</td><td>null</td><td>Investing.com</td><td>DOJ abandona investigação da CareDx sem acusações</td><td>BRISBANE, Califórnia - CareDx, Inc. (NASDAQ: NASDAQ: CDNA), uma empresa de medicina de precisão especializada em soluções de saúde para pacientes transplantados, anunciou hoje que o Departamento de Justiça (DOJ) … [+5106 caracteres]</td><td>DOJ abandona investigação da CareDx sem acusações</td></tr><tr><td>James Purtill</td><td>When I learnt this week the company 23andMe was facing bankruptcy and may sell its customers' genetic data to the highest bidder, I had three thoughts:\r\n",
       "<ol><li>they have my brother's genetic data</l… [+12396 chars]</td><td>Eight years ago, in what now seems like an act of reckless naivety, I bought my brother a 23andMe at-home DNA-test birthday present. Now the struggling company may sell its treasure trove of genetic data.</td><td>2024-10-16T19:00:00Z</td><td>Eight years ago, my brother gave his DNA to 23andMe. We can't take it back — and it may soon get sold</td><td>https://www.abc.net.au/news/science/2024-10-17/23andme-genetic-data-privacy-bankrupt-dna-test-ancestry/104455816</td><td>https://live-production.wcms.abc-cdn.net.au/30ca373d6a9f2997970e45dd6c07081a?impolicy=wcms_watermark_news&cropH=2160&cropW=3840&xPos=0&yPos=216&width=862&height=485&imformat=generic</td><td>2024-10-16</td><td>abc-news-au</td><td>ABC News (AU)</td><td>Oito anos atrás, no que agora parece um ato de ingenuidade imprudente, comprei para meu irmão um presente de aniversário de teste de DNA em casa da 23andMe. Agora, a empresa em dificuldades pode vender seu tesouro de dados genéticos.</td><td>Quando soube esta semana que a empresa 23andMe estava à beira da falência e poderia vender os dados genéticos de seus clientes para o maior lance, pensei três coisas: \n",
       "<ol><li>eles têm os dados genéticos do meu irmão</l… [+12396 caracteres]</td><td>Oito anos atrás, meu irmão deu seu DNA para 23andMe. Não podemos retirá-lo — e ele pode ser vendido em breve</td></tr><tr><td>Jaroslav Petr</td><td>Kde jsou ty asy, kdy bývávalo v evoluci lidstva ve jasné. Z lovka Homo erectus se vyvinul Homo neanderthalensis a z nj pak Homo sapiens. Pak se to trochu zkomplikovalo. To kdy se ukázalo, e neandertá… [+4662 chars]</td><td>** Historie lidstva se zamotává, k čemuž vydatně k tomu přispěla přečtená Thorinova pravěká DNA ** Tento neandertálec patřil k tajemné populaci, která měla kolem sebe „příbuzné“, ale po více než 50 000 let se od všech izolovala ** Proč? Nemáme nejmenší tušení</td><td>2024-09-19T09:45:00Z</td><td>Thorin z Mandrinovy jeskyně byl jen začátek. Na základě analýz DNA se rýsuje další populace neandertálských „duchů“</td><td>https://vtm.zive.cz/clanky/thorin-z-mandrinovy-jeskyne-byl-jen-zacatek-na-zaklade-analyz-dna-se-rysuje-dalsi-populace-neandertalskych-duchu/sc-870-a-230209/default.aspx</td><td>https://www.zive.cz/getthumbnail.aspx?q=100&height=20000&width=20000&id_file=11375888</td><td>2024-09-19</td><td>null</td><td>Zive.cz</td><td>** A história humana está ficando complicada, muito auxiliada pela leitura do DNA pré-histórico de Thorin ** Este Neandertal pertencia a uma população misteriosa que tinha \"parentes\" ao seu redor, mas se isolou de todos por mais de 50.000 anos ** Por quê? Não temos ideia</td><td>Onde estão os ases quando isso era claro na evolução da humanidade. Do caçador Homo erectus evoluiu o Homo neanderthalensis e dele o Homo sapiens. Aí ficou um pouco complicado. Quando descobriu-se que os Neandertais… [+4662 caracteres]</td><td>Thorin da Caverna de Mandrin foi apenas o começo. Outra população de 'fantasmas' de Neandertal se aproxima, com base em análises de DNA</td></tr><tr><td>Jonathan Palmer, Forbes Staff, \n",
       " Jonathan Palmer, Forbes Staff\n",
       " https://www.forbes.com/sites/jonathanpalmer/</td><td>Genetic factors play a role in as much as 10% of all cases of breast and ovarian cancer. And yet, according to a new study published in the Journal of the American Medical Association, there is a sig… [+331 chars]</td><td>Genetic factors play a role in as much as 10% of all cases of breast and ovarian cancer. And yet, according to a new study published in the Journal of the American Medical Association, there is a significant number of patients who are not aware that they carr…</td><td>2024-10-09T21:40:21Z</td><td>Stunning New JAMA Study Shows Many People Don't Know They Carry Genes For Breast Cancer</td><td>https://www.forbes.com/video/763979ee-a643-4cbf-a7af-d802408d7cd2/stunning-new-jama-study-shows-many-people-dont-know-they-carry-genes-for-breast-cancer/</td><td>https://imageio.forbes.com/i-forbesimg/media/video/2024/10/09/763979ee-a643-4cbf-a7af-d802408d7cd2_thumb.jpg?format=jpg&height=460&width=800&fit=bounds</td><td>2024-10-09</td><td>null</td><td>Forbes</td><td>Fatores genéticos desempenham um papel em até 10% de todos os casos de câncer de mama e ovário. E ainda assim, de acordo com um novo estudo publicado no Journal of the American Medical Association, há um número significativo de pacientes que não sabem que são portadores…</td><td>Fatores genéticos desempenham um papel em até 10% de todos os casos de câncer de mama e ovário. E ainda assim, de acordo com um novo estudo publicado no Journal of the American Medical Association, há um sig… [+331 chars]</td><td>Novo estudo impressionante do JAMA mostra que muitas pessoas não sabem que carregam genes para câncer de mama</td></tr><tr><td>Jérémie Le Pen, Gabrielle Paniccia, Volker Kinast, Marcela Moncada-Velez, Alison W. Ashbrook, Michael Bauer, H.-Heinrich Hoffmann, Ana Pinharanda, Inna Ricardo-Lax, Ansgar F. Stenzel, Edwin A. Rosado-Olivieri, Kenneth H. Dinnon III, William C. Doyle, Catherine A. Freije, Seon-Hui Hong, Danyel Lee, Tyler Lewy, Joseph M. Luna, Avery Peace, Carltin Schmidt, William M. Schneider, Roni Winkler, Elaine Z. Yip, Chloe Larson, Timothy McGinn, Miriam-Rose Menezes, Lavoisier Ramos-Espiritu, Priyam Banerjee, John T. Poirier, Francisco J. Sànchez-Rivera, Aurélie Cobat, Qian Zhang, Jean-Laurent Casanova, Thomas S. Carroll, J. Fraser Glickman, Eleftherios Michailidis, Brandon Razooky, Margaret R. MacDonald, Charles M. Rice</td><td>Citation: Le Pen J, Paniccia G, Kinast V, Moncada-Velez M, Ashbrook AW, Bauer M, et al. (2024) A genome-wide arrayed CRISPR screen identifies PLSCR1 as an intrinsic barrier to SARS-CoV-2 entry that r… [+119907 chars]</td><td>Interferons (IFNs) have a role in the regulation of virus-host interactions. This study uses genome-wide CRISPR knockout screen data to identify 28 genes that impact SARS-CoV-2 infection, including PLSCR1, which restricts spike-mediated SARS-CoV-2 entry indep…</td><td>2024-09-24T14:00:00Z</td><td>A genome-wide arrayed CRISPR screen identifies PLSCR1 as an intrinsic barrier to SARS-CoV-2 entry that recent virus variants have evolved to resist</td><td>https://journals.plos.org/plosbiology/article?id=10.1371/journal.pbio.3002767</td><td>https://journals.plos.org/plosbiology/article/figure/image?id=10.1371/journal.pbio.3002767.g007&size=inline</td><td>2024-09-24</td><td>null</td><td>Plos.org</td><td>Interferons (IFNs) têm um papel na regulação das interações vírus-hospedeiro. Este estudo usa dados de triagem de knockout CRISPR em todo o genoma para identificar 28 genes que impactam a infecção por SARS-CoV-2, incluindo PLSCR1, que restringe a entrada de SARS-CoV-2 mediada por spike indep…</td><td>Citação: Le Pen J, Paniccia G, Kinast V, Moncada-Velez M, Ashbrook AW, Bauer M, et al. (2024) Uma triagem CRISPR de todo o genoma identifica PLSCR1 como uma barreira intrínseca à entrada do SARS-CoV-2 que r… [+119907 caracteres]</td><td>Uma triagem CRISPR de todo o genoma identifica PLSCR1 como uma barreira intrínseca à entrada do SARS-CoV-2 que variantes recentes do vírus evoluíram para resistir</td></tr><tr><td>Kitty</td><td>23andme started out by being a leader in the direct-to-consumer (DTC) genomic testing business. Time Magazine named it the 2008 Invention of the Year![1] It was the first place I tested my own autoso… [+5473 chars]</td><td>23andme started out by being a leader in the direct-to-consumer (DTC) genomic testing business. Time Magazine named it the 2008 Invention of the Year![1] It was the first place I tested my own autosomal DNA and that of many family members back in 2011-2012. O…</td><td>2024-09-23T23:09:46Z</td><td>23andme: Now and Then</td><td>https://blog.kittycooper.com/2024/09/23andme-now-and-then/</td><td>null</td><td>2024-09-22</td><td>null</td><td>Kittycooper.com</td><td>A 23andme começou sendo líder no negócio de testes genômicos diretos ao consumidor (DTC). A revista Time a nomeou a Invenção do Ano de 2008![1] Foi o primeiro lugar em que testei meu próprio DNA autossômico e o de muitos membros da família em 2011-2012. O…</td><td>A 23andme começou como líder no negócio de testes genômicos diretos ao consumidor (DTC). A revista Time a nomeou a Invenção do Ano de 2008![1] Foi o primeiro lugar em que testei meu próprio autoso… [+5473 caracteres]</td><td>23andme: Agora e Depois</td></tr><tr><td>Lars Daniel, Contributor, \n",
       " Lars Daniel, Contributor\n",
       " https://www.forbes.com/sites/larsdaniel/</td><td>Low-angle view of logo on facade of personal genomics company 23AndMe in the Silicon Valley town of ... [+] Mountain View, California, October 28, 2018. (Photo by Smith Collection/Gado/Getty Images)\r… [+2273 chars]</td><td>The implications of this sale are significant, raising concerns over data privacy and the potential misuse of sensitive genetic information.</td><td>2024-10-15T11:09:51Z</td><td>Did You Give Your DNA To 23andMe? Here’s Why You Might Regret It Soon</td><td>https://www.forbes.com/sites/larsdaniel/2024/10/15/did-you-give-your-dna-to-23andme-heres-why-you-might-regret-it-soon/</td><td>https://imageio.forbes.com/specials-images/imageserve/670e4cb25b370241d6bc8b0a/0x0.jpg?format=jpg&crop=2226,1044,x0,y188,safe&height=900&width=1600&fit=bounds</td><td>2024-10-15</td><td>null</td><td>Forbes</td><td>As implicações desta venda são significativas, levantando preocupações sobre a privacidade de dados e o potencial uso indevido de informações genéticas sensíveis.</td><td>Visão de ângulo baixo do logotipo na fachada da empresa de genômica pessoal 23AndMe na cidade de ... [+] Mountain View, Califórnia, 28 de outubro de 2018. (Foto de Smith Collection/Gado/Getty Images) … [+2273 caracteres]</td><td>Você deu seu DNA para 23andMe? Aqui está o motivo pelo qual você pode se arrepender em breve</td></tr><tr><td>Lila MacLellan</td><td>Anne Wojcicki, CEO of 23andMe, the struggling DNA testing company, doesnt think this is the right time to examine her leadership style. What will be most interesting is writing the story in three or … [+10297 chars]</td><td>Some past employees weren’t exactly surprised when the entire board at 23andMe tester quit last month</td><td>2024-10-18T10:53:25Z</td><td>Behind the scenes at 23andMe, questions about a star CEO</td><td>https://fortune.com/2024/10/18/behind-the-scenes-23andme-questions-about-a-star-ceo/</td><td>https://fortune.com/img-assets/wp-content/uploads/2024/10/GettyImages-1172241515-e1729210725572.jpg?resize=1200,600</td><td>2024-10-17</td><td>fortune</td><td>Fortune</td><td>Alguns ex-funcionários não ficaram exatamente surpresos quando todo o conselho da 23andMe Tester pediu demissão no mês passado</td><td>Anne Wojcicki, CEO da 23andMe, a empresa de testes de DNA em dificuldades, não acha que este seja o momento certo para examinar seu estilo de liderança. O mais interessante é escrever a história em três ou … [+10297 caracteres]</td><td>Nos bastidores da 23andMe, perguntas sobre um CEO estrela</td></tr><tr><td>Lila MacLellan</td><td>Anne Wojcicki wanted to run thingsalone.It was 2009 and her startup 23andMe was riding high, fueled by a steady stream of venture money, intriguing personal accounts of genome exploration, and the no… [+21143 chars]</td><td>Former executives say Wojcicki's \"founder mode\" mentality created problems for years at the once hot DNA testing startup.</td><td>2024-10-17T16:36:33Z</td><td>DNA tester 23andMe’s entire board resigned on the same day. Founder Anne Wojcicki still thinks the startup is savable</td><td>https://fortune.com/2024/10/17/23andme-what-happened-stock-board-resigns-anne-wojcicki/</td><td>https://fortune.com/img-assets/wp-content/uploads/2024/10/wojcicki.23andme-GettyImages-1200295366-e1728064451714.jpg?resize=1200,600</td><td>2024-10-16</td><td>fortune</td><td>Fortune</td><td>Ex-executivos dizem que a mentalidade de \"modo fundador\" de Wojcicki criou problemas durante anos na outrora promissora startup de testes de DNA.</td><td>Anne Wojcicki queria administrar as coisas sozinha. Era 2009 e sua startup 23andMe estava em alta, alimentada por um fluxo constante de dinheiro de risco, relatos pessoais intrigantes de exploração do genoma e o não… [+21143 caracteres]</td><td>Todo o conselho do testador de DNA 23andMe renunciou no mesmo dia. A fundadora Anne Wojcicki ainda acha que a startup é salvável</td></tr><tr><td>Lucas Ropek</td><td>23andMe, the well-known genomics company, has been in a downward spiral ever since it suffered a fairly catastrophic data breach last year. Ever since then, the company, which is headed by Sergei Bri… [+3581 chars]</td><td>The troubled startup has records of millions of Americans' DNA and personal information.</td><td>2024-10-16T14:40:37Z</td><td>There’s Never Been a Better Time to Delete Your 23andMe Data. Here’s How to Do It</td><td>https://gizmodo.com/theres-never-been-a-better-time-to-delete-your-23andme-data-heres-how-to-do-it-2000512323</td><td>https://gizmodo.com/app/uploads/2024/10/The-23andMe-Logo-in-Mountain-View-California.jpg</td><td>2024-10-16</td><td>null</td><td>Gizmodo.com</td><td>A startup problemática tem registros de DNA e informações pessoais de milhões de americanos.</td><td>23andMe, a conhecida empresa de genômica, está em uma espiral descendente desde que sofreu uma violação de dados bastante catastrófica no ano passado. Desde então, a empresa, que é liderada por Sergei Bri… [+3581 caracteres]</td><td>Nunca houve um momento melhor para excluir seus dados do 23andMe. Veja como fazer isso</td></tr><tr><td>MIT Technology Review Online</td><td>Im jahrzehntelangen Kampf um die Kontrolle von CRISPR, dem Superwerkzeug zur DNA-Editierung, haben Anwält:innen häufig versucht, Patente von Konkurrenten zu kippen, indem sie auf Fehler oder Ungereim… [+9102 chars]</td><td>Im Kampf um die Kontrolle der Genom-Editierung ist die Entscheidung von Jennifer Doudna und Emmanuelle Charpentier eine überraschende Wendung.\n",
       "weiterlesen auf t3n.de</td><td>2024-09-30T08:45:47Z</td><td>Streit um Gen-Editierung CRISPR: Warum die Erfinderinnen ihre europäischen Patente zurückziehen wollen</td><td>https://t3n.de/news/streit-um-gen-editierung-crispr-warum-die-erfinderinnen-ihre-europaeischen-patente-zurueckziehen-wollen-1648818/</td><td>https://t3n.de/news/wp-content/uploads/2022/12/DNA.jpg</td><td>2024-09-30</td><td>t3n</td><td>T3n</td><td>Na luta pelo controle da edição do genoma, a decisão de Jennifer Doudna e Emmanuelle Charpentier é uma reviravolta surpreendente.\n",
       "leia mais em t3n.de</td><td>Na batalha de décadas pelo controle do CRISPR, a superferramenta de edição de DNA, os advogados muitas vezes tentaram anular as patentes dos concorrentes apontando erros ou inconsistências... [+9102 caracteres]</td><td>Disputa sobre edição genética CRISPR: Por que os inventores querem retirar suas patentes europeias</td></tr><tr><td>MarketBeat News</td><td>Alpha DNA Investment Management LLC acquired a new stake in shares of GeneDx Holdings Corp. (NASDAQ:WGS – Free Report) in the second quarter, according to its most recent disclosure with the SEC. The… [+5784 chars]</td><td>Alpha DNA Investment Management LLC acquired a new stake in shares of GeneDx Holdings Corp. (NASDAQ:WGS – Free Report) in the second quarter, according to its most recent disclosure with the SEC. The firm acquired 13,875 shares of the company’s stock, valued …</td><td>2024-09-26T21:14:50Z</td><td>13,875 Shares in GeneDx Holdings Corp. (NASDAQ:WGS) Acquired by Alpha DNA Investment Management LLC</td><td>https://www.etfdailynews.com/2024/09/26/13875-shares-in-genedx-holdings-corp-nasdaqwgs-acquired-by-alpha-dna-investment-management-llc/</td><td>https://www.americanbankingnews.com/wp-content/timthumb/timthumb.php?src=https://www.marketbeat.com/logos/genedx-holdings-corp-logo-1200x675.jpg?v=20230206115121&w=240&h=240&zc=2</td><td>2024-09-26</td><td>null</td><td>ETF Daily News</td><td>A Alpha DNA Investment Management LLC adquiriu uma nova participação em ações da GeneDx Holdings Corp. (NASDAQ:WGS – Free Report) no segundo trimestre, de acordo com sua divulgação mais recente com a SEC. A empresa adquiriu 13.875 ações do estoque da empresa, avaliadas …</td><td>A Alpha DNA Investment Management LLC adquiriu uma nova participação em ações da GeneDx Holdings Corp. (NASDAQ:WGS – Free Report) no segundo trimestre, de acordo com sua divulgação mais recente com a SEC. O… [+5784 caracteres]</td><td>13.875 ações da GeneDx Holdings Corp. (NASDAQ:WGS) adquiridas pela Alpha DNA Investment Management LLC</td></tr><tr><td>MarketBeat News</td><td>iShares Genomics Immunology and Healthcare ETF (NYSEARCA:IDNA – Get Free Report)’s stock price rose 1% on Thursday . The stock traded as high as $24.53 and last traded at $24.42. Approximately 97,392… [+1170 chars]</td><td>iShares Genomics Immunology and Healthcare ETF (NYSEARCA:IDNA – Get Free Report)’s stock price rose 1% on Thursday . The stock traded as high as $24.53 and last traded at $24.42. Approximately 97,392 shares changed hands during trading, an increase of 190% fr…</td><td>2024-09-28T17:51:52Z</td><td>iShares Genomics Immunology and Healthcare ETF (NYSEARCA:IDNA) Shares Up 1%</td><td>https://www.etfdailynews.com/2024/09/28/ishares-genomics-immunology-and-healthcare-etf-nysearcaidna-shares-up-1/</td><td>https://www.americanbankingnews.com/wp-content/timthumb/timthumb.php?src=https://www.marketbeat.com/logos/ishares-genomics-immunology-and-healthcare-etf-logo-1200x675.png&w=240&h=240&zc=2</td><td>2024-09-27</td><td>null</td><td>ETF Daily News</td><td>O preço das ações do iShares Genomics Immunology and Healthcare ETF (NYSEARCA:IDNA – Obtenha o relatório gratuito) subiu 1% na quinta-feira. As ações foram negociadas a US$ 24,53 e a última negociação foi de US$ 24,42. Aproximadamente 97.392 ações mudaram de mãos durante a negociação, um aumento de 190% em relação a…</td><td>O preço das ações do iShares Genomics Immunology and Healthcare ETF (NYSEARCA:IDNA – Obtenha o relatório gratuito) subiu 1% na quinta-feira. As ações foram negociadas a US$ 24,53 e a última negociação foi de US$ 24,42. Aproximadamente 97.392… [+1170 caracteres]</td><td>As ações do iShares Genomics Immunology and Healthcare ETF (NYSEARCA:IDNA) sobem 1%</td></tr><tr><td>MarketBeat News</td><td>iShares Genomics Immunology and Healthcare ETF (NYSEARCA:IDNA – Get Free Report) shares shot up 1% on Thursday . The company traded as high as $24.53 and last traded at $24.42. 97,392 shares changed … [+1168 chars]</td><td>iShares Genomics Immunology and Healthcare ETF (NYSEARCA:IDNA – Get Free Report) shares shot up 1% on Thursday . The company traded as high as $24.53 and last traded at $24.42. 97,392 shares changed hands during mid-day trading, an increase of 190% from the a…</td><td>2024-09-27T05:01:05Z</td><td>iShares Genomics Immunology and Healthcare ETF (NYSEARCA:IDNA) Trading Up 1%</td><td>https://www.etfdailynews.com/2024/09/27/ishares-genomics-immunology-and-healthcare-etf-nysearcaidna-trading-up-1/</td><td>https://www.americanbankingnews.com/wp-content/timthumb/timthumb.php?src=https://www.marketbeat.com/logos/ishares-genomics-immunology-and-healthcare-etf-logo-1200x675.png&w=240&h=240&zc=2</td><td>2024-09-26</td><td>null</td><td>ETF Daily News</td><td>As ações do iShares Genomics Immunology and Healthcare ETF (NYSEARCA:IDNA – Obtenha o relatório gratuito) dispararam 1% na quinta-feira. A empresa foi negociada a US$ 24,53 e a última negociação foi de US$ 24,42. 97.392 ações mudaram de mãos durante a negociação do meio-dia, um aumento de 190% em relação a…</td><td>As ações do iShares Genomics Immunology and Healthcare ETF (NYSEARCA:IDNA – Obtenha o relatório gratuito) dispararam 1% na quinta-feira. A empresa foi negociada a US$ 24,53 e a última negociação foi de US$ 24,42. 97.392 ações mudaram … [+1168 caracteres]</td><td>iShares Genomics Immunology and Healthcare ETF (NYSEARCA:IDNA) Negociação sobe 1%</td></tr><tr><td>Megan Prictor, Senior Lecturer in Law, The University of Melbourne</td><td>isak55/Shutterstock\r\n",
       "Since it was founded nearly two decades ago, 23andMe has grown into one of the largest biotechnology companies in the world. Millions of people have used its simple genetic testi… [+5932 chars]</td><td>There are some simple steps customers of 23andMe can take to protect their highly personal genetic data.</td><td>2024-10-18T02:10:08Z</td><td>A giant biotechnology company might be about to go bust. What will happen to the millions of people’s DNA it holds?</td><td>https://theconversation.com/a-giant-biotechnology-company-might-be-about-to-go-bust-what-will-happen-to-the-millions-of-peoples-dna-it-holds-241557</td><td>https://images.theconversation.com/files/626383/original/file-20241017-17-cxy0ba.jpg?ixlib=rb-4.1.0&rect=29%2C0%2C4962%2C2477&q=45&auto=format&w=1356&h=668&fit=crop</td><td>2024-10-17</td><td>null</td><td>The Conversation Africa</td><td>Existem algumas medidas simples que os clientes da 23andMe podem tomar para proteger seus dados genéticos altamente pessoais.</td><td>isak55/Shutterstock \n",
       "Desde que foi fundada há quase duas décadas, a 23andMe cresceu e se tornou uma das maiores empresas de biotecnologia do mundo. Milhões de pessoas usaram seus simples testi… [+5932 chars]</td><td>Uma empresa gigante de biotecnologia pode estar prestes a falir. O que acontecerá com o DNA de milhões de pessoas que ela contém?</td></tr><tr><td>Natasha Lomas</td><td>Advances in DNA sequencing and the vast amounts of genomic data being produced by next-generation sequencing (NGS) technology have created a startup opportunity to build software for biologists so th… [+6661 chars]</td><td>Advances in DNA sequencing and the vast amounts of genomic data being produced by next-generation sequencing (NGS) technology have created a startup</td><td>2024-10-10T07:36:20Z</td><td>MiLaboratories gets $10M for a platform play to accelerate genomic research | TechCrunch</td><td>https://techcrunch.com/2024/10/10/milaboratories-gets-10m-for-a-platform-play-to-accelerate-genomic-research/</td><td>https://techcrunch.com/wp-content/uploads/2024/10/unnamed_44e5de.png?resize=1200,816</td><td>2024-10-10</td><td>techcrunch</td><td>TechCrunch</td><td>Os avanços na sequenciação de ADN e as grandes quantidades de dados genómicos produzidos pela tecnologia de sequenciação de próxima geração (NGS) criaram uma startup</td><td>Os avanços no sequenciamento de DNA e as grandes quantidades de dados genômicos produzidos pela tecnologia de sequenciamento de última geração (NGS) criaram uma oportunidade de inicialização para construir software para biólogos para que… [+6661 caracteres]</td><td>MiLaboratories recebe US$ 10 milhões para uma plataforma para acelerar a pesquisa genômica | TechCrunch</td></tr><tr><td>Pieter Arntz</td><td>Deleting your personal data from 23andMe is proving to be hard.\r\n",
       "There are good reasons for people wanting to delete their data from 23andMe: The DNA testing platform has a lot of problems, so lets s… [+5053 chars]</td><td>Sure, you can request a deletion of your data from 23andMe, but that doesn’t mean the company will delete it entirely.</td><td>2024-10-17T11:45:25Z</td><td>23andMe will retain your genetic information, even if you delete the account</td><td>https://www.malwarebytes.com/blog/news/2024/10/23andme-will-retain-your-genetic-information-even-if-you-delete-the-account</td><td>https://www.malwarebytes.com/wp-content/uploads/sites/2/2024/01/23andme_logo.png</td><td>2024-10-16</td><td>null</td><td>Malwarebytes.com</td><td>Claro, você pode solicitar a exclusão dos seus dados da 23andMe, mas isso não significa que a empresa os excluirá completamente.</td><td>Excluir seus dados pessoais do 23andMe está se mostrando difícil. \n",
       "Há bons motivos para as pessoas quererem excluir seus dados do 23andMe: A plataforma de testes de DNA tem muitos problemas, então vamos… [+5053 caracteres]</td><td>A 23andMe reterá suas informações genéticas, mesmo que você exclua a conta</td></tr><tr><td>Research and Markets</td><td>Dublin, Oct. 01, 2024 (GLOBE NEWSWIRE) -- The \"Asia-Pacific DNA Methylation Detection Technology Market: Analysis and Forecast, 2023-2033\" report has been added to ResearchAndMarkets.com's offering.\r… [+6553 chars]</td><td>Dublin, Oct. 01, 2024 (GLOBE NEWSWIRE) -- The \"Asia-Pacific DNA Methylation Detection Technology Market: Analysis and Forecast, 2023-2033\" report has been added to ResearchAndMarkets.com's offering.The Asia-Pacific DNA methylation detection technology market …</td><td>2024-10-01T16:51:00Z</td><td>Asia-Pacific DNA Methylation Detection Technology Market Report 2024: Growth Opportunities in DNA Methylation Detection Technology as an Early Disease Diagnostic Tool</td><td>https://www.globenewswire.com/news-release/2024/10/01/2956482/28124/en/Asia-Pacific-DNA-Methylation-Detection-Technology-Market-Report-2024-Growth-Opportunities-in-DNA-Methylation-Detection-Technology-as-an-Early-Disease-Diagnostic-Tool.html</td><td>https://ml.globenewswire.com/Resource/Download/908fb457-7f8e-4a08-9081-5565e3dfb3d7</td><td>2024-10-01</td><td>null</td><td>GlobeNewswire</td><td>Dublin, 01 de outubro de 2024 (GLOBE NEWSWIRE) -- O relatório \"Mercado de tecnologia de detecção de metilação de DNA na Ásia-Pacífico: análise e previsão, 2023-2033\" foi adicionado à oferta do ResearchAndMarkets.com. O mercado de tecnologia de detecção de metilação de DNA na Ásia-Pacífico …</td><td>Dublin, 01 de outubro de 2024 (GLOBE NEWSWIRE) -- O relatório \"Mercado de tecnologia de detecção de metilação de DNA na Ásia-Pacífico: análise e previsão, 2023-2033\" foi adicionado à oferta da ResearchAndMarkets.com. … [+6553 caracteres]</td><td>Relatório de mercado de tecnologia de detecção de metilação de DNA da Ásia-Pacífico 2024: oportunidades de crescimento na tecnologia de detecção de metilação de DNA como uma ferramenta de diagnóstico precoce de doenças</td></tr><tr><td>Research and Markets</td><td>Dublin, Sept. 25, 2024 (GLOBE NEWSWIRE) -- The \"DNA Sequencing Market Size, Share, Forecast, &amp; Trends Analysis by Offering, Technology, Application End User - Global Forecast to 2031\" report has … [+7284 chars]</td><td>Dublin, Sept. 25, 2024 (GLOBE NEWSWIRE) -- The \"DNA Sequencing Market Size, Share, Forecast, & Trends Analysis by Offering, Technology, Application End User - Global Forecast to 2031\" report has been added to ResearchAndMarkets.com's offering.DNA sequencing m…</td><td>2024-09-25T11:47:00Z</td><td>DNA Sequencing Market Size, Share, Forecast, & Trends Analysis Report: Emerging DNA Sequencing Companies' Focus on Improving Technologies and Reducing Costs - Global Forecast to 2031</td><td>https://www.globenewswire.com/news-release/2024/09/25/2952867/28124/en/DNA-Sequencing-Market-Size-Share-Forecast-Trends-Analysis-Report-Emerging-DNA-Sequencing-Companies-Focus-on-Improving-Technologies-and-Reducing-Costs-Global-Forecast-to-2031.html</td><td>https://ml.globenewswire.com/Resource/Download/908fb457-7f8e-4a08-9081-5565e3dfb3d7</td><td>2024-09-25</td><td>null</td><td>GlobeNewswire</td><td>Dublin, 25 de setembro de 2024 (GLOBE NEWSWIRE) -- O relatório \"Tamanho do mercado de sequenciamento de DNA, participação, previsão e análise de tendências por oferta, tecnologia, usuário final da aplicação - Previsão global para 2031\" foi adicionado à oferta do ResearchAndMarkets.com. O sequenciamento de DNA…</td><td>Dublin, 25 de setembro de 2024 (GLOBE NEWSWIRE) -- O relatório \"Tamanho, participação, previsão e análise de tendências do mercado de sequenciamento de DNA por oferta, tecnologia, usuário final do aplicativo - Previsão global para 2031\" tem … [+7284 caracteres]</td><td>Relatório de análise de tendências, tamanho, participação e previsão do mercado de sequenciamento de DNA: empresas emergentes de sequenciamento de DNA se concentram em melhorar tecnologias e reduzir custos - Previsão global para 2031</td></tr><tr><td>Research and Markets</td><td>Dublin, Oct. 15, 2024 (GLOBE NEWSWIRE) -- The \"Pet DNA Testing Market Size, Share and Trends Analysis 2024-2030\" report has been added to ResearchAndMarkets.com's offering.\r\n",
       "The global pet DNA testin… [+6426 chars]</td><td>Dublin, Oct. 15, 2024 (GLOBE NEWSWIRE) -- The \"Pet DNA Testing Market Size, Share and Trends Analysis 2024-2030\" report has been added to ResearchAndMarkets.com's offering.The global pet DNA testing market is expected to reach USD 676.64 million by 2030, regi…</td><td>2024-10-15T12:04:00Z</td><td>Pet DNA Testing Market Report 2024: Industry Analysis and Forecast (2018-2030) with Share & Strategy Insights of Leading Players - Zoetis (Basepaws), Mars Petcare (Wisdom Panel), Orivet Genetic Pet Care & More</td><td>https://www.globenewswire.com/news-release/2024/10/15/2963169/28124/en/Pet-DNA-Testing-Market-Report-2024-Industry-Analysis-and-Forecast-2018-2030-with-Share-Strategy-Insights-of-Leading-Players-Zoetis-Basepaws-Mars-Petcare-Wisdom-Panel-Orivet-Genetic.html</td><td>https://ml.globenewswire.com/Resource/Download/908fb457-7f8e-4a08-9081-5565e3dfb3d7</td><td>2024-10-14</td><td>null</td><td>GlobeNewswire</td><td>Dublin, 15 de outubro de 2024 (GLOBE NEWSWIRE) -- O relatório \"Pet DNA Testing Market Size, Share and Trends Analysis 2024-2030\" foi adicionado à oferta da ResearchAndMarkets.com. Espera-se que o mercado global de testes de DNA para animais de estimação alcance US$ 676,64 milhões até 2030, regi…</td><td>Dublin, 15 de outubro de 2024 (GLOBE NEWSWIRE) -- O relatório \"Pet DNA Testing Market Size, Share and Trends Analysis 2024-2030\" foi adicionado à oferta da ResearchAndMarkets.com. \n",
       "O teste global de DNA para animais de estimação… [+6426 caracteres]</td><td>Relatório de mercado de testes de DNA para animais de estimação 2024: análise e previsão da indústria (2018-2030) com insights de participação e estratégia dos principais participantes - Zoetis (Basepaws), Mars Petcare (Wisdom Panel), Orivet Genetic Pet Care e mais</td></tr><tr><td>Singlera Genomics, Inc.</td><td>SAN DIEGO, Oct. 16, 2024 (GLOBE NEWSWIRE) -- Singlera Genomics, a company focused on the application of novel DNA methylation technologies to genetic diagnosis, presented the results of its initial p… [+2109 chars]</td><td>SAN DIEGO, Oct. 16, 2024 (GLOBE NEWSWIRE) -- Singlera Genomics, a company focused on the application of novel DNA methylation technologies to genetic diagnosis, presented the results of its initial preclinical study of the PDACatch test, an assay to detect pa…</td><td>2024-10-16T18:34:00Z</td><td>Singlera Genomics presents results of PDACatch preclinical study at HM Hospitals Annual Early Detection Meeting</td><td>https://www.globenewswire.com/news-release/2024/10/16/2964419/0/en/Singlera-Genomics-presents-results-of-PDACatch-preclinical-study-at-HM-Hospitals-Annual-Early-Detection-Meeting.html</td><td>https://ml.globenewswire.com/Resource/Download/ca442d5a-957b-40be-a01d-31e1ed07c062</td><td>2024-10-16</td><td>null</td><td>GlobeNewswire</td><td>SAN DIEGO, 16 de outubro de 2024 (GLOBE NEWSWIRE) -- A Singlera Genomics, uma empresa focada na aplicação de novas tecnologias de metilação de DNA ao diagnóstico genético, apresentou os resultados de seu estudo pré-clínico inicial do teste PDACatch, um ensaio para detectar pa…</td><td>SAN DIEGO, 16 de outubro de 2024 (GLOBE NEWSWIRE) -- A Singlera Genomics, uma empresa focada na aplicação de novas tecnologias de metilação de DNA ao diagnóstico genético, apresentou os resultados de seu projeto inicial… [+2109 caracteres]</td><td>Singlera Genomics apresenta resultados do estudo pré-clínico PDACatch na Reunião Anual de Detecção Precoce do Hospital HM</td></tr><tr><td>Telesis Bio Inc.</td><td>SAN DIEGO, Sept. 25, 2024 (GLOBE NEWSWIRE) -- A new partnership between Telesis Bio and Beckman Coulter Life Sciences, a global leader in laboratory automation and innovation, will create efficient a… [+4539 chars]</td><td>Innovation Delivers High-Fidelity, Scalable, Non-Toxic On-Premises Biofoundry Capabilities Innovation Delivers High-Fidelity, Scalable, Non-Toxic On-Premises Biofoundry Capabilities</td><td>2024-09-25T20:05:00Z</td><td>Telesis Bio and Beckman Coulter Life Sciences Collaborate to Revolutionize DNA and mRNA Synthesis</td><td>https://www.globenewswire.com/news-release/2024/09/25/2953354/0/en/Telesis-Bio-and-Beckman-Coulter-Life-Sciences-Collaborate-to-Revolutionize-DNA-and-mRNA-Synthesis.html</td><td>https://ml.globenewswire.com/Resource/Download/2f5b5087-5b09-4d9c-9642-2ef8cd02fd40</td><td>2024-09-25</td><td>null</td><td>GlobeNewswire</td><td>A inovação oferece recursos de biofundição local, escaláveis, de alta fidelidade e não tóxicos A inovação oferece recursos de biofundição local, escaláveis, de alta fidelidade e não tóxicos</td><td>SAN DIEGO, 25 de setembro de 2024 (GLOBE NEWSWIRE) -- Uma nova parceria entre a Telesis Bio e a Beckman Coulter Life Sciences, líder global em automação e inovação de laboratórios, criará uma… [+4539 caracteres]</td><td>Telesis Bio e Beckman Coulter Life Sciences colaboram para revolucionar a síntese de DNA e mRNA</td></tr><tr><td>University of Illinois at Urbana-Champaign</td><td>In 1898, two male lions terrorized an encampment of bridge builders on the Tsavo River in Kenya. The lions, which were massive and maneless, crept into the camp at night, raided the tents and dragged… [+7721 chars]</td><td>In 1898, two male lions terrorized an encampment of bridge builders on the Tsavo River in Kenya. The lions, which were massive and maneless, crept into the camp at night, raided the tents and dragged off their victims. The infamous Tsavo \"man-eaters\" killed a…</td><td>2024-10-11T15:00:01Z</td><td>Hidden in the teeth: DNA study finds these 19th century lions preyed on humans and giraffes</td><td>https://phys.org/news/2024-10-hidden-teeth-dna-19th-century.html</td><td>https://scx2.b-cdn.net/gfx/news/2024/genomic-study-identifi.jpg</td><td>2024-10-10</td><td>null</td><td>Phys.Org</td><td>Em 1898, dois leões machos aterrorizaram um acampamento de construtores de pontes no Rio Tsavo, no Quênia. Os leões, que eram enormes e sem juba, rastejaram para dentro do acampamento à noite, invadiram as tendas e arrastaram suas vítimas. Os infames \"comedores de homens\" de Tsavo mataram um…</td><td>Em 1898, dois leões machos aterrorizaram um acampamento de construtores de pontes no Rio Tsavo, no Quênia. Os leões, que eram enormes e sem juba, entraram furtivamente no acampamento à noite, invadiram as tendas e arrastaram… [+7721 caracteres]</td><td>Escondidos nos dentes: estudo de DNA descobre que esses leões do século 19 caçavam humanos e girafas</td></tr><tr><td>Wei Liu, Huaqin He, Davide Chicco</td><td>Citation: Liu W, He H, Chicco D (2024) Gene signatures for cancer research: A 25-year retrospective and future avenues. PLoS Comput Biol 20(10):\r\n",
       " e1012512.\r\n",
       "https://doi.org/10.1371/journal.pcbi.1012… [+17291 chars]</td><td>Over the past two decades, extensive studies, particularly in cancer analysis through large datasets like The Cancer Genome Atlas (TCGA), have aimed at improving patient therapies and precision medicine. However, limited overlap and inconsistencies among gene…</td><td>2024-10-16T14:00:00Z</td><td>Gene signatures for cancer research: A 25-year retrospective and future avenues</td><td>https://journals.plos.org/ploscompbiol/article?id=10.1371/journal.pcbi.1012512</td><td>https://journals.plos.org/ploscompbiol/article/figure/image?id=10.1371/journal.pcbi.1012512.g001&size=inline</td><td>2024-10-16</td><td>null</td><td>Plos.org</td><td>Nas últimas duas décadas, estudos extensivos, particularmente em análise de câncer por meio de grandes conjuntos de dados como o The Cancer Genome Atlas (TCGA), visaram melhorar as terapias de pacientes e a medicina de precisão. No entanto, sobreposição limitada e inconsistências entre genes…</td><td>Citação: Liu W, He H, Chicco D (2024) Assinaturas genéticas para pesquisa do câncer: uma retrospectiva de 25 anos e avenidas futuras. PLoS Comput Biol 20(10): \n",
       "e1012512. \n",
       "https://doi.org/10.1371/journal.pcbi.1012… [+17291 caracteres]</td><td>Assinaturas genéticas para pesquisa do câncer: uma retrospectiva de 25 anos e perspectivas futuras</td></tr><tr><td>Yutaro Kumagai</td><td>Introduction\r\n",
       "Recent advances in measurement technologies have revolutionized our ability to acquire large amounts of omics-level data. Among these technologies, single-cell RNA sequencing (scRNA-seq… [+51511 chars]</td><td>Author summary Single-cell omics technologies, such as single-cell RNA-seq (scRNA-seq), are instrumental in identifying novel cell subsets that are involved in various biological processes and diseases. These technologies, however, require further development…</td><td>2024-09-30T14:00:00Z</td><td>BootCellNet, a resampling-based procedure, promotes unsupervised identification of cell populations via robust inference of gene regulatory networks</td><td>https://journals.plos.org/ploscompbiol/article?id=10.1371/journal.pcbi.1012480</td><td>https://journals.plos.org/ploscompbiol/article/figure/image?id=10.1371/journal.pcbi.1012480.g010&size=inline</td><td>2024-09-30</td><td>null</td><td>Plos.org</td><td>Resumo do autor Tecnologias ômicas de célula única, como RNA-seq de célula única (scRNA-seq), são instrumentais na identificação de novos subconjuntos de células que estão envolvidos em vários processos biológicos e doenças. Essas tecnologias, no entanto, requerem mais desenvolvimento…</td><td>Introdução\n",
       "Avanços recentes em tecnologias de medição revolucionaram nossa capacidade de adquirir grandes quantidades de dados de nível ômico. Entre essas tecnologias, o sequenciamento de RNA de célula única (scRNA-seq… [+51511 caracteres]</td><td>BootCellNet, um procedimento baseado em reamostragem, promove a identificação não supervisionada de populações de células por meio de inferência robusta de redes reguladoras de genes</td></tr><tr><td>adwells@pennmedicine.upenn.edu (Andrew D Wells), adwells@pennmedicine.upenn.edu (Chun Su), adwells@pennmedicine.upenn.edu (Daniel Campbell), adwells@pennmedicine.upenn.edu (James A Pippin), adwells@pennmedicine.upenn.edu (Matthew C Pahl), adwells@pennmedicine.upenn.edu (Peng Sun), adwells@pennmedicine.upenn.edu (Peter A Morawski), adwells@pennmedicine.upenn.edu (Prabhat Sharma), adwells@pennmedicine.upenn.edu (Rajan M Thomas), adwells@pennmedicine.upenn.edu (Struan FA Grant), adwells@pennmedicine.upenn.edu (Zachary Mount), adwells@pennmedicine.upenn.edu (Zachary Thompson)</td><td>T cell isolation and in vitro stimulation\r\n",
       "Request a detailed protocol\r\n",
       "Human primary CD4+ T cells were purified from the apheresis products obtained from healthy, screened human donors through the U… [+34549 chars]</td><td>Genome-wide association studies (GWAS) have identified hundreds of genetic signals associated with autoimmune disease. The majority of these signals are located in non-coding regions and likely impact cis-regulatory elements (cRE). Because cRE function is dyn…</td><td>2024-09-20T00:00:00Z</td><td>Dynamic chromatin architecture identifies new autoimmune-associated enhancers for IL2 and novel genes regulating CD4+ T cell activation</td><td>https://elifesciences.org/articles/96852</td><td>https://elifesciences.org/assets/images/social/icon-600x600@1.52e87ee6.png</td><td>2024-09-19</td><td>null</td><td>Elifesciences.org</td><td>Estudos de associação genômica ampla (GWAS) identificaram centenas de sinais genéticos associados a doenças autoimunes. A maioria desses sinais está localizada em regiões não codificadoras e provavelmente impacta elementos cis-regulatórios (cRE). Como a função cRE é dinâmica…</td><td>Isolamento de células T e estimulação in vitro\n",
       "Solicite um protocolo detalhado\n",
       "Células T CD4+ primárias humanas foram purificadas a partir de produtos de aférese obtidos de doadores humanos saudáveis ​​e selecionados por meio do U… [+34549 chars]</td><td>Arquitetura dinâmica da cromatina identifica novos intensificadores autoimunes associados para IL2 e novos genes que regulam a ativação das células T CD4+</td></tr><tr><td>ddamour2@uottawa.ca (Damien D'Amours), ddamour2@uottawa.ca (Hemanta Adhikary), ddamour2@uottawa.ca (Sarah Isler), ddamour2@uottawa.ca (Shamayita Roy)</td><td><li><ol><li>Chromosomes and Gene Expression</li></ol>\r\n",
       "The anaphase-promoting complex/cyclosome (APC/C) is a large multi-subunit E3 ubiquitin ligase that controls progression through the cell cycle b… [+4957 chars]</td><td>The R-loop is a common transcriptional by-product that consists of an RNA-DNA duplex joined to a displaced strand of genomic DNA. While the effects of R-loops on health and disease are well established, there is still an incomplete understanding of the cellul…</td><td>2024-10-15T00:00:00Z</td><td>The Smc5/6 complex counteracts R-loop formation at highly transcribed genes in cooperation with RNase H2</td><td>https://elifesciences.org/articles/96626</td><td>https://elifesciences.org/assets/images/social/icon-600x600@1.52e87ee6.png</td><td>2024-10-15</td><td>null</td><td>Elifesciences.org</td><td>O R-loop é um subproduto transcricional comum que consiste em um duplex RNA-DNA unido a uma fita deslocada de DNA genômico. Embora os efeitos dos R-loops na saúde e na doença sejam bem estabelecidos, ainda há uma compreensão incompleta da célula…</td><td><li><ol><li>Cromossomos e Expressão Gênica</li></ol> \n",
       "O complexo promotor de anáfase/ciclossomo (APC/C) é uma grande ligase de ubiquitina E3 multi-subunidade que controla a progressão através do ciclo celular b… [+4957 chars]</td><td>O complexo Smc5/6 neutraliza a formação do laço R em genes altamente transcritos em cooperação com a RNase H2</td></tr><tr><td>michael.hall2@unimelb.edu.au (An N Nguyen), michael.hall2@unimelb.edu.au (Eike J Steinig), michael.hall2@unimelb.edu.au (Lachlan Coin), michael.hall2@unimelb.edu.au (Louise M Judd), michael.hall2@unimelb.edu.au (Mark Davies), michael.hall2@unimelb.edu.au (Michael B Hall), michael.hall2@unimelb.edu.au (Ouli Xie), michael.hall2@unimelb.edu.au (Ryan R Wick), michael.hall2@unimelb.edu.au (Timothy P Stinear), michael.hall2@unimelb.edu.au (Torsten Seemann)</td><td>In this study, we evaluated the accuracy of bacterial variant calls derived from ONT using both conventional and deep learning-based tools. Our findings show that deep learning approaches, specifical… [+6554 chars]</td><td>Variant calling is fundamental in bacterial genomics, underpinning the identification of disease transmission clusters, the construction of phylogenetic trees, and antimicrobial resistance detection. This study presents a comprehensive benchmarking of variant…</td><td>2024-10-10T00:00:00Z</td><td>Benchmarking reveals superiority of deep learning variant callers on bacterial nanopore sequence data</td><td>https://elifesciences.org/articles/98300</td><td>https://elifesciences.org/assets/images/social/icon-600x600@1.52e87ee6.png</td><td>2024-10-10</td><td>null</td><td>Elifesciences.org</td><td>A chamada de variantes é fundamental na genômica bacteriana, sustentando a identificação de grupos de transmissão de doenças, a construção de árvores filogenéticas e a detecção de resistência antimicrobiana. Este estudo apresenta um benchmarking abrangente de variantes…</td><td>Neste estudo, avaliamos a precisão de chamadas de variantes bacterianas derivadas de ONT usando ferramentas convencionais e baseadas em aprendizado profundo. Nossas descobertas mostram que abordagens de aprendizado profundo, especificamente… [+6554 chars]</td><td>Benchmarking revela superioridade de chamadores de variantes de aprendizado profundo em dados de sequência de nanoporos bacterianos</td></tr><tr><td>nadine.kurz@bioinf.med.uni-goettingen.de</td><td>AdaGenes is a generic toolkit for processing, annotating, filtering and transforming DNA polymorphism data.\r\n",
       "Main features:\r\n",
       "<ul><li>A powerful data object to store and edit DNA mutation data</li><li… [+2958 chars]</td><td>Generic toolkit for processing DNA polymorphism data</td><td>2024-09-26T19:13:04Z</td><td>adagenes added to PyPI</td><td>https://pypi.org/project/adagenes/</td><td>https://pypi.org/static/images/twitter.abaf4b19.webp</td><td>2024-09-25</td><td>null</td><td>Pypi.org</td><td>Kit de ferramentas genérico para processamento de dados de polimorfismo de DNA</td><td>AdaGenes é um kit de ferramentas genérico para processar, anotar, filtrar e transformar dados de polimorfismo de DNA. \n",
       "Principais características: \n",
       "<ul><li>Um poderoso objeto de dados para armazenar e editar dados de mutação de DNA</li><li… [+2958 chars]</td><td>adagenes adicionado ao PyPI</td></tr><tr><td>psmyth1994@gmail.com</td><td>BioSets: Dataset Creation for Biological Research\r\n",
       "DNA Symbol: \r\n",
       " BioSets is a specialized library built on top of the datasets library, designed to\r\n",
       "facilitate the loading, manipulation, and process… [+5158 chars]</td><td>Bioinformatics datasets and tools</td><td>2024-10-12T19:18:27Z</td><td>biosets added to PyPI</td><td>https://pypi.org/project/biosets/</td><td>https://pypi.org/static/images/twitter.abaf4b19.webp</td><td>2024-10-11</td><td>null</td><td>Pypi.org</td><td>Conjuntos de dados e ferramentas de bioinformática</td><td>BioSets: Criação de conjunto de dados para pesquisa biológica \n",
       "Símbolo de DNA: \n",
       "BioSets é uma biblioteca especializada construída sobre a biblioteca de conjuntos de dados, projetada para \n",
       "facilitar o carregamento, manipulação e processamento… [+5158 caracteres]</td><td>biosets adicionados ao PyPI</td></tr><tr><td>theweekonlineeditorsuk@futurenet.com (Chas Newkey-Burden, The Week UK)</td><td>Millions of people have spat into test tubes for ancestry companies but now there are questions being asked about what might happen to their DNA.\r\n",
       "After a data breach, a sinking share price and mass … [+3390 chars]</td><td>Genetic testing company's financial woes creates concerns around personal data it holds</td><td>2024-10-08T13:14:30Z</td><td>23andMe: will customers' DNA go up for sale?</td><td>https://theweek.com/tech/23andme-dna-sale</td><td>https://cdn.mos.cms.futurecdn.net/TeZfPobRH5y8a5yT4yHRKA-1200-80.jpg</td><td>2024-10-07</td><td>null</td><td>The Week Magazine</td><td>Problemas financeiros de empresa de testes genéticos geram preocupações em torno dos dados pessoais que ela detém</td><td>Milhões de pessoas cuspiram em tubos de ensaio para empresas de ancestralidade, mas agora há perguntas sendo feitas sobre o que pode acontecer com seu DNA. \n",
       "Após uma violação de dados, uma queda no preço das ações e uma … [+3390 chars]</td><td>23andMe: o DNA dos clientes será colocado à venda?</td></tr></tbody></table></div>"
      ]
     },
     "metadata": {
      "application/vnd.databricks.v1+output": {
       "addedWidgets": {},
       "aggData": [],
       "aggError": "",
       "aggOverflow": false,
       "aggSchema": [],
       "aggSeriesLimitReached": false,
       "aggType": "",
       "arguments": {},
       "columnCustomDisplayInfos": {},
       "data": [
        [
         null,
         "O DNA de ursos polares que viveram entre 100 mil anos e 70 mil anos atrás indica que o material genético que hoje caracteriza a espécie ainda não estava totalmente presente nessa época. É como se os … [+3505 chars]",
         "Estudo aponta para possibilidade de boa parte do processo de adaptação desses bichos ao Ártico ter acontecido antes que pelagem totalmente branca fosse traço universal da espécie",
         "2024-09-21T01:36:19Z",
         null,
         "https://www1.folha.uol.com.br/ciencia/2024/09/ursos-polares-ainda-nao-eram-tao-polares-assim-ha-cerca-de-100-mil-anos.shtml",
         "https://f.i.uol.com.br/fotografia/2024/09/17/172660206466e9db50d55f7_1726602064_3x2_rt.jpg",
         "2024-09-20",
         null,
         "Uol.com.br",
         "Estudo aponta para possibilidade de boa parte do processo de adaptação desses bichos ao Ártico ter acontecido antes que pelagem totalmente branca fosse traço universal da espécie",
         "O DNA de ursos polares que viveram entre 100 mil anos e 70 mil anos atrás indica que o material genético que hoje caracteriza a espécie ainda não estava totalmente presente nessa época. É como se os … [+3505 chars]",
         null
        ],
        [
         null,
         "Captive tigers in the United States outnumber those living in the wild. The World Wildlife Federation estimates around 5,000 of the big cats reside in the U.S., mostly owned by private citizens.\r\nThe… [+8507 chars]",
         "Using DNA from rescued captive tigers in the U.S., Stanford researchers have developed a genetic reference panel that can help identify tigers suitable for conservation and prosecute animal abusers.",
         "2024-09-19T00:00:00Z",
         "Can captive tigers be part of the effort to save wild populations?",
         "https://news.stanford.edu/stories/2024/09/can-captive-tigers-be-part-of-the-effort-to-save-wild-populations",
         "https://news.stanford.edu/__data/assets/image/0036/159597/Nyla_Blanca_InSyncExotics.jpg",
         "2024-09-19",
         null,
         "Stanford.edu",
         "Usando DNA de tigres resgatados em cativeiro nos EUA, pesquisadores de Stanford desenvolveram um painel de referência genética que pode ajudar a identificar tigres adequados para conservação e processar abusadores de animais.",
         "Tigres em cativeiro nos Estados Unidos superam em número aqueles que vivem na natureza. A World Wildlife Federation estima que cerca de 5.000 desses grandes felinos residem nos EUA, a maioria de propriedade de cidadãos privados. \nO… [+8507 caracteres]",
         "Tigres em cativeiro podem fazer parte do esforço para salvar populações selvagens?"
        ],
        [
         null,
         "Genome-wide association studies have great potential for advancing our understanding of the genetic background of diseases, but so far, few association studies have focused on maternal and newborn di… [+2729 chars]",
         "Genome-wide association studies have great potential for advancing our understanding of the genetic background of diseases, but so far, few association studies have focused on maternal and newborn diseases, and most have been based on predominantly European p…",
         "2024-10-09T16:15:44Z",
         "Genetic analysis of 25,000 Chinese mothers and infants reveals unique genes associated with disease risk",
         "https://www.sciencedaily.com/releases/2024/10/241009121544.htm",
         "https://www.sciencedaily.com/images/scidaily-icon.png",
         "2024-10-09",
         null,
         "Science Daily",
         "Estudos de associação em todo o genoma têm grande potencial para avançar nossa compreensão do contexto genético das doenças, mas até agora, poucos estudos de associação se concentraram em doenças maternas e neonatais, e a maioria foi baseada em pesquisas predominantemente europeias.",
         "Estudos de associação em todo o genoma têm grande potencial para avançar nossa compreensão do contexto genético das doenças, mas até agora, poucos estudos de associação se concentraram em doenças maternas e neonatais… [+2729 caracteres]",
         "Análise genética de 25.000 mães e bebês chineses revela genes únicos associados ao risco de doenças"
        ],
        [
         null,
         "In 1898, two male lions terrorized an encampment of bridge builders on the Tsavo River in Kenya. The lions, which were massive and maneless, crept into the camp at night, raided the tents and dragged… [+7186 chars]",
         "Scientists analyzed hairs extracted from the broken teeth of two 19th century 'man-eater' lions. Their analysis revealed DNA from giraffe, human, oryx, waterbuck, wildebeest and zebra as prey, along with hairs that originated from the lions.",
         "2024-10-11T18:09:45Z",
         "Genomic study identifies human, animal hair in 'man-eater' lions' teeth",
         "https://www.sciencedaily.com/releases/2024/10/241011140945.htm",
         "https://www.sciencedaily.com/images/scidaily-icon.png",
         "2024-10-10",
         null,
         "Science Daily",
         "Cientistas analisaram pelos extraídos de dentes quebrados de dois leões 'devoradores de homens' do século 19. A análise revelou DNA de girafa, humano, órix, antílope aquático, gnu e zebra como presas, junto com pelos originários dos leões.",
         "Em 1898, dois leões machos aterrorizaram um acampamento de construtores de pontes no Rio Tsavo, no Quênia. Os leões, que eram enormes e sem juba, entraram furtivamente no acampamento à noite, invadiram as tendas e arrastaram… [+7186 caracteres]",
         "Estudo genômico identifica pelos humanos e animais em dentes de leões 'devoradores de homens'"
        ],
        [
         null,
         "Naukowcy s o krok bliej do rozwizania zagadki ostatniego wielkiego wymierania ludzkoci i odpowiedzi na pytanie, dlaczego wyginli neandertalczycy. Neandertalczycy s naszymi najbliszymi staroytnymi kre… [+5505 chars]",
         "Naukowcy odkryli nowe informacje na temat jednego z ostatnich żyjących neandertalczyków. Sekwencjonując DNA z jednego z zębów, odkryli zupełnie nową linię genetyczną. Wskazuje ona na rozmnażanie się w niewielkiej puli genetycznej, co może pomóc wyjaśnić, dlac…",
         "2024-10-05T14:18:13Z",
         "Kazirodztwo wykończyło neandertalczyków? Badania DNA rzucają nowe światło na historię świata",
         "https://businessinsider.com.pl/technologie/nauka/kazirodztwo-wykonczylo-neandertalczykow-badania-dna-rzucaja-nowe-spojrzenie-na/3ry55j3",
         "https://ocdn.eu/pulscms-transforms/1/K8vk9kpTURBXy8wODQ0YjkxZTk2NjYyYmIzZTUyOWVhNGMyNzBhNWFjZi5qcGeSlQMAzJ_NFAPNC0KTBc0EsM0Cdt4AAaEwAQ",
         "2024-10-04",
         null,
         "Businessinsider.com.pl",
         "Os cientistas descobriram novas informações sobre um dos últimos Neandertais vivos. Ao sequenciar o DNA de um dos dentes, eles descobriram uma linha genética completamente nova. Indica reprodução num pequeno pool genético, o que pode ajudar a explicar porquê...",
         "Os cientistas estão um passo mais perto de resolver o mistério da última grande extinção da humanidade e de responder à questão de por que os Neandertais foram extintos. Os neandertais são nossas criaturas antigas mais próximas… [+5505 caracteres]",
         "O incesto acabou com os Neandertais? Pesquisa de DNA lança nova luz sobre a história mundial"
        ],
        [
         null,
         "Researchers at Yale School of Medicine, found a higher concentration of a specific kind of DNA -- extrachromosomal or ecDNA -- in more aggressive and advanced cancers that could mark them as targets … [+2329 chars]",
         "Researchers found a higher concentration of a specific kind of DNA -- extrachromosomal or ecDNA -- in more aggressive and advanced cancers that could mark them as targets for future therapies. They found significantly higher amounts of ecDNA in tumors from pr…",
         "2024-10-17T15:37:04Z",
         "Specific type of DNA could be a target of future cancer therapies",
         "https://www.sciencedaily.com/releases/2024/10/241017113704.htm",
         "https://www.sciencedaily.com/images/scidaily-icon.png",
         "2024-10-16",
         null,
         "Science Daily",
         "Pesquisadores encontraram uma concentração maior de um tipo específico de DNA -- extracromossômico ou ecDNA -- em cânceres mais agressivos e avançados que poderiam marcá-los como alvos para terapias futuras. Eles encontraram quantidades significativamente maiores de ecDNA em tumores de pr…",
         "Pesquisadores da Escola de Medicina de Yale encontraram uma concentração maior de um tipo específico de DNA — extracromossômico ou ecDNA — em cânceres mais agressivos e avançados, o que poderia marcá-los como alvos … [+2329 caracteres]",
         "Um tipo específico de DNA pode ser alvo de futuras terapias contra o câncer"
        ],
        [
         "Andrea Fasolo, Saptarathi Deb, Piergiorgio Stevanato, Giuseppe Concheri, Andrea Squartini",
         "Introduction\r\nThe stages of development of high-throughput and Next Generation Sequencing methods have unfolded at such a fast pace in the past two decades, that nowadays the term NGS itself is sound… [+42336 chars]",
         "In microbial community sequencing, involving bacterial ribosomal 16S rDNA or fungal ITS, the targeted genes are the basis for taxonomical assignment. The traditional bioinformatical procedure has for decades made use of a clustering protocol by which sequence…",
         "2024-10-03T14:00:00Z",
         "ASV vs OTUs clustering: Effects on alpha, beta, and gamma diversities in microbiome metabarcoding studies",
         "https://journals.plos.org/plosone/article?id=10.1371/journal.pone.0309065",
         "https://journals.plos.org/plosone/article/figure/image?id=10.1371/journal.pone.0309065.g005&size=inline",
         "2024-10-02",
         null,
         "Plos.org",
         "No sequenciamento de comunidade microbiana, envolvendo 16S rDNA ribossomal bacteriano ou ITS fúngico, os genes alvos são a base para atribuição taxonômica. O procedimento bioinformático tradicional tem feito uso, por décadas, de um protocolo de agrupamento pelo qual a sequência…",
         "Introdução\nOs estágios de desenvolvimento de métodos de alto rendimento e sequenciamento de próxima geração se desenrolaram em um ritmo tão rápido nas últimas duas décadas, que hoje em dia o próprio termo NGS é sólido… [+42336 caracteres]",
         "Agrupamento de ASV vs OTUs: efeitos nas diversidades alfa, beta e gama em estudos de metabarcodificação do microbioma"
        ],
        [
         "Antonio Regalado",
         "The chief intellectual-property attorney at the University of California, Randi Jenkins, confirmed the plan to revoke the two patents but downplayed their importance. \r\nThese two European patents are… [+2078 chars]",
         "In the decade-long fight to control CRISPR, the super-tool for modifying DNA, it’s been common for lawyers to try to overturn patents held by competitors by pointing out errors or inconsistencies. But now, in a surprise twist, the team which earned the Nobel …",
         "2024-09-25T15:32:32Z",
         "Two Nobel Prize winners want to cancel their own CRISPR patents in Europe",
         "https://www.technologyreview.com/2024/09/25/1104475/nobel-prize-winners-cancel-crispr-patents-europe/",
         "https://wp.technologyreview.com/wp-content/uploads/2024/09/240924_CRISPRpatent.jpg?resize=1200,600",
         "2024-09-25",
         null,
         "MIT Technology Review",
         "Na luta de uma década para controlar o CRISPR, a superferramenta para modificar o DNA, tem sido comum que advogados tentem anular patentes detidas por concorrentes apontando erros ou inconsistências. Mas agora, em uma reviravolta surpreendente, a equipe que ganhou o Nobel …",
         "A advogada chefe de propriedade intelectual da Universidade da Califórnia, Randi Jenkins, confirmou o plano de revogar as duas patentes, mas minimizou sua importância. \nEstas duas patentes europeias são… [+2078 caracteres]",
         "Dois vencedores do Prêmio Nobel querem cancelar suas próprias patentes CRISPR na Europa"
        ],
        [
         "Arden Dier",
         "The idea that Christopher Columbus discovered the Americas long ago moved from the history books to the garbage can, but if you need more disputing evidence, you can find it in a new study on the Vik… [+2003 chars]",
         "The idea that Christopher Columbus discovered the Americas long ago moved from the history books to the garbage can, but if you need more disputing evidence, you can find it in a new study on the Vikings, whose quest for ivory is believed to have led them int…",
         "2024-10-03T17:05:00Z",
         "'Big News' From DNA: Probable Viking, Inuit Encounters",
         "https://www.newser.com/story/357258/big-news-from-dna-probable-viking-inuit-encounters.html",
         "https://img1-azrcdn.newser.com/image/1563840-12-20241003122002.jpeg",
         "2024-10-03",
         null,
         "Newser",
         "A ideia de que Cristóvão Colombo descobriu as Américas há muito tempo saiu dos livros de história e foi para a lata de lixo, mas se você precisar de mais evidências controversas, poderá encontrá-las em um novo estudo sobre os vikings, cuja busca por marfim acredita-se que os levou a…",
         "A ideia de que Cristóvão Colombo descobriu as Américas há muito tempo saiu dos livros de história para a lata de lixo, mas se você precisar de mais evidências controversas, poderá encontrá-las em um novo estudo sobre os Vik… [+2003 caracteres]",
         "'Grandes notícias' do DNA: prováveis ​​encontros entre vikings e inuítes"
        ],
        [
         "Ashley Strickland",
         "Sign up for CNNs Wonder Theory science newsletter. Explore the universe with news on fascinating discoveries, scientific advancements and more.\r\nTwo male lions became infamous for terrorizing and eat… [+8385 chars]",
         "Hairs trapped in cavities of the infamous lions that hunted humans in Kenya’s Tsavo region in 1898 revealed the surprising prey of the massive cats, a study found.",
         "2024-10-11T22:51:53Z",
         "DNA reveals surprises trapped in teeth of ‘Tsavo man-eater’ lions",
         "https://www.cnn.com/2024/10/11/science/tsavo-man-eater-lions-hair-dna/index.html",
         "https://media.cnn.com/api/v1/images/stellar/prod/z94320-5c.jpg?c=16x9&q=w_800,c_fill",
         "2024-10-10",
         "cnn",
         "CNN",
         "Pelos presos nas cavidades dos infames leões que caçavam humanos na região de Tsavo, no Quênia, em 1898, revelaram as presas surpreendentes desses enormes felinos, segundo um estudo.",
         "Inscreva-se no boletim informativo científico Wonder Theory da CNN. Explore o universo com notícias sobre descobertas fascinantes, avanços científicos e muito mais. \nDois leões machos se tornaram infames por aterrorizar e comer… [+8385 caracteres]",
         "DNA revela surpresas presas nos dentes dos leões ‘devoradores de homens de Tsavo’"
        ],
        [
         "Barry Ritholtz",
         "The transcript from this weeks, MiB: Vincent Aita of Cutter Capital on the DNA of Biotech Investing, is below.\r\nYou can stream and download our full conversation, including any podcast extras, on App… [+62039 chars]",
         "The transcript from this week’s, MiB: Vincent Aita of Cutter Capital on the DNA of Biotech Investing, is below. You can stream and download our full conversation, including any podcast extras, on Apple Podcasts, Spotify, YouTube, and Bloomberg. All of our ear…",
         "2024-10-08T12:30:02Z",
         "Transcript: Vincent Aita of Cutter Capital",
         "https://ritholtz.com/2024/10/transcript-vincent-aita/",
         "https://ritholtz.com/wp-content/uploads/2023/02/Mib-tile.png",
         "2024-10-08",
         null,
         "Ritholtz.com",
         "A transcrição do MiB desta semana: Vincent Aita da Cutter Capital sobre o DNA do investimento em biotecnologia está abaixo. Você pode transmitir e baixar nossa conversa completa, incluindo quaisquer extras de podcast, no Apple Podcasts, Spotify, YouTube e Bloomberg. Todos os nossos ouvidos…",
         "A transcrição desta semana, MiB: Vincent Aita da Cutter Capital sobre o DNA do investimento em biotecnologia, está abaixo. \nVocê pode transmitir e baixar nossa conversa completa, incluindo quaisquer extras de podcast, no App… [+62039 chars]",
         "Transcrição: Vincent Aita da Cutter Capital"
        ],
        [
         "Business Wire",
         "Short Fragment Depletor 10 High Throughput (SFD-10HT) kit for long Read Sequencing technologiesGAITHERSBURG, Md. MagBio Genomics, Inc., a company that focuses on magnetic bead-based nucleic acids sam… [+3372 chars]",
         "Now Launching in US its patent pending, first magnetic bead-based Short Fragment Depletor – 10 High Throughput (SFD-10HT) kit for long Read Sequencing technologies GAITHERSBURG, Md. — MagBio Genomics, Inc., a company that focuses on magnetic bead-based nuclei…",
         "2024-10-09T12:13:08Z",
         "MagBio Launches Short Fragment Depletor – 10 High Throughput Kit (SFD-10HT); Bead-based Reagent That Progressively Depletes DNA Fragments",
         "https://financialpost.com/pmn/business-wire-news-releases-pmn/magbio-launches-short-fragment-depletor-10-high-throughput-kit-sfd-10ht-bead-based-reagent-that-progressively-depletes-dna-fragments",
         null,
         "2024-10-09",
         "financial-post",
         "Financial Post",
         "Agora lançando nos EUA seu primeiro kit SFD-10HT (Short Fragment Depletor – 10 High Throughput) baseado em esferas magnéticas, com patente pendente, para tecnologias de sequenciamento de leitura longa GAITHERSBURG, Md. — MagBio Genomics, Inc., uma empresa focada em núcleos baseados em esferas magnéticas…",
         "Kit SFD-10HT (Short Fragment Depletor 10 High Throughput) para tecnologias de sequenciamento de leitura longaGAITHERSBURG, Md. MagBio Genomics, Inc., uma empresa que se concentra em amostras de ácidos nucleicos baseadas em esferas magnéticas… [+3372 caracteres]",
         "MagBio lança Short Fragment Depletor – 10 High Throughput Kit (SFD-10HT); reagente baseado em esferas que depleta progressivamente fragmentos de DNA"
        ],
        [
         "Christian Pérez Redactor especializado en divulgación científica e histórica",
         "La historia de la humanidad está escrita en nuestros genes, y uno de los grandes misterios que ha fascinado a científicos de todo el mundo es el origen de nuestra especie. Durante años, la teoría pre… [+7832 chars]",
         "Las investigaciones genéticas desvelan que todos los humanos modernos descendemos de un ancestro africano común, producto de una fascinante mezcla de diversas poblaciones en el continente.",
         "2024-09-20T18:30:00Z",
         "Todos somos africanos: la historia genética de la humanidad",
         "https://www.muyinteresante.com/historia/66110.html",
         "https://imagenes.muyinteresante.com/files/article_social_75/uploads/2024/09/20/66edaf26916c7.jpeg",
         "2024-09-19",
         null,
         "Muyinteresante.com",
         "A investigação genética revela que todos os humanos modernos descendem de um ancestral africano comum, produto de uma mistura fascinante de diversas populações no continente.",
         "A história da humanidade está escrita em nossos genes, e um dos grandes mistérios que tem fascinado cientistas de todo o mundo é a origem da nossa espécie. Durante anos, a teoria pre… [+7832 caracteres]",
         "Somos todos africanos: a história genética da humanidade"
        ],
        [
         "Codexis, Inc.",
         "REDWOOD CITY, Calif., Oct. 01, 2024 (GLOBE NEWSWIRE) -- Codexis, Inc. (NASDAQ: CDXS), a leading enzyme engineering company, today announced it has entered into a non-exclusive commercial and manufact… [+9903 chars]",
         "Non-exclusive license includes HiFi DNA Polymerase, HiTemp Reverse Transcriptase, HiRev Isothermal Polymerase and other enzymes for genomics and diagnostic applications Non-exclusive license includes HiFi DNA Polymerase, HiTemp Reverse Transcriptase, HiRev Is…",
         "2024-10-01T11:05:00Z",
         "Codexis Licenses Genomics Life Science Enzyme Portfolio to Alphazyme LLC, part of Maravai LifeSciences",
         "https://www.globenewswire.com/news-release/2024/10/01/2955974/24825/en/Codexis-Licenses-Genomics-Life-Science-Enzyme-Portfolio-to-Alphazyme-LLC-part-of-Maravai-LifeSciences.html",
         "https://ml.globenewswire.com/Resource/Download/ebbfa755-c2db-4783-aace-43c700ba3369",
         "2024-09-30",
         null,
         "GlobeNewswire",
         "A licença não exclusiva inclui HiFi DNA Polymerase, HiTemp Reverse Transcriptase, HiRev Isothermal Polymerase e outras enzimas para aplicações genômicas e de diagnóstico. A licença não exclusiva inclui HiFi DNA Polymerase, HiTemp Reverse Transcriptase, HiRev Is…",
         "REDWOOD CITY, Califórnia, 01 de outubro de 2024 (GLOBE NEWSWIRE) -- A Codexis, Inc. (NASDAQ: CDXS), uma empresa líder em engenharia de enzimas, anunciou hoje que firmou um acordo comercial e de fabricação não exclusivo… [+9903 caracteres]",
         "Codexis licencia portfólio de enzimas de ciências biológicas da genômica para Alphazyme LLC, parte da Maravai LifeSciences"
        ],
        [
         "Daniela Hirschfeld, Knowable en español",
         "Peter Mombaerts es un hombre de fuertes preferencias. Le gusta la cerveza belga, en parte, pero no totalmente, por razones patrióticas. Le gusta la música clásica y observar la Tierra desde arriba mi… [+15830 chars]",
         "Está claro que genes, receptores y neuronas intervienen en la detección de los olores. Pero gran parte del sentido que damos a lo que olfateamos sigue siendo un misterio. Un neurocientífico nos lo explica.",
         "2024-10-14T16:21:00Z",
         "¿Cómo funciona el olfato y de qué forma detectamos los olores?",
         "https://www.nacion.com/revista-dominical/como-funciona-el-olfato-y-de-que-forma-detectamos/WB34JTOUBJH2FBB2IF266UUY74/story/",
         "https://www.nacion.com/resizer/v2/Y7URNP234NGU5E2Z5C7ZWEZ5LE.jpeg?smart=true&auth=585ec40413ccdf2c7188b600d9cc23b362de8ea7f8d44bafc9146b50cd4d47e5&width=1440",
         "2024-10-14",
         null,
         "Nacion.com",
         "É claro que genes, receptores e neurônios estão envolvidos na detecção de odores. Mas muito do significado que damos ao que cheiramos permanece um mistério. Um neurocientista nos explica isso.",
         "Peter Mombaerts é um homem de fortes preferências. Ele gosta de cerveja belga, em parte, mas não inteiramente, por razões patrióticas. Ele gosta de música clássica e de observar a Terra de cima do meu… [+15830 caracteres]",
         "Como funciona o cheiro e como detectamos odores?"
        ],
        [
         "Demaris Mills, Forbes Councils Member, \n Demaris Mills, Forbes Councils Member\n https://www.forbes.com/councils/forbestechcouncil/people/demarismills/",
         "Demaris Mills is president at Integrated DNA Technologies, a global genomics solutions provider.\r\ngetty\r\nThe past seven years have brought a remarkable boom in genomics medicine. The first CAR-T cell… [+4624 chars]",
         "For the biopharma industry to match the pace of genomic innovations and speed new therapies to market, it will need to embrace innovative collaborations.",
         "2024-10-08T11:30:00Z",
         "How Collaborations Can Help Match The Pace Of Genomics Advances",
         "https://www.forbes.com/councils/forbestechcouncil/2024/10/08/how-collaborations-can-help-match-the-pace-of-genomics-advances/",
         "https://imageio.forbes.com/specials-images/imageserve/670407b06071e249439a225e/0x0.jpg?format=jpg&height=900&width=1600&fit=bounds",
         "2024-10-08",
         null,
         "Forbes",
         "Para que a indústria biofarmacêutica acompanhe o ritmo das inovações genômicas e acelere a chegada de novas terapias ao mercado, será necessário adotar colaborações inovadoras.",
         "Demaris Mills é presidente da Integrated DNA Technologies, uma provedora global de soluções genômicas. \ngetty \nOs últimos sete anos trouxeram um boom notável na medicina genômica. A primeira célula CAR-T… [+4624 chars]",
         "Como as colaborações podem ajudar a acompanhar o ritmo dos avanços da genômica"
        ],
        [
         "Dimension Market Research",
         "New York, Sept. 19, 2024 (GLOBE NEWSWIRE) -- Market Overview\r\nThe Global DNA and RNA Extraction Market is projected to reach USD 7.9 billion in 2024 and is expected to grow to USD 16.4 billion by 203… [+14937 chars]",
         "Advancements and Projections in the DNA and RNA Extraction Market: Insights, Trends, Opportunities, and Recent Developments Advancements and Projections in the DNA and RNA Extraction Market: Insights, Trends, Opportunities, and Recent Developments",
         "2024-09-19T17:51:00Z",
         "DNA and RNA Extraction Market Is Expected To Reach Revenue Of USD 16.4 Bn By 2033, At 8.4% CAGR: Dimension Market Research",
         "https://www.globenewswire.com/news-release/2024/09/19/2949350/0/en/DNA-and-RNA-Extraction-Market-Is-Expected-To-Reach-Revenue-Of-USD-16-4-Bn-By-2033-At-8-4-CAGR-Dimension-Market-Research.html",
         "https://ml-eu.globenewswire.com/Resource/Download/a4df4c2d-98b9-4595-8455-3d6a9ff15a71",
         "2024-09-19",
         null,
         "GlobeNewswire",
         "Avanços e projeções no mercado de extração de DNA e RNA: insights, tendências, oportunidades e desenvolvimentos recentes Avanços e projeções no mercado de extração de DNA e RNA: insights, tendências, oportunidades e desenvolvimentos recentes",
         "Nova York, 19 de setembro de 2024 (GLOBE NEWSWIRE) -- Visão geral do mercado\nO mercado global de extração de DNA e RNA deve atingir US$ 7,9 bilhões em 2024 e deve crescer para US$ 16,4 bilhões até 203… [+14937 caracteres]",
         "O mercado de extração de DNA e RNA deve atingir receita de US$ 16,4 bilhões até 2033, com CAGR de 8,4%: Dimension Market Research"
        ],
        [
         "Dr. Monica M. Bertagnolli",
         "Posted on October 17th, 2024 by Dr. Monica M. Bertagnolli\r\nSome bacteria can produce more than one protein from a gene by “flipping” stretches of DNA. Credit: Donny Bliss/NIH\r\nProteins are vital to o… [+4029 chars]",
         "Proteins are vital to our bodies. They serve as structural building blocks for our tissues and organs and are responsible for their functioning in both health and disease. Genes, like recipes, contain instructions for making proteins. Usually, each essential …",
         "2024-10-17T14:00:00Z",
         "Bacteria Flip Gene Segments to Alter Proteins Surprisingly Often, with Implications for Human Health",
         "https://directorsblog.nih.gov/2024/10/17/bacteria-flip-gene-segments-to-alter-proteins-surprisingly-often-with-implications-for-human-health/",
         "https://directorsblog.nih.gov/wp-content/uploads/2024/10/DNA-flipping-1.3.jpg",
         "2024-10-16",
         null,
         "National Institutes of Health",
         "Proteínas são vitais para nossos corpos. Elas servem como blocos de construção estruturais para nossos tecidos e órgãos e são responsáveis ​​por seu funcionamento tanto na saúde quanto na doença. Genes, como receitas, contêm instruções para fazer proteínas. Normalmente, cada essencial …",
         "Publicado em 17 de outubro de 2024 pela Dra. Monica M. Bertagnolli \nAlgumas bactérias podem produzir mais de uma proteína de um gene ao “inverter” trechos de DNA. Crédito: Donny Bliss/NIH \nAs proteínas são vitais para o… [+4029 chars]",
         "Bactérias invertem segmentos genéticos para alterar proteínas com frequência surpreendente, com implicações para a saúde humana"
        ],
        [
         "Environmental Molecular Sciences Laboratory",
         "The single-cell green alga Chromochloris zofingiensis is an emerging model organism for photosynthesis and metabolism research. Previous research has shown that with the addition of glucose, Chromoch… [+2467 chars]",
         "The single-cell green alga Chromochloris zofingiensis is an emerging model organism for photosynthesis and metabolism research. Previous research has shown that with the addition of glucose, Chromochloris zofingiensis shuts off photosynthesis, reroutes its me…",
         "2024-09-27T15:47:09Z",
         "How iron and metabolic constraints can aid gene discovery for photosynthesis and biofuel production",
         "https://phys.org/news/2024-09-iron-metabolic-constraints-aid-gene.html",
         "https://scx2.b-cdn.net/gfx/news/hires/2024/how-iron-and-metabolic.jpg",
         "2024-09-26",
         null,
         "Phys.Org",
         "A alga verde unicelular Chromochloris zofingiensis é um organismo modelo emergente para pesquisa de fotossíntese e metabolismo. Pesquisas anteriores mostraram que, com a adição de glicose, Chromochloris zofingiensis desliga a fotossíntese, redireciona seu me…",
         "A alga verde unicelular Chromochloris zofingiensis é um organismo modelo emergente para pesquisa de fotossíntese e metabolismo. Pesquisas anteriores mostraram que com a adição de glicose, Chromoch… [+2467 chars]",
         "Como o ferro e as restrições metabólicas podem auxiliar na descoberta de genes para a fotossíntese e a produção de biocombustíveis"
        ],
        [
         "Eslam Hamouda, Mayada Tarek",
         "Abstract\r\nDNA splice junction classification is a crucial job in computational biology. The challenge is to predict the junction type (IE, EI, or N) from a given DNA sequence. Predicting junction typ… [+40849 chars]",
         "DNA splice junction classification is a crucial job in computational biology. The challenge is to predict the junction type (IE, EI, or N) from a given DNA sequence. Predicting junction type is crucial for understanding gene expression patterns, disease cause…",
         "2024-09-23T14:00:00Z",
         "A hybrid approach of ensemble learning and grey wolf optimizer for DNA splice junction prediction",
         "https://journals.plos.org/plosone/article?id=10.1371/journal.pone.0310698",
         "https://journals.plos.org/plosone/article/figure/image?id=10.1371/journal.pone.0310698.g007&size=inline",
         "2024-09-23",
         null,
         "Plos.org",
         "A classificação de junções de splicing de DNA é um trabalho crucial em biologia computacional. O desafio é prever o tipo de junção (IE, EI ou N) de uma dada sequência de DNA. Prever o tipo de junção é crucial para entender padrões de expressão genética, causa de doenças…",
         "Resumo\nA classificação de junções de splicing de DNA é um trabalho crucial em biologia computacional. O desafio é prever o tipo de junção (IE, EI ou N) de uma dada sequência de DNA. Prever o tipo de junção… [+40849 caracteres]",
         "Uma abordagem híbrida de aprendizagem de conjunto e otimizador de lobo cinzento para predição de junção de emenda de DNA"
        ],
        [
         "Internazionale",
         "Negli ultimi anni è stata ricostruita la genetica dellHomo neanderthalensis, una forma umana estinta. Il lavoro è stato possibile grazie al ritrovamento del dna di neandertal in molti siti in Eurasia… [+1163 chars]",
         "Negli ultimi anni è stata ricostruita la genetica dell’Homo neanderthalensis, una forma umana estinta. Il lavoro è stato possibile grazie al ritrovamento del dna di neandertal… Leggi",
         "2024-09-19T10:12:52Z",
         "Gli altri neandertal",
         "https://www.internazionale.it/magazine/2024/09/19/gli-altri-neandertal",
         "https://media.internazionale.it/images/2024/09/19/246438-sd.jpg",
         "2024-09-19",
         null,
         "Internazionale.it",
         "Nos últimos anos, a genética do Homo neanderthalensis, uma forma humana extinta, foi reconstruída. O trabalho foi possível graças à descoberta do DNA neandertal... Leia",
         "Nos últimos anos, a genética do Homo neanderthalensis, uma forma humana extinta, foi reconstruída. O trabalho foi possível graças à descoberta do DNA Neandertal em muitos locais da Eurásia… [+1163 caracteres]",
         "Os outros Neandertais"
        ],
        [
         "Investing.com",
         "BRISBANE, Calif. - CareDx, Inc. (NASDAQ: NASDAQ:CDNA), a precision medicine company specializing in healthcare solutions for transplant patients, announced today that the Department of Justice (DOJ) … [+5106 chars]",
         "DOJ drops CareDx investigation without charges",
         "2024-10-08T10:08:55Z",
         "DOJ drops CareDx investigation without charges",
         "https://www.investing.com/news/company-news/doj-drops-caredx-investigation-without-charges-93CH-3652680",
         "https://i-invdn-com.investing.com/redesign/images/seo/investing_300X300.png",
         "2024-10-07",
         null,
         "Investing.com",
         "DOJ abandona investigação da CareDx sem acusações",
         "BRISBANE, Califórnia - CareDx, Inc. (NASDAQ: NASDAQ: CDNA), uma empresa de medicina de precisão especializada em soluções de saúde para pacientes transplantados, anunciou hoje que o Departamento de Justiça (DOJ) … [+5106 caracteres]",
         "DOJ abandona investigação da CareDx sem acusações"
        ],
        [
         "James Purtill",
         "When I learnt this week the company 23andMe was facing bankruptcy and may sell its customers' genetic data to the highest bidder, I had three thoughts:\r\n<ol><li>they have my brother's genetic data</l… [+12396 chars]",
         "Eight years ago, in what now seems like an act of reckless naivety, I bought my brother a 23andMe at-home DNA-test birthday present. Now the struggling company may sell its treasure trove of genetic data.",
         "2024-10-16T19:00:00Z",
         "Eight years ago, my brother gave his DNA to 23andMe. We can't take it back — and it may soon get sold",
         "https://www.abc.net.au/news/science/2024-10-17/23andme-genetic-data-privacy-bankrupt-dna-test-ancestry/104455816",
         "https://live-production.wcms.abc-cdn.net.au/30ca373d6a9f2997970e45dd6c07081a?impolicy=wcms_watermark_news&cropH=2160&cropW=3840&xPos=0&yPos=216&width=862&height=485&imformat=generic",
         "2024-10-16",
         "abc-news-au",
         "ABC News (AU)",
         "Oito anos atrás, no que agora parece um ato de ingenuidade imprudente, comprei para meu irmão um presente de aniversário de teste de DNA em casa da 23andMe. Agora, a empresa em dificuldades pode vender seu tesouro de dados genéticos.",
         "Quando soube esta semana que a empresa 23andMe estava à beira da falência e poderia vender os dados genéticos de seus clientes para o maior lance, pensei três coisas: \n<ol><li>eles têm os dados genéticos do meu irmão</l… [+12396 caracteres]",
         "Oito anos atrás, meu irmão deu seu DNA para 23andMe. Não podemos retirá-lo — e ele pode ser vendido em breve"
        ],
        [
         "Jaroslav Petr",
         "Kde jsou ty asy, kdy bývávalo v evoluci lidstva ve jasné. Z lovka Homo erectus se vyvinul Homo neanderthalensis a z nj pak Homo sapiens. Pak se to trochu zkomplikovalo. To kdy se ukázalo, e neandertá… [+4662 chars]",
         "** Historie lidstva se zamotává, k čemuž vydatně k tomu přispěla přečtená Thorinova pravěká DNA ** Tento neandertálec patřil k tajemné populaci, která měla kolem sebe „příbuzné“, ale po více než 50 000 let se od všech izolovala ** Proč? Nemáme nejmenší tušení",
         "2024-09-19T09:45:00Z",
         "Thorin z Mandrinovy jeskyně byl jen začátek. Na základě analýz DNA se rýsuje další populace neandertálských „duchů“",
         "https://vtm.zive.cz/clanky/thorin-z-mandrinovy-jeskyne-byl-jen-zacatek-na-zaklade-analyz-dna-se-rysuje-dalsi-populace-neandertalskych-duchu/sc-870-a-230209/default.aspx",
         "https://www.zive.cz/getthumbnail.aspx?q=100&height=20000&width=20000&id_file=11375888",
         "2024-09-19",
         null,
         "Zive.cz",
         "** A história humana está ficando complicada, muito auxiliada pela leitura do DNA pré-histórico de Thorin ** Este Neandertal pertencia a uma população misteriosa que tinha \"parentes\" ao seu redor, mas se isolou de todos por mais de 50.000 anos ** Por quê? Não temos ideia",
         "Onde estão os ases quando isso era claro na evolução da humanidade. Do caçador Homo erectus evoluiu o Homo neanderthalensis e dele o Homo sapiens. Aí ficou um pouco complicado. Quando descobriu-se que os Neandertais… [+4662 caracteres]",
         "Thorin da Caverna de Mandrin foi apenas o começo. Outra população de 'fantasmas' de Neandertal se aproxima, com base em análises de DNA"
        ],
        [
         "Jonathan Palmer, Forbes Staff, \n Jonathan Palmer, Forbes Staff\n https://www.forbes.com/sites/jonathanpalmer/",
         "Genetic factors play a role in as much as 10% of all cases of breast and ovarian cancer. And yet, according to a new study published in the Journal of the American Medical Association, there is a sig… [+331 chars]",
         "Genetic factors play a role in as much as 10% of all cases of breast and ovarian cancer. And yet, according to a new study published in the Journal of the American Medical Association, there is a significant number of patients who are not aware that they carr…",
         "2024-10-09T21:40:21Z",
         "Stunning New JAMA Study Shows Many People Don't Know They Carry Genes For Breast Cancer",
         "https://www.forbes.com/video/763979ee-a643-4cbf-a7af-d802408d7cd2/stunning-new-jama-study-shows-many-people-dont-know-they-carry-genes-for-breast-cancer/",
         "https://imageio.forbes.com/i-forbesimg/media/video/2024/10/09/763979ee-a643-4cbf-a7af-d802408d7cd2_thumb.jpg?format=jpg&height=460&width=800&fit=bounds",
         "2024-10-09",
         null,
         "Forbes",
         "Fatores genéticos desempenham um papel em até 10% de todos os casos de câncer de mama e ovário. E ainda assim, de acordo com um novo estudo publicado no Journal of the American Medical Association, há um número significativo de pacientes que não sabem que são portadores…",
         "Fatores genéticos desempenham um papel em até 10% de todos os casos de câncer de mama e ovário. E ainda assim, de acordo com um novo estudo publicado no Journal of the American Medical Association, há um sig… [+331 chars]",
         "Novo estudo impressionante do JAMA mostra que muitas pessoas não sabem que carregam genes para câncer de mama"
        ],
        [
         "Jérémie Le Pen, Gabrielle Paniccia, Volker Kinast, Marcela Moncada-Velez, Alison W. Ashbrook, Michael Bauer, H.-Heinrich Hoffmann, Ana Pinharanda, Inna Ricardo-Lax, Ansgar F. Stenzel, Edwin A. Rosado-Olivieri, Kenneth H. Dinnon III, William C. Doyle, Catherine A. Freije, Seon-Hui Hong, Danyel Lee, Tyler Lewy, Joseph M. Luna, Avery Peace, Carltin Schmidt, William M. Schneider, Roni Winkler, Elaine Z. Yip, Chloe Larson, Timothy McGinn, Miriam-Rose Menezes, Lavoisier Ramos-Espiritu, Priyam Banerjee, John T. Poirier, Francisco J. Sànchez-Rivera, Aurélie Cobat, Qian Zhang, Jean-Laurent Casanova, Thomas S. Carroll, J. Fraser Glickman, Eleftherios Michailidis, Brandon Razooky, Margaret R. MacDonald, Charles M. Rice",
         "Citation: Le Pen J, Paniccia G, Kinast V, Moncada-Velez M, Ashbrook AW, Bauer M, et al. (2024) A genome-wide arrayed CRISPR screen identifies PLSCR1 as an intrinsic barrier to SARS-CoV-2 entry that r… [+119907 chars]",
         "Interferons (IFNs) have a role in the regulation of virus-host interactions. This study uses genome-wide CRISPR knockout screen data to identify 28 genes that impact SARS-CoV-2 infection, including PLSCR1, which restricts spike-mediated SARS-CoV-2 entry indep…",
         "2024-09-24T14:00:00Z",
         "A genome-wide arrayed CRISPR screen identifies PLSCR1 as an intrinsic barrier to SARS-CoV-2 entry that recent virus variants have evolved to resist",
         "https://journals.plos.org/plosbiology/article?id=10.1371/journal.pbio.3002767",
         "https://journals.plos.org/plosbiology/article/figure/image?id=10.1371/journal.pbio.3002767.g007&size=inline",
         "2024-09-24",
         null,
         "Plos.org",
         "Interferons (IFNs) têm um papel na regulação das interações vírus-hospedeiro. Este estudo usa dados de triagem de knockout CRISPR em todo o genoma para identificar 28 genes que impactam a infecção por SARS-CoV-2, incluindo PLSCR1, que restringe a entrada de SARS-CoV-2 mediada por spike indep…",
         "Citação: Le Pen J, Paniccia G, Kinast V, Moncada-Velez M, Ashbrook AW, Bauer M, et al. (2024) Uma triagem CRISPR de todo o genoma identifica PLSCR1 como uma barreira intrínseca à entrada do SARS-CoV-2 que r… [+119907 caracteres]",
         "Uma triagem CRISPR de todo o genoma identifica PLSCR1 como uma barreira intrínseca à entrada do SARS-CoV-2 que variantes recentes do vírus evoluíram para resistir"
        ],
        [
         "Kitty",
         "23andme started out by being a leader in the direct-to-consumer (DTC) genomic testing business. Time Magazine named it the 2008 Invention of the Year![1] It was the first place I tested my own autoso… [+5473 chars]",
         "23andme started out by being a leader in the direct-to-consumer (DTC) genomic testing business. Time Magazine named it the 2008 Invention of the Year![1] It was the first place I tested my own autosomal DNA and that of many family members back in 2011-2012. O…",
         "2024-09-23T23:09:46Z",
         "23andme: Now and Then",
         "https://blog.kittycooper.com/2024/09/23andme-now-and-then/",
         null,
         "2024-09-22",
         null,
         "Kittycooper.com",
         "A 23andme começou sendo líder no negócio de testes genômicos diretos ao consumidor (DTC). A revista Time a nomeou a Invenção do Ano de 2008![1] Foi o primeiro lugar em que testei meu próprio DNA autossômico e o de muitos membros da família em 2011-2012. O…",
         "A 23andme começou como líder no negócio de testes genômicos diretos ao consumidor (DTC). A revista Time a nomeou a Invenção do Ano de 2008![1] Foi o primeiro lugar em que testei meu próprio autoso… [+5473 caracteres]",
         "23andme: Agora e Depois"
        ],
        [
         "Lars Daniel, Contributor, \n Lars Daniel, Contributor\n https://www.forbes.com/sites/larsdaniel/",
         "Low-angle view of logo on facade of personal genomics company 23AndMe in the Silicon Valley town of ... [+] Mountain View, California, October 28, 2018. (Photo by Smith Collection/Gado/Getty Images)\r… [+2273 chars]",
         "The implications of this sale are significant, raising concerns over data privacy and the potential misuse of sensitive genetic information.",
         "2024-10-15T11:09:51Z",
         "Did You Give Your DNA To 23andMe? Here’s Why You Might Regret It Soon",
         "https://www.forbes.com/sites/larsdaniel/2024/10/15/did-you-give-your-dna-to-23andme-heres-why-you-might-regret-it-soon/",
         "https://imageio.forbes.com/specials-images/imageserve/670e4cb25b370241d6bc8b0a/0x0.jpg?format=jpg&crop=2226,1044,x0,y188,safe&height=900&width=1600&fit=bounds",
         "2024-10-15",
         null,
         "Forbes",
         "As implicações desta venda são significativas, levantando preocupações sobre a privacidade de dados e o potencial uso indevido de informações genéticas sensíveis.",
         "Visão de ângulo baixo do logotipo na fachada da empresa de genômica pessoal 23AndMe na cidade de ... [+] Mountain View, Califórnia, 28 de outubro de 2018. (Foto de Smith Collection/Gado/Getty Images) … [+2273 caracteres]",
         "Você deu seu DNA para 23andMe? Aqui está o motivo pelo qual você pode se arrepender em breve"
        ],
        [
         "Lila MacLellan",
         "Anne Wojcicki, CEO of 23andMe, the struggling DNA testing company, doesnt think this is the right time to examine her leadership style. What will be most interesting is writing the story in three or … [+10297 chars]",
         "Some past employees weren’t exactly surprised when the entire board at 23andMe tester quit last month",
         "2024-10-18T10:53:25Z",
         "Behind the scenes at 23andMe, questions about a star CEO",
         "https://fortune.com/2024/10/18/behind-the-scenes-23andme-questions-about-a-star-ceo/",
         "https://fortune.com/img-assets/wp-content/uploads/2024/10/GettyImages-1172241515-e1729210725572.jpg?resize=1200,600",
         "2024-10-17",
         "fortune",
         "Fortune",
         "Alguns ex-funcionários não ficaram exatamente surpresos quando todo o conselho da 23andMe Tester pediu demissão no mês passado",
         "Anne Wojcicki, CEO da 23andMe, a empresa de testes de DNA em dificuldades, não acha que este seja o momento certo para examinar seu estilo de liderança. O mais interessante é escrever a história em três ou … [+10297 caracteres]",
         "Nos bastidores da 23andMe, perguntas sobre um CEO estrela"
        ],
        [
         "Lila MacLellan",
         "Anne Wojcicki wanted to run thingsalone.It was 2009 and her startup 23andMe was riding high, fueled by a steady stream of venture money, intriguing personal accounts of genome exploration, and the no… [+21143 chars]",
         "Former executives say Wojcicki's \"founder mode\" mentality created problems for years at the once hot DNA testing startup.",
         "2024-10-17T16:36:33Z",
         "DNA tester 23andMe’s entire board resigned on the same day. Founder Anne Wojcicki still thinks the startup is savable",
         "https://fortune.com/2024/10/17/23andme-what-happened-stock-board-resigns-anne-wojcicki/",
         "https://fortune.com/img-assets/wp-content/uploads/2024/10/wojcicki.23andme-GettyImages-1200295366-e1728064451714.jpg?resize=1200,600",
         "2024-10-16",
         "fortune",
         "Fortune",
         "Ex-executivos dizem que a mentalidade de \"modo fundador\" de Wojcicki criou problemas durante anos na outrora promissora startup de testes de DNA.",
         "Anne Wojcicki queria administrar as coisas sozinha. Era 2009 e sua startup 23andMe estava em alta, alimentada por um fluxo constante de dinheiro de risco, relatos pessoais intrigantes de exploração do genoma e o não… [+21143 caracteres]",
         "Todo o conselho do testador de DNA 23andMe renunciou no mesmo dia. A fundadora Anne Wojcicki ainda acha que a startup é salvável"
        ],
        [
         "Lucas Ropek",
         "23andMe, the well-known genomics company, has been in a downward spiral ever since it suffered a fairly catastrophic data breach last year. Ever since then, the company, which is headed by Sergei Bri… [+3581 chars]",
         "The troubled startup has records of millions of Americans' DNA and personal information.",
         "2024-10-16T14:40:37Z",
         "There’s Never Been a Better Time to Delete Your 23andMe Data. Here’s How to Do It",
         "https://gizmodo.com/theres-never-been-a-better-time-to-delete-your-23andme-data-heres-how-to-do-it-2000512323",
         "https://gizmodo.com/app/uploads/2024/10/The-23andMe-Logo-in-Mountain-View-California.jpg",
         "2024-10-16",
         null,
         "Gizmodo.com",
         "A startup problemática tem registros de DNA e informações pessoais de milhões de americanos.",
         "23andMe, a conhecida empresa de genômica, está em uma espiral descendente desde que sofreu uma violação de dados bastante catastrófica no ano passado. Desde então, a empresa, que é liderada por Sergei Bri… [+3581 caracteres]",
         "Nunca houve um momento melhor para excluir seus dados do 23andMe. Veja como fazer isso"
        ],
        [
         "MIT Technology Review Online",
         "Im jahrzehntelangen Kampf um die Kontrolle von CRISPR, dem Superwerkzeug zur DNA-Editierung, haben Anwält:innen häufig versucht, Patente von Konkurrenten zu kippen, indem sie auf Fehler oder Ungereim… [+9102 chars]",
         "Im Kampf um die Kontrolle der Genom-Editierung ist die Entscheidung von Jennifer Doudna und Emmanuelle Charpentier eine überraschende Wendung.\nweiterlesen auf t3n.de",
         "2024-09-30T08:45:47Z",
         "Streit um Gen-Editierung CRISPR: Warum die Erfinderinnen ihre europäischen Patente zurückziehen wollen",
         "https://t3n.de/news/streit-um-gen-editierung-crispr-warum-die-erfinderinnen-ihre-europaeischen-patente-zurueckziehen-wollen-1648818/",
         "https://t3n.de/news/wp-content/uploads/2022/12/DNA.jpg",
         "2024-09-30",
         "t3n",
         "T3n",
         "Na luta pelo controle da edição do genoma, a decisão de Jennifer Doudna e Emmanuelle Charpentier é uma reviravolta surpreendente.\nleia mais em t3n.de",
         "Na batalha de décadas pelo controle do CRISPR, a superferramenta de edição de DNA, os advogados muitas vezes tentaram anular as patentes dos concorrentes apontando erros ou inconsistências... [+9102 caracteres]",
         "Disputa sobre edição genética CRISPR: Por que os inventores querem retirar suas patentes europeias"
        ],
        [
         "MarketBeat News",
         "Alpha DNA Investment Management LLC acquired a new stake in shares of GeneDx Holdings Corp. (NASDAQ:WGS – Free Report) in the second quarter, according to its most recent disclosure with the SEC. The… [+5784 chars]",
         "Alpha DNA Investment Management LLC acquired a new stake in shares of GeneDx Holdings Corp. (NASDAQ:WGS – Free Report) in the second quarter, according to its most recent disclosure with the SEC. The firm acquired 13,875 shares of the company’s stock, valued …",
         "2024-09-26T21:14:50Z",
         "13,875 Shares in GeneDx Holdings Corp. (NASDAQ:WGS) Acquired by Alpha DNA Investment Management LLC",
         "https://www.etfdailynews.com/2024/09/26/13875-shares-in-genedx-holdings-corp-nasdaqwgs-acquired-by-alpha-dna-investment-management-llc/",
         "https://www.americanbankingnews.com/wp-content/timthumb/timthumb.php?src=https://www.marketbeat.com/logos/genedx-holdings-corp-logo-1200x675.jpg?v=20230206115121&w=240&h=240&zc=2",
         "2024-09-26",
         null,
         "ETF Daily News",
         "A Alpha DNA Investment Management LLC adquiriu uma nova participação em ações da GeneDx Holdings Corp. (NASDAQ:WGS – Free Report) no segundo trimestre, de acordo com sua divulgação mais recente com a SEC. A empresa adquiriu 13.875 ações do estoque da empresa, avaliadas …",
         "A Alpha DNA Investment Management LLC adquiriu uma nova participação em ações da GeneDx Holdings Corp. (NASDAQ:WGS – Free Report) no segundo trimestre, de acordo com sua divulgação mais recente com a SEC. O… [+5784 caracteres]",
         "13.875 ações da GeneDx Holdings Corp. (NASDAQ:WGS) adquiridas pela Alpha DNA Investment Management LLC"
        ],
        [
         "MarketBeat News",
         "iShares Genomics Immunology and Healthcare ETF (NYSEARCA:IDNA – Get Free Report)’s stock price rose 1% on Thursday . The stock traded as high as $24.53 and last traded at $24.42. Approximately 97,392… [+1170 chars]",
         "iShares Genomics Immunology and Healthcare ETF (NYSEARCA:IDNA – Get Free Report)’s stock price rose 1% on Thursday . The stock traded as high as $24.53 and last traded at $24.42. Approximately 97,392 shares changed hands during trading, an increase of 190% fr…",
         "2024-09-28T17:51:52Z",
         "iShares Genomics Immunology and Healthcare ETF (NYSEARCA:IDNA) Shares Up 1%",
         "https://www.etfdailynews.com/2024/09/28/ishares-genomics-immunology-and-healthcare-etf-nysearcaidna-shares-up-1/",
         "https://www.americanbankingnews.com/wp-content/timthumb/timthumb.php?src=https://www.marketbeat.com/logos/ishares-genomics-immunology-and-healthcare-etf-logo-1200x675.png&w=240&h=240&zc=2",
         "2024-09-27",
         null,
         "ETF Daily News",
         "O preço das ações do iShares Genomics Immunology and Healthcare ETF (NYSEARCA:IDNA – Obtenha o relatório gratuito) subiu 1% na quinta-feira. As ações foram negociadas a US$ 24,53 e a última negociação foi de US$ 24,42. Aproximadamente 97.392 ações mudaram de mãos durante a negociação, um aumento de 190% em relação a…",
         "O preço das ações do iShares Genomics Immunology and Healthcare ETF (NYSEARCA:IDNA – Obtenha o relatório gratuito) subiu 1% na quinta-feira. As ações foram negociadas a US$ 24,53 e a última negociação foi de US$ 24,42. Aproximadamente 97.392… [+1170 caracteres]",
         "As ações do iShares Genomics Immunology and Healthcare ETF (NYSEARCA:IDNA) sobem 1%"
        ],
        [
         "MarketBeat News",
         "iShares Genomics Immunology and Healthcare ETF (NYSEARCA:IDNA – Get Free Report) shares shot up 1% on Thursday . The company traded as high as $24.53 and last traded at $24.42. 97,392 shares changed … [+1168 chars]",
         "iShares Genomics Immunology and Healthcare ETF (NYSEARCA:IDNA – Get Free Report) shares shot up 1% on Thursday . The company traded as high as $24.53 and last traded at $24.42. 97,392 shares changed hands during mid-day trading, an increase of 190% from the a…",
         "2024-09-27T05:01:05Z",
         "iShares Genomics Immunology and Healthcare ETF (NYSEARCA:IDNA) Trading Up 1%",
         "https://www.etfdailynews.com/2024/09/27/ishares-genomics-immunology-and-healthcare-etf-nysearcaidna-trading-up-1/",
         "https://www.americanbankingnews.com/wp-content/timthumb/timthumb.php?src=https://www.marketbeat.com/logos/ishares-genomics-immunology-and-healthcare-etf-logo-1200x675.png&w=240&h=240&zc=2",
         "2024-09-26",
         null,
         "ETF Daily News",
         "As ações do iShares Genomics Immunology and Healthcare ETF (NYSEARCA:IDNA – Obtenha o relatório gratuito) dispararam 1% na quinta-feira. A empresa foi negociada a US$ 24,53 e a última negociação foi de US$ 24,42. 97.392 ações mudaram de mãos durante a negociação do meio-dia, um aumento de 190% em relação a…",
         "As ações do iShares Genomics Immunology and Healthcare ETF (NYSEARCA:IDNA – Obtenha o relatório gratuito) dispararam 1% na quinta-feira. A empresa foi negociada a US$ 24,53 e a última negociação foi de US$ 24,42. 97.392 ações mudaram … [+1168 caracteres]",
         "iShares Genomics Immunology and Healthcare ETF (NYSEARCA:IDNA) Negociação sobe 1%"
        ],
        [
         "Megan Prictor, Senior Lecturer in Law, The University of Melbourne",
         "isak55/Shutterstock\r\nSince it was founded nearly two decades ago, 23andMe has grown into one of the largest biotechnology companies in the world. Millions of people have used its simple genetic testi… [+5932 chars]",
         "There are some simple steps customers of 23andMe can take to protect their highly personal genetic data.",
         "2024-10-18T02:10:08Z",
         "A giant biotechnology company might be about to go bust. What will happen to the millions of people’s DNA it holds?",
         "https://theconversation.com/a-giant-biotechnology-company-might-be-about-to-go-bust-what-will-happen-to-the-millions-of-peoples-dna-it-holds-241557",
         "https://images.theconversation.com/files/626383/original/file-20241017-17-cxy0ba.jpg?ixlib=rb-4.1.0&rect=29%2C0%2C4962%2C2477&q=45&auto=format&w=1356&h=668&fit=crop",
         "2024-10-17",
         null,
         "The Conversation Africa",
         "Existem algumas medidas simples que os clientes da 23andMe podem tomar para proteger seus dados genéticos altamente pessoais.",
         "isak55/Shutterstock \nDesde que foi fundada há quase duas décadas, a 23andMe cresceu e se tornou uma das maiores empresas de biotecnologia do mundo. Milhões de pessoas usaram seus simples testi… [+5932 chars]",
         "Uma empresa gigante de biotecnologia pode estar prestes a falir. O que acontecerá com o DNA de milhões de pessoas que ela contém?"
        ],
        [
         "Natasha Lomas",
         "Advances in DNA sequencing and the vast amounts of genomic data being produced by next-generation sequencing (NGS) technology have created a startup opportunity to build software for biologists so th… [+6661 chars]",
         "Advances in DNA sequencing and the vast amounts of genomic data being produced by next-generation sequencing (NGS) technology have created a startup",
         "2024-10-10T07:36:20Z",
         "MiLaboratories gets $10M for a platform play to accelerate genomic research | TechCrunch",
         "https://techcrunch.com/2024/10/10/milaboratories-gets-10m-for-a-platform-play-to-accelerate-genomic-research/",
         "https://techcrunch.com/wp-content/uploads/2024/10/unnamed_44e5de.png?resize=1200,816",
         "2024-10-10",
         "techcrunch",
         "TechCrunch",
         "Os avanços na sequenciação de ADN e as grandes quantidades de dados genómicos produzidos pela tecnologia de sequenciação de próxima geração (NGS) criaram uma startup",
         "Os avanços no sequenciamento de DNA e as grandes quantidades de dados genômicos produzidos pela tecnologia de sequenciamento de última geração (NGS) criaram uma oportunidade de inicialização para construir software para biólogos para que… [+6661 caracteres]",
         "MiLaboratories recebe US$ 10 milhões para uma plataforma para acelerar a pesquisa genômica | TechCrunch"
        ],
        [
         "Pieter Arntz",
         "Deleting your personal data from 23andMe is proving to be hard.\r\nThere are good reasons for people wanting to delete their data from 23andMe: The DNA testing platform has a lot of problems, so lets s… [+5053 chars]",
         "Sure, you can request a deletion of your data from 23andMe, but that doesn’t mean the company will delete it entirely.",
         "2024-10-17T11:45:25Z",
         "23andMe will retain your genetic information, even if you delete the account",
         "https://www.malwarebytes.com/blog/news/2024/10/23andme-will-retain-your-genetic-information-even-if-you-delete-the-account",
         "https://www.malwarebytes.com/wp-content/uploads/sites/2/2024/01/23andme_logo.png",
         "2024-10-16",
         null,
         "Malwarebytes.com",
         "Claro, você pode solicitar a exclusão dos seus dados da 23andMe, mas isso não significa que a empresa os excluirá completamente.",
         "Excluir seus dados pessoais do 23andMe está se mostrando difícil. \nHá bons motivos para as pessoas quererem excluir seus dados do 23andMe: A plataforma de testes de DNA tem muitos problemas, então vamos… [+5053 caracteres]",
         "A 23andMe reterá suas informações genéticas, mesmo que você exclua a conta"
        ],
        [
         "Research and Markets",
         "Dublin, Oct. 01, 2024 (GLOBE NEWSWIRE) -- The \"Asia-Pacific DNA Methylation Detection Technology Market: Analysis and Forecast, 2023-2033\" report has been added to ResearchAndMarkets.com's offering.\r… [+6553 chars]",
         "Dublin, Oct. 01, 2024 (GLOBE NEWSWIRE) -- The \"Asia-Pacific DNA Methylation Detection Technology Market: Analysis and Forecast, 2023-2033\" report has been added to ResearchAndMarkets.com's offering.The Asia-Pacific DNA methylation detection technology market …",
         "2024-10-01T16:51:00Z",
         "Asia-Pacific DNA Methylation Detection Technology Market Report 2024: Growth Opportunities in DNA Methylation Detection Technology as an Early Disease Diagnostic Tool",
         "https://www.globenewswire.com/news-release/2024/10/01/2956482/28124/en/Asia-Pacific-DNA-Methylation-Detection-Technology-Market-Report-2024-Growth-Opportunities-in-DNA-Methylation-Detection-Technology-as-an-Early-Disease-Diagnostic-Tool.html",
         "https://ml.globenewswire.com/Resource/Download/908fb457-7f8e-4a08-9081-5565e3dfb3d7",
         "2024-10-01",
         null,
         "GlobeNewswire",
         "Dublin, 01 de outubro de 2024 (GLOBE NEWSWIRE) -- O relatório \"Mercado de tecnologia de detecção de metilação de DNA na Ásia-Pacífico: análise e previsão, 2023-2033\" foi adicionado à oferta do ResearchAndMarkets.com. O mercado de tecnologia de detecção de metilação de DNA na Ásia-Pacífico …",
         "Dublin, 01 de outubro de 2024 (GLOBE NEWSWIRE) -- O relatório \"Mercado de tecnologia de detecção de metilação de DNA na Ásia-Pacífico: análise e previsão, 2023-2033\" foi adicionado à oferta da ResearchAndMarkets.com. … [+6553 caracteres]",
         "Relatório de mercado de tecnologia de detecção de metilação de DNA da Ásia-Pacífico 2024: oportunidades de crescimento na tecnologia de detecção de metilação de DNA como uma ferramenta de diagnóstico precoce de doenças"
        ],
        [
         "Research and Markets",
         "Dublin, Sept. 25, 2024 (GLOBE NEWSWIRE) -- The \"DNA Sequencing Market Size, Share, Forecast, &amp; Trends Analysis by Offering, Technology, Application End User - Global Forecast to 2031\" report has … [+7284 chars]",
         "Dublin, Sept. 25, 2024 (GLOBE NEWSWIRE) -- The \"DNA Sequencing Market Size, Share, Forecast, & Trends Analysis by Offering, Technology, Application End User - Global Forecast to 2031\" report has been added to ResearchAndMarkets.com's offering.DNA sequencing m…",
         "2024-09-25T11:47:00Z",
         "DNA Sequencing Market Size, Share, Forecast, & Trends Analysis Report: Emerging DNA Sequencing Companies' Focus on Improving Technologies and Reducing Costs - Global Forecast to 2031",
         "https://www.globenewswire.com/news-release/2024/09/25/2952867/28124/en/DNA-Sequencing-Market-Size-Share-Forecast-Trends-Analysis-Report-Emerging-DNA-Sequencing-Companies-Focus-on-Improving-Technologies-and-Reducing-Costs-Global-Forecast-to-2031.html",
         "https://ml.globenewswire.com/Resource/Download/908fb457-7f8e-4a08-9081-5565e3dfb3d7",
         "2024-09-25",
         null,
         "GlobeNewswire",
         "Dublin, 25 de setembro de 2024 (GLOBE NEWSWIRE) -- O relatório \"Tamanho do mercado de sequenciamento de DNA, participação, previsão e análise de tendências por oferta, tecnologia, usuário final da aplicação - Previsão global para 2031\" foi adicionado à oferta do ResearchAndMarkets.com. O sequenciamento de DNA…",
         "Dublin, 25 de setembro de 2024 (GLOBE NEWSWIRE) -- O relatório \"Tamanho, participação, previsão e análise de tendências do mercado de sequenciamento de DNA por oferta, tecnologia, usuário final do aplicativo - Previsão global para 2031\" tem … [+7284 caracteres]",
         "Relatório de análise de tendências, tamanho, participação e previsão do mercado de sequenciamento de DNA: empresas emergentes de sequenciamento de DNA se concentram em melhorar tecnologias e reduzir custos - Previsão global para 2031"
        ],
        [
         "Research and Markets",
         "Dublin, Oct. 15, 2024 (GLOBE NEWSWIRE) -- The \"Pet DNA Testing Market Size, Share and Trends Analysis 2024-2030\" report has been added to ResearchAndMarkets.com's offering.\r\nThe global pet DNA testin… [+6426 chars]",
         "Dublin, Oct. 15, 2024 (GLOBE NEWSWIRE) -- The \"Pet DNA Testing Market Size, Share and Trends Analysis 2024-2030\" report has been added to ResearchAndMarkets.com's offering.The global pet DNA testing market is expected to reach USD 676.64 million by 2030, regi…",
         "2024-10-15T12:04:00Z",
         "Pet DNA Testing Market Report 2024: Industry Analysis and Forecast (2018-2030) with Share & Strategy Insights of Leading Players - Zoetis (Basepaws), Mars Petcare (Wisdom Panel), Orivet Genetic Pet Care & More",
         "https://www.globenewswire.com/news-release/2024/10/15/2963169/28124/en/Pet-DNA-Testing-Market-Report-2024-Industry-Analysis-and-Forecast-2018-2030-with-Share-Strategy-Insights-of-Leading-Players-Zoetis-Basepaws-Mars-Petcare-Wisdom-Panel-Orivet-Genetic.html",
         "https://ml.globenewswire.com/Resource/Download/908fb457-7f8e-4a08-9081-5565e3dfb3d7",
         "2024-10-14",
         null,
         "GlobeNewswire",
         "Dublin, 15 de outubro de 2024 (GLOBE NEWSWIRE) -- O relatório \"Pet DNA Testing Market Size, Share and Trends Analysis 2024-2030\" foi adicionado à oferta da ResearchAndMarkets.com. Espera-se que o mercado global de testes de DNA para animais de estimação alcance US$ 676,64 milhões até 2030, regi…",
         "Dublin, 15 de outubro de 2024 (GLOBE NEWSWIRE) -- O relatório \"Pet DNA Testing Market Size, Share and Trends Analysis 2024-2030\" foi adicionado à oferta da ResearchAndMarkets.com. \nO teste global de DNA para animais de estimação… [+6426 caracteres]",
         "Relatório de mercado de testes de DNA para animais de estimação 2024: análise e previsão da indústria (2018-2030) com insights de participação e estratégia dos principais participantes - Zoetis (Basepaws), Mars Petcare (Wisdom Panel), Orivet Genetic Pet Care e mais"
        ],
        [
         "Singlera Genomics, Inc.",
         "SAN DIEGO, Oct. 16, 2024 (GLOBE NEWSWIRE) -- Singlera Genomics, a company focused on the application of novel DNA methylation technologies to genetic diagnosis, presented the results of its initial p… [+2109 chars]",
         "SAN DIEGO, Oct. 16, 2024 (GLOBE NEWSWIRE) -- Singlera Genomics, a company focused on the application of novel DNA methylation technologies to genetic diagnosis, presented the results of its initial preclinical study of the PDACatch test, an assay to detect pa…",
         "2024-10-16T18:34:00Z",
         "Singlera Genomics presents results of PDACatch preclinical study at HM Hospitals Annual Early Detection Meeting",
         "https://www.globenewswire.com/news-release/2024/10/16/2964419/0/en/Singlera-Genomics-presents-results-of-PDACatch-preclinical-study-at-HM-Hospitals-Annual-Early-Detection-Meeting.html",
         "https://ml.globenewswire.com/Resource/Download/ca442d5a-957b-40be-a01d-31e1ed07c062",
         "2024-10-16",
         null,
         "GlobeNewswire",
         "SAN DIEGO, 16 de outubro de 2024 (GLOBE NEWSWIRE) -- A Singlera Genomics, uma empresa focada na aplicação de novas tecnologias de metilação de DNA ao diagnóstico genético, apresentou os resultados de seu estudo pré-clínico inicial do teste PDACatch, um ensaio para detectar pa…",
         "SAN DIEGO, 16 de outubro de 2024 (GLOBE NEWSWIRE) -- A Singlera Genomics, uma empresa focada na aplicação de novas tecnologias de metilação de DNA ao diagnóstico genético, apresentou os resultados de seu projeto inicial… [+2109 caracteres]",
         "Singlera Genomics apresenta resultados do estudo pré-clínico PDACatch na Reunião Anual de Detecção Precoce do Hospital HM"
        ],
        [
         "Telesis Bio Inc.",
         "SAN DIEGO, Sept. 25, 2024 (GLOBE NEWSWIRE) -- A new partnership between Telesis Bio and Beckman Coulter Life Sciences, a global leader in laboratory automation and innovation, will create efficient a… [+4539 chars]",
         "Innovation Delivers High-Fidelity, Scalable, Non-Toxic On-Premises Biofoundry Capabilities Innovation Delivers High-Fidelity, Scalable, Non-Toxic On-Premises Biofoundry Capabilities",
         "2024-09-25T20:05:00Z",
         "Telesis Bio and Beckman Coulter Life Sciences Collaborate to Revolutionize DNA and mRNA Synthesis",
         "https://www.globenewswire.com/news-release/2024/09/25/2953354/0/en/Telesis-Bio-and-Beckman-Coulter-Life-Sciences-Collaborate-to-Revolutionize-DNA-and-mRNA-Synthesis.html",
         "https://ml.globenewswire.com/Resource/Download/2f5b5087-5b09-4d9c-9642-2ef8cd02fd40",
         "2024-09-25",
         null,
         "GlobeNewswire",
         "A inovação oferece recursos de biofundição local, escaláveis, de alta fidelidade e não tóxicos A inovação oferece recursos de biofundição local, escaláveis, de alta fidelidade e não tóxicos",
         "SAN DIEGO, 25 de setembro de 2024 (GLOBE NEWSWIRE) -- Uma nova parceria entre a Telesis Bio e a Beckman Coulter Life Sciences, líder global em automação e inovação de laboratórios, criará uma… [+4539 caracteres]",
         "Telesis Bio e Beckman Coulter Life Sciences colaboram para revolucionar a síntese de DNA e mRNA"
        ],
        [
         "University of Illinois at Urbana-Champaign",
         "In 1898, two male lions terrorized an encampment of bridge builders on the Tsavo River in Kenya. The lions, which were massive and maneless, crept into the camp at night, raided the tents and dragged… [+7721 chars]",
         "In 1898, two male lions terrorized an encampment of bridge builders on the Tsavo River in Kenya. The lions, which were massive and maneless, crept into the camp at night, raided the tents and dragged off their victims. The infamous Tsavo \"man-eaters\" killed a…",
         "2024-10-11T15:00:01Z",
         "Hidden in the teeth: DNA study finds these 19th century lions preyed on humans and giraffes",
         "https://phys.org/news/2024-10-hidden-teeth-dna-19th-century.html",
         "https://scx2.b-cdn.net/gfx/news/2024/genomic-study-identifi.jpg",
         "2024-10-10",
         null,
         "Phys.Org",
         "Em 1898, dois leões machos aterrorizaram um acampamento de construtores de pontes no Rio Tsavo, no Quênia. Os leões, que eram enormes e sem juba, rastejaram para dentro do acampamento à noite, invadiram as tendas e arrastaram suas vítimas. Os infames \"comedores de homens\" de Tsavo mataram um…",
         "Em 1898, dois leões machos aterrorizaram um acampamento de construtores de pontes no Rio Tsavo, no Quênia. Os leões, que eram enormes e sem juba, entraram furtivamente no acampamento à noite, invadiram as tendas e arrastaram… [+7721 caracteres]",
         "Escondidos nos dentes: estudo de DNA descobre que esses leões do século 19 caçavam humanos e girafas"
        ],
        [
         "Wei Liu, Huaqin He, Davide Chicco",
         "Citation: Liu W, He H, Chicco D (2024) Gene signatures for cancer research: A 25-year retrospective and future avenues. PLoS Comput Biol 20(10):\r\n e1012512.\r\nhttps://doi.org/10.1371/journal.pcbi.1012… [+17291 chars]",
         "Over the past two decades, extensive studies, particularly in cancer analysis through large datasets like The Cancer Genome Atlas (TCGA), have aimed at improving patient therapies and precision medicine. However, limited overlap and inconsistencies among gene…",
         "2024-10-16T14:00:00Z",
         "Gene signatures for cancer research: A 25-year retrospective and future avenues",
         "https://journals.plos.org/ploscompbiol/article?id=10.1371/journal.pcbi.1012512",
         "https://journals.plos.org/ploscompbiol/article/figure/image?id=10.1371/journal.pcbi.1012512.g001&size=inline",
         "2024-10-16",
         null,
         "Plos.org",
         "Nas últimas duas décadas, estudos extensivos, particularmente em análise de câncer por meio de grandes conjuntos de dados como o The Cancer Genome Atlas (TCGA), visaram melhorar as terapias de pacientes e a medicina de precisão. No entanto, sobreposição limitada e inconsistências entre genes…",
         "Citação: Liu W, He H, Chicco D (2024) Assinaturas genéticas para pesquisa do câncer: uma retrospectiva de 25 anos e avenidas futuras. PLoS Comput Biol 20(10): \ne1012512. \nhttps://doi.org/10.1371/journal.pcbi.1012… [+17291 caracteres]",
         "Assinaturas genéticas para pesquisa do câncer: uma retrospectiva de 25 anos e perspectivas futuras"
        ],
        [
         "Yutaro Kumagai",
         "Introduction\r\nRecent advances in measurement technologies have revolutionized our ability to acquire large amounts of omics-level data. Among these technologies, single-cell RNA sequencing (scRNA-seq… [+51511 chars]",
         "Author summary Single-cell omics technologies, such as single-cell RNA-seq (scRNA-seq), are instrumental in identifying novel cell subsets that are involved in various biological processes and diseases. These technologies, however, require further development…",
         "2024-09-30T14:00:00Z",
         "BootCellNet, a resampling-based procedure, promotes unsupervised identification of cell populations via robust inference of gene regulatory networks",
         "https://journals.plos.org/ploscompbiol/article?id=10.1371/journal.pcbi.1012480",
         "https://journals.plos.org/ploscompbiol/article/figure/image?id=10.1371/journal.pcbi.1012480.g010&size=inline",
         "2024-09-30",
         null,
         "Plos.org",
         "Resumo do autor Tecnologias ômicas de célula única, como RNA-seq de célula única (scRNA-seq), são instrumentais na identificação de novos subconjuntos de células que estão envolvidos em vários processos biológicos e doenças. Essas tecnologias, no entanto, requerem mais desenvolvimento…",
         "Introdução\nAvanços recentes em tecnologias de medição revolucionaram nossa capacidade de adquirir grandes quantidades de dados de nível ômico. Entre essas tecnologias, o sequenciamento de RNA de célula única (scRNA-seq… [+51511 caracteres]",
         "BootCellNet, um procedimento baseado em reamostragem, promove a identificação não supervisionada de populações de células por meio de inferência robusta de redes reguladoras de genes"
        ],
        [
         "adwells@pennmedicine.upenn.edu (Andrew D Wells), adwells@pennmedicine.upenn.edu (Chun Su), adwells@pennmedicine.upenn.edu (Daniel Campbell), adwells@pennmedicine.upenn.edu (James A Pippin), adwells@pennmedicine.upenn.edu (Matthew C Pahl), adwells@pennmedicine.upenn.edu (Peng Sun), adwells@pennmedicine.upenn.edu (Peter A Morawski), adwells@pennmedicine.upenn.edu (Prabhat Sharma), adwells@pennmedicine.upenn.edu (Rajan M Thomas), adwells@pennmedicine.upenn.edu (Struan FA Grant), adwells@pennmedicine.upenn.edu (Zachary Mount), adwells@pennmedicine.upenn.edu (Zachary Thompson)",
         "T cell isolation and in vitro stimulation\r\nRequest a detailed protocol\r\nHuman primary CD4+ T cells were purified from the apheresis products obtained from healthy, screened human donors through the U… [+34549 chars]",
         "Genome-wide association studies (GWAS) have identified hundreds of genetic signals associated with autoimmune disease. The majority of these signals are located in non-coding regions and likely impact cis-regulatory elements (cRE). Because cRE function is dyn…",
         "2024-09-20T00:00:00Z",
         "Dynamic chromatin architecture identifies new autoimmune-associated enhancers for IL2 and novel genes regulating CD4+ T cell activation",
         "https://elifesciences.org/articles/96852",
         "https://elifesciences.org/assets/images/social/icon-600x600@1.52e87ee6.png",
         "2024-09-19",
         null,
         "Elifesciences.org",
         "Estudos de associação genômica ampla (GWAS) identificaram centenas de sinais genéticos associados a doenças autoimunes. A maioria desses sinais está localizada em regiões não codificadoras e provavelmente impacta elementos cis-regulatórios (cRE). Como a função cRE é dinâmica…",
         "Isolamento de células T e estimulação in vitro\nSolicite um protocolo detalhado\nCélulas T CD4+ primárias humanas foram purificadas a partir de produtos de aférese obtidos de doadores humanos saudáveis ​​e selecionados por meio do U… [+34549 chars]",
         "Arquitetura dinâmica da cromatina identifica novos intensificadores autoimunes associados para IL2 e novos genes que regulam a ativação das células T CD4+"
        ],
        [
         "ddamour2@uottawa.ca (Damien D'Amours), ddamour2@uottawa.ca (Hemanta Adhikary), ddamour2@uottawa.ca (Sarah Isler), ddamour2@uottawa.ca (Shamayita Roy)",
         "<li><ol><li>Chromosomes and Gene Expression</li></ol>\r\nThe anaphase-promoting complex/cyclosome (APC/C) is a large multi-subunit E3 ubiquitin ligase that controls progression through the cell cycle b… [+4957 chars]",
         "The R-loop is a common transcriptional by-product that consists of an RNA-DNA duplex joined to a displaced strand of genomic DNA. While the effects of R-loops on health and disease are well established, there is still an incomplete understanding of the cellul…",
         "2024-10-15T00:00:00Z",
         "The Smc5/6 complex counteracts R-loop formation at highly transcribed genes in cooperation with RNase H2",
         "https://elifesciences.org/articles/96626",
         "https://elifesciences.org/assets/images/social/icon-600x600@1.52e87ee6.png",
         "2024-10-15",
         null,
         "Elifesciences.org",
         "O R-loop é um subproduto transcricional comum que consiste em um duplex RNA-DNA unido a uma fita deslocada de DNA genômico. Embora os efeitos dos R-loops na saúde e na doença sejam bem estabelecidos, ainda há uma compreensão incompleta da célula…",
         "<li><ol><li>Cromossomos e Expressão Gênica</li></ol> \nO complexo promotor de anáfase/ciclossomo (APC/C) é uma grande ligase de ubiquitina E3 multi-subunidade que controla a progressão através do ciclo celular b… [+4957 chars]",
         "O complexo Smc5/6 neutraliza a formação do laço R em genes altamente transcritos em cooperação com a RNase H2"
        ],
        [
         "michael.hall2@unimelb.edu.au (An N Nguyen), michael.hall2@unimelb.edu.au (Eike J Steinig), michael.hall2@unimelb.edu.au (Lachlan Coin), michael.hall2@unimelb.edu.au (Louise M Judd), michael.hall2@unimelb.edu.au (Mark Davies), michael.hall2@unimelb.edu.au (Michael B Hall), michael.hall2@unimelb.edu.au (Ouli Xie), michael.hall2@unimelb.edu.au (Ryan R Wick), michael.hall2@unimelb.edu.au (Timothy P Stinear), michael.hall2@unimelb.edu.au (Torsten Seemann)",
         "In this study, we evaluated the accuracy of bacterial variant calls derived from ONT using both conventional and deep learning-based tools. Our findings show that deep learning approaches, specifical… [+6554 chars]",
         "Variant calling is fundamental in bacterial genomics, underpinning the identification of disease transmission clusters, the construction of phylogenetic trees, and antimicrobial resistance detection. This study presents a comprehensive benchmarking of variant…",
         "2024-10-10T00:00:00Z",
         "Benchmarking reveals superiority of deep learning variant callers on bacterial nanopore sequence data",
         "https://elifesciences.org/articles/98300",
         "https://elifesciences.org/assets/images/social/icon-600x600@1.52e87ee6.png",
         "2024-10-10",
         null,
         "Elifesciences.org",
         "A chamada de variantes é fundamental na genômica bacteriana, sustentando a identificação de grupos de transmissão de doenças, a construção de árvores filogenéticas e a detecção de resistência antimicrobiana. Este estudo apresenta um benchmarking abrangente de variantes…",
         "Neste estudo, avaliamos a precisão de chamadas de variantes bacterianas derivadas de ONT usando ferramentas convencionais e baseadas em aprendizado profundo. Nossas descobertas mostram que abordagens de aprendizado profundo, especificamente… [+6554 chars]",
         "Benchmarking revela superioridade de chamadores de variantes de aprendizado profundo em dados de sequência de nanoporos bacterianos"
        ],
        [
         "nadine.kurz@bioinf.med.uni-goettingen.de",
         "AdaGenes is a generic toolkit for processing, annotating, filtering and transforming DNA polymorphism data.\r\nMain features:\r\n<ul><li>A powerful data object to store and edit DNA mutation data</li><li… [+2958 chars]",
         "Generic toolkit for processing DNA polymorphism data",
         "2024-09-26T19:13:04Z",
         "adagenes added to PyPI",
         "https://pypi.org/project/adagenes/",
         "https://pypi.org/static/images/twitter.abaf4b19.webp",
         "2024-09-25",
         null,
         "Pypi.org",
         "Kit de ferramentas genérico para processamento de dados de polimorfismo de DNA",
         "AdaGenes é um kit de ferramentas genérico para processar, anotar, filtrar e transformar dados de polimorfismo de DNA. \nPrincipais características: \n<ul><li>Um poderoso objeto de dados para armazenar e editar dados de mutação de DNA</li><li… [+2958 chars]",
         "adagenes adicionado ao PyPI"
        ],
        [
         "psmyth1994@gmail.com",
         "BioSets: Dataset Creation for Biological Research\r\nDNA Symbol: \r\n BioSets is a specialized library built on top of the datasets library, designed to\r\nfacilitate the loading, manipulation, and process… [+5158 chars]",
         "Bioinformatics datasets and tools",
         "2024-10-12T19:18:27Z",
         "biosets added to PyPI",
         "https://pypi.org/project/biosets/",
         "https://pypi.org/static/images/twitter.abaf4b19.webp",
         "2024-10-11",
         null,
         "Pypi.org",
         "Conjuntos de dados e ferramentas de bioinformática",
         "BioSets: Criação de conjunto de dados para pesquisa biológica \nSímbolo de DNA: \nBioSets é uma biblioteca especializada construída sobre a biblioteca de conjuntos de dados, projetada para \nfacilitar o carregamento, manipulação e processamento… [+5158 caracteres]",
         "biosets adicionados ao PyPI"
        ],
        [
         "theweekonlineeditorsuk@futurenet.com (Chas Newkey-Burden, The Week UK)",
         "Millions of people have spat into test tubes for ancestry companies but now there are questions being asked about what might happen to their DNA.\r\nAfter a data breach, a sinking share price and mass … [+3390 chars]",
         "Genetic testing company's financial woes creates concerns around personal data it holds",
         "2024-10-08T13:14:30Z",
         "23andMe: will customers' DNA go up for sale?",
         "https://theweek.com/tech/23andme-dna-sale",
         "https://cdn.mos.cms.futurecdn.net/TeZfPobRH5y8a5yT4yHRKA-1200-80.jpg",
         "2024-10-07",
         null,
         "The Week Magazine",
         "Problemas financeiros de empresa de testes genéticos geram preocupações em torno dos dados pessoais que ela detém",
         "Milhões de pessoas cuspiram em tubos de ensaio para empresas de ancestralidade, mas agora há perguntas sendo feitas sobre o que pode acontecer com seu DNA. \nApós uma violação de dados, uma queda no preço das ações e uma … [+3390 chars]",
         "23andMe: o DNA dos clientes será colocado à venda?"
        ]
       ],
       "datasetInfos": [],
       "dbfsResultPath": null,
       "isJsonSchema": true,
       "metadata": {},
       "overflow": false,
       "plotOptions": {
        "customPlotOptions": {},
        "displayType": "table",
        "pivotAggregation": null,
        "pivotColumns": null,
        "xColumns": null,
        "yColumns": null
       },
       "removedWidgets": [],
       "schema": [
        {
         "metadata": "{}",
         "name": "author",
         "type": "\"string\""
        },
        {
         "metadata": "{}",
         "name": "content",
         "type": "\"string\""
        },
        {
         "metadata": "{}",
         "name": "description",
         "type": "\"string\""
        },
        {
         "metadata": "{}",
         "name": "publishedAt",
         "type": "\"string\""
        },
        {
         "metadata": "{}",
         "name": "title",
         "type": "\"string\""
        },
        {
         "metadata": "{}",
         "name": "url",
         "type": "\"string\""
        },
        {
         "metadata": "{}",
         "name": "urlToImage",
         "type": "\"string\""
        },
        {
         "metadata": "{}",
         "name": "from_date",
         "type": "\"string\""
        },
        {
         "metadata": "{}",
         "name": "source_id",
         "type": "\"string\""
        },
        {
         "metadata": "{}",
         "name": "source_name",
         "type": "\"string\""
        },
        {
         "metadata": "{}",
         "name": "description_pt",
         "type": "\"string\""
        },
        {
         "metadata": "{}",
         "name": "content_pt",
         "type": "\"string\""
        },
        {
         "metadata": "{}",
         "name": "title_pt",
         "type": "\"string\""
        }
       ],
       "type": "table"
      }
     },
     "output_type": "display_data"
    }
   ],
   "source": [
    "df = spark.read.format('delta').load('dbfs:/FileStore/harmonized')\n",
    "df.display()"
   ]
  },
  {
   "cell_type": "code",
   "execution_count": 0,
   "metadata": {
    "application/vnd.databricks.v1+cell": {
     "cellMetadata": {
      "byteLimit": 2048000,
      "rowLimit": 10000
     },
     "inputWidgets": {},
     "nuid": "fce4cb04-111d-437e-8be6-5dd95c34d9f2",
     "showTitle": false,
     "title": ""
    }
   },
   "outputs": [
    {
     "output_type": "stream",
     "name": "stdout",
     "output_type": "stream",
     "text": [
      "Requirement already satisfied: pip in /local_disk0/.ephemeral_nfs/envs/pythonEnv-5e192239-d4fa-4a3b-a191-9352f23b5a28/lib/python3.9/site-packages (24.2)\r\nRequirement already satisfied: Pillow in /local_disk0/.ephemeral_nfs/envs/pythonEnv-5e192239-d4fa-4a3b-a191-9352f23b5a28/lib/python3.9/site-packages (11.0.0)\r\nRequirement already satisfied: wordcloud in /local_disk0/.ephemeral_nfs/envs/pythonEnv-5e192239-d4fa-4a3b-a191-9352f23b5a28/lib/python3.9/site-packages (1.9.3)\r\nRequirement already satisfied: numpy>=1.6.1 in /databricks/python3/lib/python3.9/site-packages (from wordcloud) (1.21.5)\r\nRequirement already satisfied: pillow in /local_disk0/.ephemeral_nfs/envs/pythonEnv-5e192239-d4fa-4a3b-a191-9352f23b5a28/lib/python3.9/site-packages (from wordcloud) (11.0.0)\r\nRequirement already satisfied: matplotlib in /databricks/python3/lib/python3.9/site-packages (from wordcloud) (3.5.1)\r\nRequirement already satisfied: cycler>=0.10 in /databricks/python3/lib/python3.9/site-packages (from matplotlib->wordcloud) (0.11.0)\r\nRequirement already satisfied: fonttools>=4.22.0 in /databricks/python3/lib/python3.9/site-packages (from matplotlib->wordcloud) (4.25.0)\r\nRequirement already satisfied: kiwisolver>=1.0.1 in /databricks/python3/lib/python3.9/site-packages (from matplotlib->wordcloud) (1.3.2)\r\nRequirement already satisfied: packaging>=20.0 in /databricks/python3/lib/python3.9/site-packages (from matplotlib->wordcloud) (21.3)\r\nRequirement already satisfied: pyparsing>=2.2.1 in /databricks/python3/lib/python3.9/site-packages (from matplotlib->wordcloud) (3.0.4)\r\nRequirement already satisfied: python-dateutil>=2.7 in /databricks/python3/lib/python3.9/site-packages (from matplotlib->wordcloud) (2.8.2)\r\nRequirement already satisfied: six>=1.5 in /databricks/python3/lib/python3.9/site-packages (from python-dateutil>=2.7->matplotlib->wordcloud) (1.16.0)\r\nRequirement already satisfied: nltk in /local_disk0/.ephemeral_nfs/envs/pythonEnv-5e192239-d4fa-4a3b-a191-9352f23b5a28/lib/python3.9/site-packages (3.9.1)\r\nRequirement already satisfied: click in /databricks/python3/lib/python3.9/site-packages (from nltk) (8.0.4)\r\nRequirement already satisfied: joblib in /databricks/python3/lib/python3.9/site-packages (from nltk) (1.1.1)\r\nRequirement already satisfied: regex>=2021.8.3 in /local_disk0/.ephemeral_nfs/envs/pythonEnv-5e192239-d4fa-4a3b-a191-9352f23b5a28/lib/python3.9/site-packages (from nltk) (2024.9.11)\r\nRequirement already satisfied: tqdm in /local_disk0/.ephemeral_nfs/envs/pythonEnv-5e192239-d4fa-4a3b-a191-9352f23b5a28/lib/python3.9/site-packages (from nltk) (4.66.5)\r\n"
     ]
    }
   ],
   "source": [
    "!pip install --upgrade pip \n",
    "!pip install --upgrade Pillow\n",
    "!pip install wordcloud\n",
    "!pip install nltk"
   ]
  },
  {
   "cell_type": "code",
   "execution_count": 0,
   "metadata": {
    "application/vnd.databricks.v1+cell": {
     "cellMetadata": {
      "byteLimit": 2048000,
      "rowLimit": 10000
     },
     "inputWidgets": {},
     "nuid": "87198ce2-c765-43ed-864b-c5fe48f1e0fa",
     "showTitle": false,
     "title": ""
    }
   },
   "outputs": [
    {
     "output_type": "stream",
     "name": "stderr",
     "output_type": "stream",
     "text": [
      "[nltk_data] Downloading package stopwords to /root/nltk_data...\n[nltk_data]   Package stopwords is already up-to-date!\n"
     ]
    },
    {
     "output_type": "display_data",
     "data": {
      "text/html": [
       "<style scoped>\n",
       "  .table-result-container {\n",
       "    max-height: 300px;\n",
       "    overflow: auto;\n",
       "  }\n",
       "  table, th, td {\n",
       "    border: 1px solid black;\n",
       "    border-collapse: collapse;\n",
       "  }\n",
       "  th, td {\n",
       "    padding: 5px;\n",
       "  }\n",
       "  th {\n",
       "    text-align: left;\n",
       "  }\n",
       "</style><div class='table-result-container'><table class='table-result'><thead style='background-color: white'><tr><th>word</th><th>count</th></tr></thead><tbody><tr><td>dna</td><td>16</td></tr><tr><td>dados</td><td>11</td></tr><tr><td>empresa</td><td>9</td></tr><tr><td>sequenciamento</td><td>6</td></tr><tr><td>outubro</td><td>6</td></tr><tr><td>global</td><td>5</td></tr><tr><td>sobre</td><td>5</td></tr><tr><td>duas</td><td>4</td></tr><tr><td>grandes</td><td>4</td></tr><tr><td>homo</td><td>4</td></tr><tr><td>anos</td><td>4</td></tr><tr><td>hoje</td><td>4</td></tr><tr><td>acampamento</td><td>4</td></tr><tr><td>nova</td><td>3</td></tr><tr><td>setembro</td><td>3</td></tr><tr><td>medicina</td><td>3</td></tr><tr><td>tipo</td><td>3</td></tr><tr><td>testes</td><td>3</td></tr><tr><td>dois</td><td>3</td></tr><tr><td>desde</td><td>3</td></tr><tr><td>todo</td><td>3</td></tr><tr><td>genoma</td><td>3</td></tr><tr><td>and</td><td>3</td></tr><tr><td>acordo</td><td>3</td></tr><tr><td>pesquisa</td><td>3</td></tr><tr><td>pessoas</td><td>3</td></tr><tr><td>tecnologias</td><td>3</td></tr><tr><td>machos</td><td>3</td></tr><tr><td>grande</td><td>3</td></tr><tr><td>mercado</td><td>3</td></tr><tr><td>poderia</td><td>2</td></tr><tr><td>empresas</td><td>2</td></tr><tr><td>ishares</td><td>2</td></tr><tr><td>san</td><td>2</td></tr><tr><td>maior</td><td>2</td></tr><tr><td>pontes</td><td>2</td></tr><tr><td>pode</td><td>2</td></tr><tr><td>baseadas</td><td>2</td></tr><tr><td>tecnologia</td><td>2</td></tr><tr><td>ano</td><td>2</td></tr><tr><td>oferta</td><td>2</td></tr><tr><td>aterrorizaram</td><td>2</td></tr><tr><td>enormes</td><td>2</td></tr><tr><td>gosta</td><td>2</td></tr><tr><td>estudos</td><td>2</td></tr><tr><td>excluir</td><td>2</td></tr><tr><td>aprendizado</td><td>2</td></tr><tr><td>immunology</td><td>2</td></tr><tr><td>muitos</td><td>2</td></tr><tr><td>tendas</td><td>2</td></tr><tr><td>genomics</td><td>2</td></tr><tr><td>prever</td><td>2</td></tr><tr><td>especializada</td><td>2</td></tr><tr><td>neandertais</td><td>2</td></tr><tr><td>humanidade</td><td>2</td></tr><tr><td>kit</td><td>2</td></tr><tr><td>propriedade</td><td>2</td></tr><tr><td>quantidades</td><td>2</td></tr><tr><td>rio</td><td>2</td></tr><tr><td>anunciou</td><td>2</td></tr><tr><td>etf</td><td>2</td></tr><tr><td>ferramentas</td><td>2</td></tr><tr><td>publicado</td><td>2</td></tr><tr><td>biblioteca</td><td>2</td></tr><tr><td>entraram</td><td>2</td></tr><tr><td>patentes</td><td>2</td></tr><tr><td>mil</td><td>2</td></tr><tr><td>pessoais</td><td>2</td></tr><tr><td>cientistas</td><td>2</td></tr><tr><td>trabalho</td><td>2</td></tr><tr><td>furtivamente</td><td>2</td></tr><tr><td>deve</td><td>2</td></tr><tr><td>descobertas</td><td>2</td></tr><tr><td>rna</td><td>2</td></tr><tr><td>healthcare</td><td>2</td></tr><tr><td>anne</td><td>2</td></tr><tr><td>adicionado</td><td>2</td></tr><tr><td>ainda</td><td>2</td></tr><tr><td>estudo</td><td>2</td></tr><tr><td>obtenha</td><td>2</td></tr><tr><td>t</td><td>2</td></tr><tr><td>construtores</td><td>2</td></tr><tr><td>novo</td><td>2</td></tr><tr><td>invadiram</td><td>2</td></tr><tr><td>subiu</td><td>1</td></tr><tr><td>resolver</td><td>1</td></tr><tr><td>geral</td><td>1</td></tr><tr><td>detalhado</td><td>1</td></tr><tr><td>presente</td><td>1</td></tr><tr><td>unidos</td><td>1</td></tr><tr><td>terra</td><td>1</td></tr><tr><td>neste</td><td>1</td></tr><tr><td>testei</td><td>1</td></tr><tr><td>antigas</td><td>1</td></tr><tr><td>fragment</td><td>1</td></tr><tr><td>oportunidade</td><td>1</td></tr><tr><td>adquirir</td><td>1</td></tr><tr><td>provedora</td><td>1</td></tr><tr><td>caracteriza</td><td>1</td></tr><tr><td>agressivos</td><td>1</td></tr><tr><td>ei</td><td>1</td></tr><tr><td>mountain</td><td>1</td></tr><tr><td>sendo</td><td>1</td></tr><tr><td>crispr</td><td>1</td></tr><tr><td>management</td><td>1</td></tr><tr><td>estados</td><td>1</td></tr><tr><td>sergei</td><td>1</td></tr><tr><td>algumas</td><td>1</td></tr><tr><td>cidade</td><td>1</td></tr><tr><td>genedx</td><td>1</td></tr><tr><td>coulter</td><td>1</td></tr><tr><td>plano</td><td>1</td></tr><tr><td>biologia</td><td>1</td></tr><tr><td>ases</td><td>1</td></tr><tr><td>pessoal</td><td>1</td></tr><tr><td>adagenes</td><td>1</td></tr><tr><td>pen</td><td>1</td></tr><tr><td>peter</td><td>1</td></tr><tr><td>conversa</td><td>1</td></tr><tr><td>biotecnologia</td><td>1</td></tr><tr><td>simples</td><td>1</td></tr><tr><td>focada</td><td>1</td></tr><tr><td>universidade</td><td>1</td></tr><tr><td>emergente</td><td>1</td></tr><tr><td>mama</td><td>1</td></tr><tr><td>avaliamos</td><td>1</td></tr><tr><td>totalmente</td><td>1</td></tr><tr><td>vivem</td><td>1</td></tr><tr><td>integrated</td><td>1</td></tr><tr><td>aplicativo</td><td>1</td></tr><tr><td>partir</td><td>1</td></tr><tr><td>livros</td><td>1</td></tr><tr><td>vender</td><td>1</td></tr><tr><td>constante</td><td>1</td></tr><tr><td>journal</td><td>1</td></tr><tr><td>descendente</td><td>1</td></tr><tr><td>bastante</td><td>1</td></tr><tr><td>tornou</td><td>1</td></tr><tr><td>transmitir</td><td>1</td></tr><tr><td>engenharia</td><td>1</td></tr><tr><td>cerveja</td><td>1</td></tr><tr><td>monica</td><td>1</td></tr><tr><td>anteriores</td><td>1</td></tr><tr><td>coisas</td><td>1</td></tr><tr><td>startup</td><td>1</td></tr><tr><td>selecionados</td><td>1</td></tr><tr><td>precisar</td><td>1</td></tr><tr><td>interessante</td><td>1</td></tr><tr><td>mudaram</td><td>1</td></tr><tr><td>liu</td><td>1</td></tr><tr><td>solicite</td><td>1</td></tr><tr><td>wildlife</td><td>1</td></tr><tr><td>resumo</td><td>1</td></tr><tr><td>revista</td><td>1</td></tr><tr><td>purificadas</td><td>1</td></tr><tr><td>vincent</td><td>1</td></tr><tr><td>material</td><td>1</td></tr><tr><td>investment</td><td>1</td></tr><tr><td>modelo</td><td>1</td></tr><tr><td>desempenham</td><td>1</td></tr><tr><td>erros</td><td>1</td></tr><tr><td>holdings</td><td>1</td></tr><tr><td>abordagens</td><td>1</td></tr><tr><td>dia</td><td>1</td></tr><tr><td>papel</td><td>1</td></tr><tr><td>europeias</td><td>1</td></tr><tr><td>negociadas</td><td>1</td></tr><tr><td>biol</td><td>1</td></tr><tr><td>cuspiram</td><td>1</td></tr><tr><td>ceo</td><td>1</td></tr><tr><td>negociada</td><td>1</td></tr><tr><td>demaris</td><td>1</td></tr><tr><td>motivos</td><td>1</td></tr><tr><td>quererem</td><td>1</td></tr><tr><td>responder</td><td>1</td></tr><tr><td>tornaram</td><td>1</td></tr><tr><td>neanderthalensis</td><td>1</td></tr><tr><td>beckman</td><td>1</td></tr><tr><td>acontecer</td><td>1</td></tr><tr><td>mombaerts</td><td>1</td></tr><tr><td>cima</td><td>1</td></tr><tr><td>organismo</td><td>1</td></tr><tr><td>fatores</td><td>1</td></tr><tr><td>in</td><td>1</td></tr><tr><td>concorrentes</td><td>1</td></tr><tr><td>desses</td><td>1</td></tr><tr><td>perto</td><td>1</td></tr><tr><td>principais</td><td>1</td></tr><tr><td>informativo</td><td>1</td></tr><tr><td>meio</td><td>1</td></tr><tr><td>tempo</td><td>1</td></tr><tr><td>complexo</td><td>1</td></tr><tr><td>queria</td><td>1</td></tr><tr><td>chromochloris</td><td>1</td></tr><tr><td>american</td><td>1</td></tr><tr><td>kinast</td><td>1</td></tr><tr><td>diretos</td><td>1</td></tr><tr><td>convencionais</td><td>1</td></tr><tr><td>colombo</td><td>1</td></tr><tr><td>extras</td><td>1</td></tr><tr><td>wojcicki</td><td>1</td></tr><tr><td>incluindo</td><td>1</td></tr><tr><td>apontando</td><td>1</td></tr><tr><td>fortes</td><td>1</td></tr><tr><td>trechos</td><td>1</td></tr><tr><td>splicing</td><td>1</td></tr><tr><td>ont</td><td>1</td></tr><tr><td>verde</td><td>1</td></tr><tr><td>bons</td><td>1</td></tr><tr><td>cativeiro</td><td>1</td></tr><tr><td>redwood</td><td>1</td></tr><tr><td>gene</td><td>1</td></tr><tr><td>chicco</td><td>1</td></tr><tr><td>rendimento</td><td>1</td></tr><tr><td>chefe</td><td>1</td></tr><tr><td>conjuntos</td><td>1</td></tr><tr><td>residem</td><td>1</td></tr><tr><td>desenvolvimento</td><td>1</td></tr><tr><td>advogada</td><td>1</td></tr><tr><td>claro</td><td>1</td></tr><tr><td>aproximadamente</td><td>1</td></tr><tr><td>homem</td><td>1</td></tr><tr><td>ficou</td><td>1</td></tr><tr><td>relatos</td><td>1</td></tr><tr><td>software</td><td>1</td></tr><tr><td>usando</td><td>1</td></tr><tr><td>nomeou</td><td>1</td></tr><tr><td>comercial</td><td>1</td></tr><tr><td>forma</td><td>1</td></tr><tr><td>teste</td><td>1</td></tr><tr><td>escola</td><td>1</td></tr><tr><td>poderoso</td><td>1</td></tr><tr><td>lata</td><td>1</td></tr><tr><td>derivadas</td><td>1</td></tr><tr><td>getty</td><td>1</td></tr><tr><td>locais</td><td>1</td></tr><tr><td>celular</td><td>1</td></tr><tr><td>consumidor</td><td>1</td></tr><tr><td>free</td><td>1</td></tr><tr><td>telesis</td><td>1</td></tr><tr><td>podem</td><td>1</td></tr><tr><td>teoria</td><td>1</td></tr><tr><td>doadores</td><td>1</td></tr><tr><td>primeiro</td><td>1</td></tr><tr><td>smith</td><td>1</td></tr><tr><td>projetada</td><td>1</td></tr><tr><td>mostraram</td><td>1</td></tr><tr><td>life</td><td>1</td></tr><tr><td>desenrolaram</td><td>1</td></tr><tr><td>vitais</td><td>1</td></tr><tr><td>intelectual</td><td>1</td></tr><tr><td>nucleicos</td><td>1</td></tr><tr><td>entrada</td><td>1</td></tr><tr><td>esferas</td><td>1</td></tr><tr><td>usaram</td><td>1</td></tr><tr><td>tubos</td><td>1</td></tr><tr><td>ubiquitina</td><td>1</td></tr><tr><td>capital</td><td>1</td></tr><tr><td>desafio</td><td>1</td></tr><tr><td>bacterianas</td><td>1</td></tr><tr><td>universo</td><td>1</td></tr><tr><td>produzir</td><td>1</td></tr><tr><td>chamadas</td><td>1</td></tr><tr><td>retrospectiva</td><td>1</td></tr><tr><td>alto</td><td>1</td></tr><tr><td>bio</td><td>1</td></tr><tr><td>lugar</td><td>1</td></tr><tr><td>maiores</td><td>1</td></tr><tr><td>testing</td><td>1</td></tr><tr><td>minimizou</td><td>1</td></tr><tr><td>sete</td><td>1</td></tr><tr><td>conhecida</td><td>1</td></tr><tr><td>advogados</td><td>1</td></tr><tr><td>primeira</td><td>1</td></tr><tr><td>mostrando</td><td>1</td></tr><tr><td>d</td><td>1</td></tr><tr><td>estima</td><td>1</td></tr><tr><td>dinheiro</td><td>1</td></tr><tr><td>viveram</td><td>1</td></tr><tr><td>saiu</td><td>1</td></tr><tr><td>magbio</td><td>1</td></tr><tr><td>analysis</td><td>1</td></tr><tr><td>ashbrook</td><td>1</td></tr><tr><td>wonder</td><td>1</td></tr><tr><td>donny</td><td>1</td></tr><tr><td>paniccia</td><td>1</td></tr><tr><td>filtrar</td><td>1</td></tr><tr><td>biosets</td><td>1</td></tr><tr><td>ideia</td><td>1</td></tr><tr><td>maternas</td><td>1</td></tr><tr><td>observar</td><td>1</td></tr><tr><td>mills</td><td>1</td></tr><tr><td>evoluiu</td><td>1</td></tr><tr><td>batalha</td><td>1</td></tr><tr><td>variantes</td><td>1</td></tr><tr><td>boom</td><td>1</td></tr><tr><td>singlera</td><td>1</td></tr><tr><td>protocolo</td><td>1</td></tr><tr><td>agora</td><td>1</td></tr><tr><td>passo</td><td>1</td></tr><tr><td>certo</td><td>1</td></tr><tr><td>the</td><td>1</td></tr><tr><td>intrigantes</td><td>1</td></tr><tr><td>apresentou</td><td>1</td></tr><tr><td>segundo</td><td>1</td></tr><tr><td>pacientes</td><td>1</td></tr><tr><td>superferramenta</td><td>1</td></tr><tr><td>feitas</td><td>1</td></tr><tr><td>termo</td><td>1</td></tr><tr><td>dada</td><td>1</td></tr><tr><td>ligase</td><td>1</td></tr><tr><td>fascinado</td><td>1</td></tr><tr><td>queda</td><td>1</td></tr><tr><td>encontraram</td><td>1</td></tr><tr><td>high</td><td>1</td></tr><tr><td>origem</td><td>1</td></tr><tr><td>cresceu</td><td>1</td></tr><tr><td>resultados</td><td>1</td></tr><tr><td>recente</td><td>1</td></tr><tr><td>projeto</td><td>1</td></tr><tr><td>conjunto</td><td>1</td></tr><tr><td>confirmou</td><td>1</td></tr><tr><td>logotipo</td><td>1</td></tr><tr><td>momento</td><td>1</td></tr><tr><td>alga</td><td>1</td></tr><tr><td>humana</td><td>1</td></tr><tr><td>barreira</td><td>1</td></tr><tr><td>perguntas</td><td>1</td></tr><tr><td>explore</td><td>1</td></tr><tr><td>descoberta</td><td>1</td></tr><tr><td>theory</td><td>1</td></tr><tr><td>vezes</td><td>1</td></tr><tr><td>armazenar</td><td>1</td></tr><tr><td>atingir</td><td>1</td></tr><tr><td>acha</td><td>1</td></tr><tr><td>plataforma</td><td>1</td></tr><tr><td>vitro</td><td>1</td></tr><tr><td>investimento</td><td>1</td></tr><tr><td>leitura</td><td>1</td></tr><tr><td>quase</td><td>1</td></tr><tr><td>randi</td><td>1</td></tr><tr><td>plos</td><td>1</td></tr><tr><td>market</td><td>1</td></tr><tr><td>bauer</td><td>1</td></tr><tr><td>tigres</td><td>1</td></tr><tr><td>quaisquer</td><td>1</td></tr><tr><td>durante</td><td>1</td></tr><tr><td>unicelular</td><td>1</td></tr><tr><td>humanos</td><td>1</td></tr><tr><td>erectus</td><td>1</td></tr><tr><td>revolucionaram</td><td>1</td></tr><tr><td>pesquisadores</td><td>1</td></tr><tr><td>liderada</td><td>1</td></tr><tr><td>novas</td><td>1</td></tr><tr><td>infames</td><td>1</td></tr><tr><td>clientes</td><td>1</td></tr><tr><td>final</td><td>1</td></tr><tr><td>pouco</td><td>1</td></tr><tr><td>produtos</td><td>1</td></tr><tr><td>superam</td><td>1</td></tr><tr><td>alimentada</td><td>1</td></tr><tr><td>controla</td><td>1</td></tr><tr><td>crucial</td><td>1</td></tr><tr><td>of</td><td>1</td></tr><tr><td>avenidas</td><td>1</td></tr><tr><td>ciclo</td><td>1</td></tr><tr><td>triagem</td><td>1</td></tr><tr><td>onde</td><td>1</td></tr><tr><td>obtidos</td><td>1</td></tr><tr><td>baixar</td><td>1</td></tr><tr><td>world</td><td>1</td></tr><tr><td>felinos</td><td>1</td></tr><tr><td>assinaturas</td><td>1</td></tr><tr><td>editar</td><td>1</td></tr><tr><td>anular</td><td>1</td></tr><tr><td>llc</td><td>1</td></tr><tr><td>ngs</td><td>1</td></tr><tr><td>sofreu</td><td>1</td></tr><tr><td>construir</td><td>1</td></tr><tr><td>indica</td><td>1</td></tr><tr><td>desta</td><td>1</td></tr><tr><td>depletor</td><td>1</td></tr><tr><td>criaram</td><td>1</td></tr><tr><td>time</td><td>1</td></tr><tr><td>concentraram</td><td>1</td></tr><tr><td>alvos</td><td>1</td></tr><tr><td>pensei</td><td>1</td></tr><tr><td>dispararam</td><td>1</td></tr><tr><td>humanas</td><td>1</td></tr><tr><td>adquiriu</td><td>1</td></tr><tr><td>poucos</td><td>1</td></tr><tr><td>semana</td><td>1</td></tr><tr><td>revogar</td><td>1</td></tr><tr><td>baixo</td><td>1</td></tr><tr><td>ritmo</td><td>1</td></tr><tr><td>soube</td><td>1</td></tr><tr><td>todos</td><td>1</td></tr><tr><td>ursos</td><td>1</td></tr><tr><td>polares</td><td>1</td></tr><tr><td>produzidos</td><td>1</td></tr><tr><td>et</td><td>1</td></tr><tr><td>federation</td><td>1</td></tr><tr><td>estilo</td><td>1</td></tr><tr><td>escrever</td><td>1</td></tr><tr><td>fundada</td><td>1</td></tr><tr><td>mostram</td><td>1</td></tr><tr><td>ecdna</td><td>1</td></tr><tr><td>contexto</td><td>1</td></tr><tr><td>controle</td><td>1</td></tr><tr><td>zofingiensis</td><td>1</td></tr><tr><td>casos</td><td>1</td></tr><tr><td>le</td><td>1</td></tr><tr><td>medical</td><td>1</td></tr><tr><td>isolamento</td><td>1</td></tr><tr><td>transformar</td><td>1</td></tr><tr><td>firmou</td><td>1</td></tr><tr><td>comput</td><td>1</td></tr><tr><td>espiral</td><td>1</td></tr><tr><td>objeto</td><td>1</td></tr><tr><td>maioria</td><td>1</td></tr><tr><td>boletim</td><td>1</td></tr><tr><td>pesquisas</td><td>1</td></tr><tr><td>promotor</td><td>1</td></tr><tr><td>aterrorizar</td><td>1</td></tr><tr><td>presidente</td><td>1</td></tr><tr><td>beira</td><td>1</td></tr><tr><td>trouxeram</td><td>1</td></tr><tr><td>tentaram</td><td>1</td></tr><tr><td>escrita</td><td>1</td></tr><tr><td>muitas</td><td>1</td></tr><tr><td>criaturas</td><td>1</td></tr><tr><td>mundo</td><td>1</td></tr><tr><td>parceria</td><td>1</td></tr><tr><td>capacidade</td><td>1</td></tr><tr><td>ensaio</td><td>1</td></tr><tr><td>bertagnolli</td><td>1</td></tr><tr><td>animais</td><td>1</td></tr><tr><td>cutter</td><td>1</td></tr><tr><td>administrar</td><td>1</td></tr><tr><td>potencial</td><td>1</td></tr><tr><td>aita</td><td>1</td></tr><tr><td>alpha</td><td>1</td></tr><tr><td>amostras</td><td>1</td></tr><tr><td>trends</td><td>1</td></tr><tr><td>polimorfismo</td><td>1</td></tr><tr><td>identifica</td><td>1</td></tr><tr><td>share</td><td>1</td></tr><tr><td>facilitar</td><td>1</td></tr><tr><td>fachada</td><td>1</td></tr><tr><td>descobriu</td><td>1</td></tr><tr><td>neandertal</td><td>1</td></tr><tr><td>departamento</td><td>1</td></tr><tr><td>cerca</td><td>1</td></tr><tr><td>yale</td><td>1</td></tr><tr><td>concentra</td><td>1</td></tr><tr><td>fluxo</td><td>1</td></tr><tr><td>crescer</td><td>1</td></tr><tr><td>examinar</td><td>1</td></tr><tr><td>he</td><td>1</td></tr><tr><td>nessa</td><td>1</td></tr><tr><td>recentes</td><td>1</td></tr></tbody></table></div>"
      ]
     },
     "metadata": {
      "application/vnd.databricks.v1+output": {
       "addedWidgets": {},
       "aggData": [],
       "aggError": "",
       "aggOverflow": false,
       "aggSchema": [],
       "aggSeriesLimitReached": false,
       "aggType": "",
       "arguments": {},
       "columnCustomDisplayInfos": {},
       "data": [
        [
         "dna",
         16
        ],
        [
         "dados",
         11
        ],
        [
         "empresa",
         9
        ],
        [
         "sequenciamento",
         6
        ],
        [
         "outubro",
         6
        ],
        [
         "global",
         5
        ],
        [
         "sobre",
         5
        ],
        [
         "duas",
         4
        ],
        [
         "grandes",
         4
        ],
        [
         "homo",
         4
        ],
        [
         "anos",
         4
        ],
        [
         "hoje",
         4
        ],
        [
         "acampamento",
         4
        ],
        [
         "nova",
         3
        ],
        [
         "setembro",
         3
        ],
        [
         "medicina",
         3
        ],
        [
         "tipo",
         3
        ],
        [
         "testes",
         3
        ],
        [
         "dois",
         3
        ],
        [
         "desde",
         3
        ],
        [
         "todo",
         3
        ],
        [
         "genoma",
         3
        ],
        [
         "and",
         3
        ],
        [
         "acordo",
         3
        ],
        [
         "pesquisa",
         3
        ],
        [
         "pessoas",
         3
        ],
        [
         "tecnologias",
         3
        ],
        [
         "machos",
         3
        ],
        [
         "grande",
         3
        ],
        [
         "mercado",
         3
        ],
        [
         "poderia",
         2
        ],
        [
         "empresas",
         2
        ],
        [
         "ishares",
         2
        ],
        [
         "san",
         2
        ],
        [
         "maior",
         2
        ],
        [
         "pontes",
         2
        ],
        [
         "pode",
         2
        ],
        [
         "baseadas",
         2
        ],
        [
         "tecnologia",
         2
        ],
        [
         "ano",
         2
        ],
        [
         "oferta",
         2
        ],
        [
         "aterrorizaram",
         2
        ],
        [
         "enormes",
         2
        ],
        [
         "gosta",
         2
        ],
        [
         "estudos",
         2
        ],
        [
         "excluir",
         2
        ],
        [
         "aprendizado",
         2
        ],
        [
         "immunology",
         2
        ],
        [
         "muitos",
         2
        ],
        [
         "tendas",
         2
        ],
        [
         "genomics",
         2
        ],
        [
         "prever",
         2
        ],
        [
         "especializada",
         2
        ],
        [
         "neandertais",
         2
        ],
        [
         "humanidade",
         2
        ],
        [
         "kit",
         2
        ],
        [
         "propriedade",
         2
        ],
        [
         "quantidades",
         2
        ],
        [
         "rio",
         2
        ],
        [
         "anunciou",
         2
        ],
        [
         "etf",
         2
        ],
        [
         "ferramentas",
         2
        ],
        [
         "publicado",
         2
        ],
        [
         "biblioteca",
         2
        ],
        [
         "entraram",
         2
        ],
        [
         "patentes",
         2
        ],
        [
         "mil",
         2
        ],
        [
         "pessoais",
         2
        ],
        [
         "cientistas",
         2
        ],
        [
         "trabalho",
         2
        ],
        [
         "furtivamente",
         2
        ],
        [
         "deve",
         2
        ],
        [
         "descobertas",
         2
        ],
        [
         "rna",
         2
        ],
        [
         "healthcare",
         2
        ],
        [
         "anne",
         2
        ],
        [
         "adicionado",
         2
        ],
        [
         "ainda",
         2
        ],
        [
         "estudo",
         2
        ],
        [
         "obtenha",
         2
        ],
        [
         "t",
         2
        ],
        [
         "construtores",
         2
        ],
        [
         "novo",
         2
        ],
        [
         "invadiram",
         2
        ],
        [
         "subiu",
         1
        ],
        [
         "resolver",
         1
        ],
        [
         "geral",
         1
        ],
        [
         "detalhado",
         1
        ],
        [
         "presente",
         1
        ],
        [
         "unidos",
         1
        ],
        [
         "terra",
         1
        ],
        [
         "neste",
         1
        ],
        [
         "testei",
         1
        ],
        [
         "antigas",
         1
        ],
        [
         "fragment",
         1
        ],
        [
         "oportunidade",
         1
        ],
        [
         "adquirir",
         1
        ],
        [
         "provedora",
         1
        ],
        [
         "caracteriza",
         1
        ],
        [
         "agressivos",
         1
        ],
        [
         "ei",
         1
        ],
        [
         "mountain",
         1
        ],
        [
         "sendo",
         1
        ],
        [
         "crispr",
         1
        ],
        [
         "management",
         1
        ],
        [
         "estados",
         1
        ],
        [
         "sergei",
         1
        ],
        [
         "algumas",
         1
        ],
        [
         "cidade",
         1
        ],
        [
         "genedx",
         1
        ],
        [
         "coulter",
         1
        ],
        [
         "plano",
         1
        ],
        [
         "biologia",
         1
        ],
        [
         "ases",
         1
        ],
        [
         "pessoal",
         1
        ],
        [
         "adagenes",
         1
        ],
        [
         "pen",
         1
        ],
        [
         "peter",
         1
        ],
        [
         "conversa",
         1
        ],
        [
         "biotecnologia",
         1
        ],
        [
         "simples",
         1
        ],
        [
         "focada",
         1
        ],
        [
         "universidade",
         1
        ],
        [
         "emergente",
         1
        ],
        [
         "mama",
         1
        ],
        [
         "avaliamos",
         1
        ],
        [
         "totalmente",
         1
        ],
        [
         "vivem",
         1
        ],
        [
         "integrated",
         1
        ],
        [
         "aplicativo",
         1
        ],
        [
         "partir",
         1
        ],
        [
         "livros",
         1
        ],
        [
         "vender",
         1
        ],
        [
         "constante",
         1
        ],
        [
         "journal",
         1
        ],
        [
         "descendente",
         1
        ],
        [
         "bastante",
         1
        ],
        [
         "tornou",
         1
        ],
        [
         "transmitir",
         1
        ],
        [
         "engenharia",
         1
        ],
        [
         "cerveja",
         1
        ],
        [
         "monica",
         1
        ],
        [
         "anteriores",
         1
        ],
        [
         "coisas",
         1
        ],
        [
         "startup",
         1
        ],
        [
         "selecionados",
         1
        ],
        [
         "precisar",
         1
        ],
        [
         "interessante",
         1
        ],
        [
         "mudaram",
         1
        ],
        [
         "liu",
         1
        ],
        [
         "solicite",
         1
        ],
        [
         "wildlife",
         1
        ],
        [
         "resumo",
         1
        ],
        [
         "revista",
         1
        ],
        [
         "purificadas",
         1
        ],
        [
         "vincent",
         1
        ],
        [
         "material",
         1
        ],
        [
         "investment",
         1
        ],
        [
         "modelo",
         1
        ],
        [
         "desempenham",
         1
        ],
        [
         "erros",
         1
        ],
        [
         "holdings",
         1
        ],
        [
         "abordagens",
         1
        ],
        [
         "dia",
         1
        ],
        [
         "papel",
         1
        ],
        [
         "europeias",
         1
        ],
        [
         "negociadas",
         1
        ],
        [
         "biol",
         1
        ],
        [
         "cuspiram",
         1
        ],
        [
         "ceo",
         1
        ],
        [
         "negociada",
         1
        ],
        [
         "demaris",
         1
        ],
        [
         "motivos",
         1
        ],
        [
         "quererem",
         1
        ],
        [
         "responder",
         1
        ],
        [
         "tornaram",
         1
        ],
        [
         "neanderthalensis",
         1
        ],
        [
         "beckman",
         1
        ],
        [
         "acontecer",
         1
        ],
        [
         "mombaerts",
         1
        ],
        [
         "cima",
         1
        ],
        [
         "organismo",
         1
        ],
        [
         "fatores",
         1
        ],
        [
         "in",
         1
        ],
        [
         "concorrentes",
         1
        ],
        [
         "desses",
         1
        ],
        [
         "perto",
         1
        ],
        [
         "principais",
         1
        ],
        [
         "informativo",
         1
        ],
        [
         "meio",
         1
        ],
        [
         "tempo",
         1
        ],
        [
         "complexo",
         1
        ],
        [
         "queria",
         1
        ],
        [
         "chromochloris",
         1
        ],
        [
         "american",
         1
        ],
        [
         "kinast",
         1
        ],
        [
         "diretos",
         1
        ],
        [
         "convencionais",
         1
        ],
        [
         "colombo",
         1
        ],
        [
         "extras",
         1
        ],
        [
         "wojcicki",
         1
        ],
        [
         "incluindo",
         1
        ],
        [
         "apontando",
         1
        ],
        [
         "fortes",
         1
        ],
        [
         "trechos",
         1
        ],
        [
         "splicing",
         1
        ],
        [
         "ont",
         1
        ],
        [
         "verde",
         1
        ],
        [
         "bons",
         1
        ],
        [
         "cativeiro",
         1
        ],
        [
         "redwood",
         1
        ],
        [
         "gene",
         1
        ],
        [
         "chicco",
         1
        ],
        [
         "rendimento",
         1
        ],
        [
         "chefe",
         1
        ],
        [
         "conjuntos",
         1
        ],
        [
         "residem",
         1
        ],
        [
         "desenvolvimento",
         1
        ],
        [
         "advogada",
         1
        ],
        [
         "claro",
         1
        ],
        [
         "aproximadamente",
         1
        ],
        [
         "homem",
         1
        ],
        [
         "ficou",
         1
        ],
        [
         "relatos",
         1
        ],
        [
         "software",
         1
        ],
        [
         "usando",
         1
        ],
        [
         "nomeou",
         1
        ],
        [
         "comercial",
         1
        ],
        [
         "forma",
         1
        ],
        [
         "teste",
         1
        ],
        [
         "escola",
         1
        ],
        [
         "poderoso",
         1
        ],
        [
         "lata",
         1
        ],
        [
         "derivadas",
         1
        ],
        [
         "getty",
         1
        ],
        [
         "locais",
         1
        ],
        [
         "celular",
         1
        ],
        [
         "consumidor",
         1
        ],
        [
         "free",
         1
        ],
        [
         "telesis",
         1
        ],
        [
         "podem",
         1
        ],
        [
         "teoria",
         1
        ],
        [
         "doadores",
         1
        ],
        [
         "primeiro",
         1
        ],
        [
         "smith",
         1
        ],
        [
         "projetada",
         1
        ],
        [
         "mostraram",
         1
        ],
        [
         "life",
         1
        ],
        [
         "desenrolaram",
         1
        ],
        [
         "vitais",
         1
        ],
        [
         "intelectual",
         1
        ],
        [
         "nucleicos",
         1
        ],
        [
         "entrada",
         1
        ],
        [
         "esferas",
         1
        ],
        [
         "usaram",
         1
        ],
        [
         "tubos",
         1
        ],
        [
         "ubiquitina",
         1
        ],
        [
         "capital",
         1
        ],
        [
         "desafio",
         1
        ],
        [
         "bacterianas",
         1
        ],
        [
         "universo",
         1
        ],
        [
         "produzir",
         1
        ],
        [
         "chamadas",
         1
        ],
        [
         "retrospectiva",
         1
        ],
        [
         "alto",
         1
        ],
        [
         "bio",
         1
        ],
        [
         "lugar",
         1
        ],
        [
         "maiores",
         1
        ],
        [
         "testing",
         1
        ],
        [
         "minimizou",
         1
        ],
        [
         "sete",
         1
        ],
        [
         "conhecida",
         1
        ],
        [
         "advogados",
         1
        ],
        [
         "primeira",
         1
        ],
        [
         "mostrando",
         1
        ],
        [
         "d",
         1
        ],
        [
         "estima",
         1
        ],
        [
         "dinheiro",
         1
        ],
        [
         "viveram",
         1
        ],
        [
         "saiu",
         1
        ],
        [
         "magbio",
         1
        ],
        [
         "analysis",
         1
        ],
        [
         "ashbrook",
         1
        ],
        [
         "wonder",
         1
        ],
        [
         "donny",
         1
        ],
        [
         "paniccia",
         1
        ],
        [
         "filtrar",
         1
        ],
        [
         "biosets",
         1
        ],
        [
         "ideia",
         1
        ],
        [
         "maternas",
         1
        ],
        [
         "observar",
         1
        ],
        [
         "mills",
         1
        ],
        [
         "evoluiu",
         1
        ],
        [
         "batalha",
         1
        ],
        [
         "variantes",
         1
        ],
        [
         "boom",
         1
        ],
        [
         "singlera",
         1
        ],
        [
         "protocolo",
         1
        ],
        [
         "agora",
         1
        ],
        [
         "passo",
         1
        ],
        [
         "certo",
         1
        ],
        [
         "the",
         1
        ],
        [
         "intrigantes",
         1
        ],
        [
         "apresentou",
         1
        ],
        [
         "segundo",
         1
        ],
        [
         "pacientes",
         1
        ],
        [
         "superferramenta",
         1
        ],
        [
         "feitas",
         1
        ],
        [
         "termo",
         1
        ],
        [
         "dada",
         1
        ],
        [
         "ligase",
         1
        ],
        [
         "fascinado",
         1
        ],
        [
         "queda",
         1
        ],
        [
         "encontraram",
         1
        ],
        [
         "high",
         1
        ],
        [
         "origem",
         1
        ],
        [
         "cresceu",
         1
        ],
        [
         "resultados",
         1
        ],
        [
         "recente",
         1
        ],
        [
         "projeto",
         1
        ],
        [
         "conjunto",
         1
        ],
        [
         "confirmou",
         1
        ],
        [
         "logotipo",
         1
        ],
        [
         "momento",
         1
        ],
        [
         "alga",
         1
        ],
        [
         "humana",
         1
        ],
        [
         "barreira",
         1
        ],
        [
         "perguntas",
         1
        ],
        [
         "explore",
         1
        ],
        [
         "descoberta",
         1
        ],
        [
         "theory",
         1
        ],
        [
         "vezes",
         1
        ],
        [
         "armazenar",
         1
        ],
        [
         "atingir",
         1
        ],
        [
         "acha",
         1
        ],
        [
         "plataforma",
         1
        ],
        [
         "vitro",
         1
        ],
        [
         "investimento",
         1
        ],
        [
         "leitura",
         1
        ],
        [
         "quase",
         1
        ],
        [
         "randi",
         1
        ],
        [
         "plos",
         1
        ],
        [
         "market",
         1
        ],
        [
         "bauer",
         1
        ],
        [
         "tigres",
         1
        ],
        [
         "quaisquer",
         1
        ],
        [
         "durante",
         1
        ],
        [
         "unicelular",
         1
        ],
        [
         "humanos",
         1
        ],
        [
         "erectus",
         1
        ],
        [
         "revolucionaram",
         1
        ],
        [
         "pesquisadores",
         1
        ],
        [
         "liderada",
         1
        ],
        [
         "novas",
         1
        ],
        [
         "infames",
         1
        ],
        [
         "clientes",
         1
        ],
        [
         "final",
         1
        ],
        [
         "pouco",
         1
        ],
        [
         "produtos",
         1
        ],
        [
         "superam",
         1
        ],
        [
         "alimentada",
         1
        ],
        [
         "controla",
         1
        ],
        [
         "crucial",
         1
        ],
        [
         "of",
         1
        ],
        [
         "avenidas",
         1
        ],
        [
         "ciclo",
         1
        ],
        [
         "triagem",
         1
        ],
        [
         "onde",
         1
        ],
        [
         "obtidos",
         1
        ],
        [
         "baixar",
         1
        ],
        [
         "world",
         1
        ],
        [
         "felinos",
         1
        ],
        [
         "assinaturas",
         1
        ],
        [
         "editar",
         1
        ],
        [
         "anular",
         1
        ],
        [
         "llc",
         1
        ],
        [
         "ngs",
         1
        ],
        [
         "sofreu",
         1
        ],
        [
         "construir",
         1
        ],
        [
         "indica",
         1
        ],
        [
         "desta",
         1
        ],
        [
         "depletor",
         1
        ],
        [
         "criaram",
         1
        ],
        [
         "time",
         1
        ],
        [
         "concentraram",
         1
        ],
        [
         "alvos",
         1
        ],
        [
         "pensei",
         1
        ],
        [
         "dispararam",
         1
        ],
        [
         "humanas",
         1
        ],
        [
         "adquiriu",
         1
        ],
        [
         "poucos",
         1
        ],
        [
         "semana",
         1
        ],
        [
         "revogar",
         1
        ],
        [
         "baixo",
         1
        ],
        [
         "ritmo",
         1
        ],
        [
         "soube",
         1
        ],
        [
         "todos",
         1
        ],
        [
         "ursos",
         1
        ],
        [
         "polares",
         1
        ],
        [
         "produzidos",
         1
        ],
        [
         "et",
         1
        ],
        [
         "federation",
         1
        ],
        [
         "estilo",
         1
        ],
        [
         "escrever",
         1
        ],
        [
         "fundada",
         1
        ],
        [
         "mostram",
         1
        ],
        [
         "ecdna",
         1
        ],
        [
         "contexto",
         1
        ],
        [
         "controle",
         1
        ],
        [
         "zofingiensis",
         1
        ],
        [
         "casos",
         1
        ],
        [
         "le",
         1
        ],
        [
         "medical",
         1
        ],
        [
         "isolamento",
         1
        ],
        [
         "transformar",
         1
        ],
        [
         "firmou",
         1
        ],
        [
         "comput",
         1
        ],
        [
         "espiral",
         1
        ],
        [
         "objeto",
         1
        ],
        [
         "maioria",
         1
        ],
        [
         "boletim",
         1
        ],
        [
         "pesquisas",
         1
        ],
        [
         "promotor",
         1
        ],
        [
         "aterrorizar",
         1
        ],
        [
         "presidente",
         1
        ],
        [
         "beira",
         1
        ],
        [
         "trouxeram",
         1
        ],
        [
         "tentaram",
         1
        ],
        [
         "escrita",
         1
        ],
        [
         "muitas",
         1
        ],
        [
         "criaturas",
         1
        ],
        [
         "mundo",
         1
        ],
        [
         "parceria",
         1
        ],
        [
         "capacidade",
         1
        ],
        [
         "ensaio",
         1
        ],
        [
         "bertagnolli",
         1
        ],
        [
         "animais",
         1
        ],
        [
         "cutter",
         1
        ],
        [
         "administrar",
         1
        ],
        [
         "potencial",
         1
        ],
        [
         "aita",
         1
        ],
        [
         "alpha",
         1
        ],
        [
         "amostras",
         1
        ],
        [
         "trends",
         1
        ],
        [
         "polimorfismo",
         1
        ],
        [
         "identifica",
         1
        ],
        [
         "share",
         1
        ],
        [
         "facilitar",
         1
        ],
        [
         "fachada",
         1
        ],
        [
         "descobriu",
         1
        ],
        [
         "neandertal",
         1
        ],
        [
         "departamento",
         1
        ],
        [
         "cerca",
         1
        ],
        [
         "yale",
         1
        ],
        [
         "concentra",
         1
        ],
        [
         "fluxo",
         1
        ],
        [
         "crescer",
         1
        ],
        [
         "examinar",
         1
        ],
        [
         "he",
         1
        ],
        [
         "nessa",
         1
        ],
        [
         "recentes",
         1
        ]
       ],
       "datasetInfos": [],
       "dbfsResultPath": null,
       "isJsonSchema": true,
       "metadata": {},
       "overflow": false,
       "plotOptions": {
        "customPlotOptions": {},
        "displayType": "table",
        "pivotAggregation": null,
        "pivotColumns": null,
        "xColumns": null,
        "yColumns": null
       },
       "removedWidgets": [],
       "schema": [
        {
         "metadata": "{}",
         "name": "word",
         "type": "\"string\""
        },
        {
         "metadata": "{}",
         "name": "count",
         "type": "\"long\""
        }
       ],
       "type": "table"
      }
     },
     "output_type": "display_data"
    },
    {
     "output_type": "display_data",
     "data": {
      "text/plain": [
       "Databricks visualization. Run in Databricks to view."
      ]
     },
     "metadata": {
      "application/vnd.databricks.v1.subcommand+json": {
       "baseErrorDetails": null,
       "bindings": {},
       "collapsed": false,
       "command": "from pyspark.ml.feature import Tokenizer, StopWordsRemover\nfrom pyspark.sql import functions as F\nfrom pyspark.sql.functions import regexp_replace\nimport nltk\n\nnltk.download(\"stopwords\")\n\n# Tokenizando os textos\ntokenizer = Tokenizer(inputCol=\"content_pt\", outputCol=\"tokens\")\ndf_tokens = tokenizer.transform(df)\n\nstopwordList = nltk.corpus.stopwords.words('portuguese')\nremover = StopWordsRemover(inputCol='tokens', outputCol=\"filtered_tokens\", stopWords=stopwordList)\ndf_clean = remover.transform(df_tokens)\n\n# Remover números e caracteres especiais\ndf_clean = df_clean.withColumn(\"filtered_tokens\", \n    F.expr(\"filter(filtered_tokens, x -> x rlike '^[a-zA-Z]+$')\"))\n\n# Explodindo as palavras e contando as ocorrências\ndf_exploded = df_clean.withColumn(\"word\", F.explode(F.col(\"filtered_tokens\")))\n\n# Contando as frequências das palavras\ndf_word_count = df_exploded.groupBy(\"word\").count().orderBy(F.desc(\"count\"))\n\n# Selecionar as palavras mais frequentes (ex: top 100 palavras)\ntop_words = df_word_count.limit(100).collect()\n\ndf_word_count.display()",
       "commandTitle": "Visualization 1",
       "commandType": "auto",
       "commandVersion": 0,
       "commentThread": [],
       "commentsVisible": false,
       "contentSha256Hex": null,
       "customPlotOptions": {
        "redashChart": [
         {
          "key": "type",
          "value": "WORD_CLOUD"
         },
         {
          "key": "options",
          "value": {
           "column": "word",
           "frequenciesColumn": "count",
           "wordCountLimit": {
            "max": null,
            "min": null
           },
           "wordLengthLimit": {
            "max": null,
            "min": null
           }
          }
         }
        ]
       },
       "datasetPreviewNameToCmdIdMap": {},
       "diffDeletes": [],
       "diffInserts": [],
       "displayType": "redashChart",
       "error": null,
       "errorDetails": null,
       "errorSummary": null,
       "errorTraceType": null,
       "finishTime": 0,
       "globalVars": {},
       "guid": "",
       "height": "auto",
       "hideCommandCode": false,
       "hideCommandResult": false,
       "iPythonMetadata": null,
       "inputWidgets": {},
       "isLockedInExamMode": false,
       "latestUser": "a user",
       "latestUserId": null,
       "listResultMetadata": null,
       "metadata": {},
       "nuid": "4d71683f-d72a-4783-93a8-f7e5e0457220",
       "origId": 0,
       "parentHierarchy": [],
       "pivotAggregation": null,
       "pivotColumns": null,
       "position": 8.0,
       "resultDbfsErrorMessage": null,
       "resultDbfsStatus": "INLINED_IN_TREE",
       "results": null,
       "showCommandTitle": false,
       "startTime": 0,
       "state": "input",
       "streamStates": {},
       "subcommandOptions": {},
       "submitTime": 0,
       "subtype": "tableResultSubCmd.visualization",
       "tableResultIndex": 0,
       "tableResultSettingsMap": null,
       "useConsistentColors": false,
       "version": "CommandV1",
       "width": "auto",
       "workflows": [],
       "xColumns": null,
       "yColumns": null
      }
     },
     "output_type": "display_data"
    }
   ],
   "source": [
    "from pyspark.ml.feature import Tokenizer, StopWordsRemover\n",
    "from pyspark.sql import functions as F\n",
    "from pyspark.sql.functions import regexp_replace\n",
    "import nltk\n",
    "\n",
    "nltk.download(\"stopwords\")\n",
    "\n",
    "tokenizer = Tokenizer(inputCol=\"content_pt\", outputCol=\"tokens\")\n",
    "df_tokens = tokenizer.transform(df)\n",
    "\n",
    "stopwordList = nltk.corpus.stopwords.words('portuguese')\n",
    "remover = StopWordsRemover(inputCol='tokens', outputCol=\"filtered_tokens\", stopWords=stopwordList)\n",
    "df_clean = remover.transform(df_tokens)\n",
    "\n",
    "df_clean = df_clean.withColumn(\"filtered_tokens\", \n",
    "    F.expr(\"filter(filtered_tokens, x -> x rlike '^[a-zA-Z]+$')\"))\n",
    "\n",
    "df_exploded = df_clean.withColumn(\"word\", F.explode(F.col(\"filtered_tokens\")))\n",
    "\n",
    "df_word_count = df_exploded.groupBy(\"word\").count().orderBy(F.desc(\"count\"))\n",
    "\n",
    "top_words = df_word_count.limit(100).collect()\n",
    "\n",
    "df_word_count.display()"
   ]
  }
 ],
 "metadata": {
  "application/vnd.databricks.v1+notebook": {
   "dashboards": [],
   "environmentMetadata": null,
   "language": "python",
   "notebookMetadata": {
    "pythonIndentUnit": 4
   },
   "notebookName": "dataviz",
   "widgets": {}
  }
 },
 "nbformat": 4,
 "nbformat_minor": 0
}
